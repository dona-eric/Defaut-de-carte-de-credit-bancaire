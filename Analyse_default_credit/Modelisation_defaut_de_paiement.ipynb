{
 "cells": [
  {
   "cell_type": "markdown",
   "id": "4e493f40-ae70-45bc-ac64-434de43e64b0",
   "metadata": {},
   "source": [
    "#### 1- Importing the librairies"
   ]
  },
  {
   "cell_type": "code",
   "execution_count": 1,
   "id": "c96682d8-342a-4109-b69d-c9f095ea6fb0",
   "metadata": {},
   "outputs": [],
   "source": [
    "import pandas as pd\n",
    "import numpy as np\n",
    "import seaborn as sns\n",
    "import matplotlib.pyplot as plt"
   ]
  },
  {
   "cell_type": "code",
   "execution_count": 2,
   "id": "a5186e0a-619f-476d-95b2-803615ec564a",
   "metadata": {},
   "outputs": [
    {
     "data": {
      "text/html": [
       "<div>\n",
       "<style scoped>\n",
       "    .dataframe tbody tr th:only-of-type {\n",
       "        vertical-align: middle;\n",
       "    }\n",
       "\n",
       "    .dataframe tbody tr th {\n",
       "        vertical-align: top;\n",
       "    }\n",
       "\n",
       "    .dataframe thead th {\n",
       "        text-align: right;\n",
       "    }\n",
       "</style>\n",
       "<table border=\"1\" class=\"dataframe\">\n",
       "  <thead>\n",
       "    <tr style=\"text-align: right;\">\n",
       "      <th></th>\n",
       "      <th>ID</th>\n",
       "      <th>LIMIT_BAL</th>\n",
       "      <th>SEX</th>\n",
       "      <th>EDUCATION</th>\n",
       "      <th>MARRIAGE</th>\n",
       "      <th>AGE</th>\n",
       "      <th>PAY_0</th>\n",
       "      <th>PAY_2</th>\n",
       "      <th>PAY_3</th>\n",
       "      <th>PAY_4</th>\n",
       "      <th>...</th>\n",
       "      <th>BILL_AMT4</th>\n",
       "      <th>BILL_AMT5</th>\n",
       "      <th>BILL_AMT6</th>\n",
       "      <th>PAY_AMT1</th>\n",
       "      <th>PAY_AMT2</th>\n",
       "      <th>PAY_AMT3</th>\n",
       "      <th>PAY_AMT4</th>\n",
       "      <th>PAY_AMT5</th>\n",
       "      <th>PAY_AMT6</th>\n",
       "      <th>defaulted</th>\n",
       "    </tr>\n",
       "  </thead>\n",
       "  <tbody>\n",
       "    <tr>\n",
       "      <th>10099</th>\n",
       "      <td>10100</td>\n",
       "      <td>240000</td>\n",
       "      <td>2</td>\n",
       "      <td>1</td>\n",
       "      <td>2</td>\n",
       "      <td>28</td>\n",
       "      <td>1</td>\n",
       "      <td>-1</td>\n",
       "      <td>-1</td>\n",
       "      <td>-1</td>\n",
       "      <td>...</td>\n",
       "      <td>14944</td>\n",
       "      <td>968</td>\n",
       "      <td>10408</td>\n",
       "      <td>1748</td>\n",
       "      <td>0</td>\n",
       "      <td>14944</td>\n",
       "      <td>968</td>\n",
       "      <td>10408</td>\n",
       "      <td>0</td>\n",
       "      <td>1</td>\n",
       "    </tr>\n",
       "    <tr>\n",
       "      <th>20844</th>\n",
       "      <td>20845</td>\n",
       "      <td>30000</td>\n",
       "      <td>1</td>\n",
       "      <td>1</td>\n",
       "      <td>2</td>\n",
       "      <td>28</td>\n",
       "      <td>-1</td>\n",
       "      <td>-1</td>\n",
       "      <td>-1</td>\n",
       "      <td>-1</td>\n",
       "      <td>...</td>\n",
       "      <td>0</td>\n",
       "      <td>0</td>\n",
       "      <td>0</td>\n",
       "      <td>0</td>\n",
       "      <td>950</td>\n",
       "      <td>0</td>\n",
       "      <td>0</td>\n",
       "      <td>0</td>\n",
       "      <td>0</td>\n",
       "      <td>0</td>\n",
       "    </tr>\n",
       "    <tr>\n",
       "      <th>20698</th>\n",
       "      <td>20699</td>\n",
       "      <td>80000</td>\n",
       "      <td>1</td>\n",
       "      <td>3</td>\n",
       "      <td>2</td>\n",
       "      <td>44</td>\n",
       "      <td>0</td>\n",
       "      <td>0</td>\n",
       "      <td>0</td>\n",
       "      <td>0</td>\n",
       "      <td>...</td>\n",
       "      <td>4500</td>\n",
       "      <td>4500</td>\n",
       "      <td>0</td>\n",
       "      <td>2300</td>\n",
       "      <td>2200</td>\n",
       "      <td>1005</td>\n",
       "      <td>4500</td>\n",
       "      <td>0</td>\n",
       "      <td>0</td>\n",
       "      <td>1</td>\n",
       "    </tr>\n",
       "    <tr>\n",
       "      <th>14207</th>\n",
       "      <td>14208</td>\n",
       "      <td>80000</td>\n",
       "      <td>2</td>\n",
       "      <td>2</td>\n",
       "      <td>1</td>\n",
       "      <td>22</td>\n",
       "      <td>-1</td>\n",
       "      <td>-1</td>\n",
       "      <td>-1</td>\n",
       "      <td>-1</td>\n",
       "      <td>...</td>\n",
       "      <td>2146</td>\n",
       "      <td>1073</td>\n",
       "      <td>2761</td>\n",
       "      <td>2132</td>\n",
       "      <td>1667</td>\n",
       "      <td>2146</td>\n",
       "      <td>0</td>\n",
       "      <td>2761</td>\n",
       "      <td>1073</td>\n",
       "      <td>0</td>\n",
       "    </tr>\n",
       "    <tr>\n",
       "      <th>19739</th>\n",
       "      <td>19740</td>\n",
       "      <td>50000</td>\n",
       "      <td>2</td>\n",
       "      <td>2</td>\n",
       "      <td>1</td>\n",
       "      <td>46</td>\n",
       "      <td>2</td>\n",
       "      <td>3</td>\n",
       "      <td>3</td>\n",
       "      <td>2</td>\n",
       "      <td>...</td>\n",
       "      <td>54371</td>\n",
       "      <td>19946</td>\n",
       "      <td>17406</td>\n",
       "      <td>5000</td>\n",
       "      <td>0</td>\n",
       "      <td>0</td>\n",
       "      <td>613</td>\n",
       "      <td>573</td>\n",
       "      <td>593</td>\n",
       "      <td>1</td>\n",
       "    </tr>\n",
       "  </tbody>\n",
       "</table>\n",
       "<p>5 rows × 25 columns</p>\n",
       "</div>"
      ],
      "text/plain": [
       "          ID  LIMIT_BAL  SEX  EDUCATION  MARRIAGE  AGE  PAY_0  PAY_2  PAY_3  \\\n",
       "10099  10100     240000    2          1         2   28      1     -1     -1   \n",
       "20844  20845      30000    1          1         2   28     -1     -1     -1   \n",
       "20698  20699      80000    1          3         2   44      0      0      0   \n",
       "14207  14208      80000    2          2         1   22     -1     -1     -1   \n",
       "19739  19740      50000    2          2         1   46      2      3      3   \n",
       "\n",
       "       PAY_4  ...  BILL_AMT4  BILL_AMT5  BILL_AMT6  PAY_AMT1  PAY_AMT2  \\\n",
       "10099     -1  ...      14944        968      10408      1748         0   \n",
       "20844     -1  ...          0          0          0         0       950   \n",
       "20698      0  ...       4500       4500          0      2300      2200   \n",
       "14207     -1  ...       2146       1073       2761      2132      1667   \n",
       "19739      2  ...      54371      19946      17406      5000         0   \n",
       "\n",
       "       PAY_AMT3  PAY_AMT4  PAY_AMT5  PAY_AMT6  defaulted  \n",
       "10099     14944       968     10408         0          1  \n",
       "20844         0         0         0         0          0  \n",
       "20698      1005      4500         0         0          1  \n",
       "14207      2146         0      2761      1073          0  \n",
       "19739         0       613       573       593          1  \n",
       "\n",
       "[5 rows x 25 columns]"
      ]
     },
     "execution_count": 2,
     "metadata": {},
     "output_type": "execute_result"
    }
   ],
   "source": [
    "#### importing the data\n",
    "df = pd.read_csv('../data_credit/credit-card-default.csv')\n",
    "df.sample(5)"
   ]
  },
  {
   "cell_type": "code",
   "execution_count": 3,
   "id": "8ed04ce4-449b-403a-97f6-2b0481f68a79",
   "metadata": {
    "scrolled": true
   },
   "outputs": [
    {
     "data": {
      "text/html": [
       "<div>\n",
       "<style scoped>\n",
       "    .dataframe tbody tr th:only-of-type {\n",
       "        vertical-align: middle;\n",
       "    }\n",
       "\n",
       "    .dataframe tbody tr th {\n",
       "        vertical-align: top;\n",
       "    }\n",
       "\n",
       "    .dataframe thead th {\n",
       "        text-align: right;\n",
       "    }\n",
       "</style>\n",
       "<table border=\"1\" class=\"dataframe\">\n",
       "  <thead>\n",
       "    <tr style=\"text-align: right;\">\n",
       "      <th></th>\n",
       "      <th>count</th>\n",
       "      <th>mean</th>\n",
       "      <th>std</th>\n",
       "      <th>min</th>\n",
       "      <th>25%</th>\n",
       "      <th>50%</th>\n",
       "      <th>75%</th>\n",
       "      <th>max</th>\n",
       "    </tr>\n",
       "  </thead>\n",
       "  <tbody>\n",
       "    <tr>\n",
       "      <th>ID</th>\n",
       "      <td>30000.0</td>\n",
       "      <td>15000.500000</td>\n",
       "      <td>8660.398374</td>\n",
       "      <td>1.0</td>\n",
       "      <td>7500.75</td>\n",
       "      <td>15000.5</td>\n",
       "      <td>22500.25</td>\n",
       "      <td>30000.0</td>\n",
       "    </tr>\n",
       "    <tr>\n",
       "      <th>LIMIT_BAL</th>\n",
       "      <td>30000.0</td>\n",
       "      <td>167484.322667</td>\n",
       "      <td>129747.661567</td>\n",
       "      <td>10000.0</td>\n",
       "      <td>50000.00</td>\n",
       "      <td>140000.0</td>\n",
       "      <td>240000.00</td>\n",
       "      <td>1000000.0</td>\n",
       "    </tr>\n",
       "    <tr>\n",
       "      <th>SEX</th>\n",
       "      <td>30000.0</td>\n",
       "      <td>1.603733</td>\n",
       "      <td>0.489129</td>\n",
       "      <td>1.0</td>\n",
       "      <td>1.00</td>\n",
       "      <td>2.0</td>\n",
       "      <td>2.00</td>\n",
       "      <td>2.0</td>\n",
       "    </tr>\n",
       "    <tr>\n",
       "      <th>EDUCATION</th>\n",
       "      <td>30000.0</td>\n",
       "      <td>1.853133</td>\n",
       "      <td>0.790349</td>\n",
       "      <td>0.0</td>\n",
       "      <td>1.00</td>\n",
       "      <td>2.0</td>\n",
       "      <td>2.00</td>\n",
       "      <td>6.0</td>\n",
       "    </tr>\n",
       "    <tr>\n",
       "      <th>MARRIAGE</th>\n",
       "      <td>30000.0</td>\n",
       "      <td>1.551867</td>\n",
       "      <td>0.521970</td>\n",
       "      <td>0.0</td>\n",
       "      <td>1.00</td>\n",
       "      <td>2.0</td>\n",
       "      <td>2.00</td>\n",
       "      <td>3.0</td>\n",
       "    </tr>\n",
       "    <tr>\n",
       "      <th>AGE</th>\n",
       "      <td>30000.0</td>\n",
       "      <td>35.485500</td>\n",
       "      <td>9.217904</td>\n",
       "      <td>21.0</td>\n",
       "      <td>28.00</td>\n",
       "      <td>34.0</td>\n",
       "      <td>41.00</td>\n",
       "      <td>79.0</td>\n",
       "    </tr>\n",
       "    <tr>\n",
       "      <th>PAY_0</th>\n",
       "      <td>30000.0</td>\n",
       "      <td>-0.016700</td>\n",
       "      <td>1.123802</td>\n",
       "      <td>-2.0</td>\n",
       "      <td>-1.00</td>\n",
       "      <td>0.0</td>\n",
       "      <td>0.00</td>\n",
       "      <td>8.0</td>\n",
       "    </tr>\n",
       "    <tr>\n",
       "      <th>PAY_2</th>\n",
       "      <td>30000.0</td>\n",
       "      <td>-0.133767</td>\n",
       "      <td>1.197186</td>\n",
       "      <td>-2.0</td>\n",
       "      <td>-1.00</td>\n",
       "      <td>0.0</td>\n",
       "      <td>0.00</td>\n",
       "      <td>8.0</td>\n",
       "    </tr>\n",
       "    <tr>\n",
       "      <th>PAY_3</th>\n",
       "      <td>30000.0</td>\n",
       "      <td>-0.166200</td>\n",
       "      <td>1.196868</td>\n",
       "      <td>-2.0</td>\n",
       "      <td>-1.00</td>\n",
       "      <td>0.0</td>\n",
       "      <td>0.00</td>\n",
       "      <td>8.0</td>\n",
       "    </tr>\n",
       "    <tr>\n",
       "      <th>PAY_4</th>\n",
       "      <td>30000.0</td>\n",
       "      <td>-0.220667</td>\n",
       "      <td>1.169139</td>\n",
       "      <td>-2.0</td>\n",
       "      <td>-1.00</td>\n",
       "      <td>0.0</td>\n",
       "      <td>0.00</td>\n",
       "      <td>8.0</td>\n",
       "    </tr>\n",
       "    <tr>\n",
       "      <th>PAY_5</th>\n",
       "      <td>30000.0</td>\n",
       "      <td>-0.266200</td>\n",
       "      <td>1.133187</td>\n",
       "      <td>-2.0</td>\n",
       "      <td>-1.00</td>\n",
       "      <td>0.0</td>\n",
       "      <td>0.00</td>\n",
       "      <td>8.0</td>\n",
       "    </tr>\n",
       "    <tr>\n",
       "      <th>PAY_6</th>\n",
       "      <td>30000.0</td>\n",
       "      <td>-0.291100</td>\n",
       "      <td>1.149988</td>\n",
       "      <td>-2.0</td>\n",
       "      <td>-1.00</td>\n",
       "      <td>0.0</td>\n",
       "      <td>0.00</td>\n",
       "      <td>8.0</td>\n",
       "    </tr>\n",
       "    <tr>\n",
       "      <th>BILL_AMT1</th>\n",
       "      <td>30000.0</td>\n",
       "      <td>51223.330900</td>\n",
       "      <td>73635.860576</td>\n",
       "      <td>-165580.0</td>\n",
       "      <td>3558.75</td>\n",
       "      <td>22381.5</td>\n",
       "      <td>67091.00</td>\n",
       "      <td>964511.0</td>\n",
       "    </tr>\n",
       "    <tr>\n",
       "      <th>BILL_AMT2</th>\n",
       "      <td>30000.0</td>\n",
       "      <td>49179.075167</td>\n",
       "      <td>71173.768783</td>\n",
       "      <td>-69777.0</td>\n",
       "      <td>2984.75</td>\n",
       "      <td>21200.0</td>\n",
       "      <td>64006.25</td>\n",
       "      <td>983931.0</td>\n",
       "    </tr>\n",
       "    <tr>\n",
       "      <th>BILL_AMT3</th>\n",
       "      <td>30000.0</td>\n",
       "      <td>47013.154800</td>\n",
       "      <td>69349.387427</td>\n",
       "      <td>-157264.0</td>\n",
       "      <td>2666.25</td>\n",
       "      <td>20088.5</td>\n",
       "      <td>60164.75</td>\n",
       "      <td>1664089.0</td>\n",
       "    </tr>\n",
       "    <tr>\n",
       "      <th>BILL_AMT4</th>\n",
       "      <td>30000.0</td>\n",
       "      <td>43262.948967</td>\n",
       "      <td>64332.856134</td>\n",
       "      <td>-170000.0</td>\n",
       "      <td>2326.75</td>\n",
       "      <td>19052.0</td>\n",
       "      <td>54506.00</td>\n",
       "      <td>891586.0</td>\n",
       "    </tr>\n",
       "    <tr>\n",
       "      <th>BILL_AMT5</th>\n",
       "      <td>30000.0</td>\n",
       "      <td>40311.400967</td>\n",
       "      <td>60797.155770</td>\n",
       "      <td>-81334.0</td>\n",
       "      <td>1763.00</td>\n",
       "      <td>18104.5</td>\n",
       "      <td>50190.50</td>\n",
       "      <td>927171.0</td>\n",
       "    </tr>\n",
       "    <tr>\n",
       "      <th>BILL_AMT6</th>\n",
       "      <td>30000.0</td>\n",
       "      <td>38871.760400</td>\n",
       "      <td>59554.107537</td>\n",
       "      <td>-339603.0</td>\n",
       "      <td>1256.00</td>\n",
       "      <td>17071.0</td>\n",
       "      <td>49198.25</td>\n",
       "      <td>961664.0</td>\n",
       "    </tr>\n",
       "    <tr>\n",
       "      <th>PAY_AMT1</th>\n",
       "      <td>30000.0</td>\n",
       "      <td>5663.580500</td>\n",
       "      <td>16563.280354</td>\n",
       "      <td>0.0</td>\n",
       "      <td>1000.00</td>\n",
       "      <td>2100.0</td>\n",
       "      <td>5006.00</td>\n",
       "      <td>873552.0</td>\n",
       "    </tr>\n",
       "    <tr>\n",
       "      <th>PAY_AMT2</th>\n",
       "      <td>30000.0</td>\n",
       "      <td>5921.163500</td>\n",
       "      <td>23040.870402</td>\n",
       "      <td>0.0</td>\n",
       "      <td>833.00</td>\n",
       "      <td>2009.0</td>\n",
       "      <td>5000.00</td>\n",
       "      <td>1684259.0</td>\n",
       "    </tr>\n",
       "    <tr>\n",
       "      <th>PAY_AMT3</th>\n",
       "      <td>30000.0</td>\n",
       "      <td>5225.681500</td>\n",
       "      <td>17606.961470</td>\n",
       "      <td>0.0</td>\n",
       "      <td>390.00</td>\n",
       "      <td>1800.0</td>\n",
       "      <td>4505.00</td>\n",
       "      <td>896040.0</td>\n",
       "    </tr>\n",
       "    <tr>\n",
       "      <th>PAY_AMT4</th>\n",
       "      <td>30000.0</td>\n",
       "      <td>4826.076867</td>\n",
       "      <td>15666.159744</td>\n",
       "      <td>0.0</td>\n",
       "      <td>296.00</td>\n",
       "      <td>1500.0</td>\n",
       "      <td>4013.25</td>\n",
       "      <td>621000.0</td>\n",
       "    </tr>\n",
       "    <tr>\n",
       "      <th>PAY_AMT5</th>\n",
       "      <td>30000.0</td>\n",
       "      <td>4799.387633</td>\n",
       "      <td>15278.305679</td>\n",
       "      <td>0.0</td>\n",
       "      <td>252.50</td>\n",
       "      <td>1500.0</td>\n",
       "      <td>4031.50</td>\n",
       "      <td>426529.0</td>\n",
       "    </tr>\n",
       "    <tr>\n",
       "      <th>PAY_AMT6</th>\n",
       "      <td>30000.0</td>\n",
       "      <td>5215.502567</td>\n",
       "      <td>17777.465775</td>\n",
       "      <td>0.0</td>\n",
       "      <td>117.75</td>\n",
       "      <td>1500.0</td>\n",
       "      <td>4000.00</td>\n",
       "      <td>528666.0</td>\n",
       "    </tr>\n",
       "    <tr>\n",
       "      <th>defaulted</th>\n",
       "      <td>30000.0</td>\n",
       "      <td>0.221200</td>\n",
       "      <td>0.415062</td>\n",
       "      <td>0.0</td>\n",
       "      <td>0.00</td>\n",
       "      <td>0.0</td>\n",
       "      <td>0.00</td>\n",
       "      <td>1.0</td>\n",
       "    </tr>\n",
       "  </tbody>\n",
       "</table>\n",
       "</div>"
      ],
      "text/plain": [
       "             count           mean            std       min       25%  \\\n",
       "ID         30000.0   15000.500000    8660.398374       1.0   7500.75   \n",
       "LIMIT_BAL  30000.0  167484.322667  129747.661567   10000.0  50000.00   \n",
       "SEX        30000.0       1.603733       0.489129       1.0      1.00   \n",
       "EDUCATION  30000.0       1.853133       0.790349       0.0      1.00   \n",
       "MARRIAGE   30000.0       1.551867       0.521970       0.0      1.00   \n",
       "AGE        30000.0      35.485500       9.217904      21.0     28.00   \n",
       "PAY_0      30000.0      -0.016700       1.123802      -2.0     -1.00   \n",
       "PAY_2      30000.0      -0.133767       1.197186      -2.0     -1.00   \n",
       "PAY_3      30000.0      -0.166200       1.196868      -2.0     -1.00   \n",
       "PAY_4      30000.0      -0.220667       1.169139      -2.0     -1.00   \n",
       "PAY_5      30000.0      -0.266200       1.133187      -2.0     -1.00   \n",
       "PAY_6      30000.0      -0.291100       1.149988      -2.0     -1.00   \n",
       "BILL_AMT1  30000.0   51223.330900   73635.860576 -165580.0   3558.75   \n",
       "BILL_AMT2  30000.0   49179.075167   71173.768783  -69777.0   2984.75   \n",
       "BILL_AMT3  30000.0   47013.154800   69349.387427 -157264.0   2666.25   \n",
       "BILL_AMT4  30000.0   43262.948967   64332.856134 -170000.0   2326.75   \n",
       "BILL_AMT5  30000.0   40311.400967   60797.155770  -81334.0   1763.00   \n",
       "BILL_AMT6  30000.0   38871.760400   59554.107537 -339603.0   1256.00   \n",
       "PAY_AMT1   30000.0    5663.580500   16563.280354       0.0   1000.00   \n",
       "PAY_AMT2   30000.0    5921.163500   23040.870402       0.0    833.00   \n",
       "PAY_AMT3   30000.0    5225.681500   17606.961470       0.0    390.00   \n",
       "PAY_AMT4   30000.0    4826.076867   15666.159744       0.0    296.00   \n",
       "PAY_AMT5   30000.0    4799.387633   15278.305679       0.0    252.50   \n",
       "PAY_AMT6   30000.0    5215.502567   17777.465775       0.0    117.75   \n",
       "defaulted  30000.0       0.221200       0.415062       0.0      0.00   \n",
       "\n",
       "                50%        75%        max  \n",
       "ID          15000.5   22500.25    30000.0  \n",
       "LIMIT_BAL  140000.0  240000.00  1000000.0  \n",
       "SEX             2.0       2.00        2.0  \n",
       "EDUCATION       2.0       2.00        6.0  \n",
       "MARRIAGE        2.0       2.00        3.0  \n",
       "AGE            34.0      41.00       79.0  \n",
       "PAY_0           0.0       0.00        8.0  \n",
       "PAY_2           0.0       0.00        8.0  \n",
       "PAY_3           0.0       0.00        8.0  \n",
       "PAY_4           0.0       0.00        8.0  \n",
       "PAY_5           0.0       0.00        8.0  \n",
       "PAY_6           0.0       0.00        8.0  \n",
       "BILL_AMT1   22381.5   67091.00   964511.0  \n",
       "BILL_AMT2   21200.0   64006.25   983931.0  \n",
       "BILL_AMT3   20088.5   60164.75  1664089.0  \n",
       "BILL_AMT4   19052.0   54506.00   891586.0  \n",
       "BILL_AMT5   18104.5   50190.50   927171.0  \n",
       "BILL_AMT6   17071.0   49198.25   961664.0  \n",
       "PAY_AMT1     2100.0    5006.00   873552.0  \n",
       "PAY_AMT2     2009.0    5000.00  1684259.0  \n",
       "PAY_AMT3     1800.0    4505.00   896040.0  \n",
       "PAY_AMT4     1500.0    4013.25   621000.0  \n",
       "PAY_AMT5     1500.0    4031.50   426529.0  \n",
       "PAY_AMT6     1500.0    4000.00   528666.0  \n",
       "defaulted       0.0       0.00        1.0  "
      ]
     },
     "execution_count": 3,
     "metadata": {},
     "output_type": "execute_result"
    }
   ],
   "source": [
    "pd.DataFrame(df.describe().T)"
   ]
  },
  {
   "cell_type": "code",
   "execution_count": 4,
   "id": "c19ac1d5-83e4-49e1-9dbf-5b8610da8443",
   "metadata": {},
   "outputs": [
    {
     "data": {
      "text/plain": [
       "defaulted\n",
       "0    23364\n",
       "1     6636\n",
       "Name: count, dtype: int64"
      ]
     },
     "execution_count": 4,
     "metadata": {},
     "output_type": "execute_result"
    }
   ],
   "source": [
    "df.defaulted.value_counts()"
   ]
  },
  {
   "cell_type": "code",
   "execution_count": 5,
   "id": "959049a9-e728-44ba-81ab-90dd5c785145",
   "metadata": {},
   "outputs": [
    {
     "data": {
      "text/plain": [
       "EDUCATION\n",
       "0       14\n",
       "6       51\n",
       "4      123\n",
       "5      280\n",
       "3     4917\n",
       "1    10585\n",
       "2    14030\n",
       "Name: count, dtype: int64"
      ]
     },
     "execution_count": 5,
     "metadata": {},
     "output_type": "execute_result"
    }
   ],
   "source": [
    "df.EDUCATION.value_counts().sort_values(ascending=True)"
   ]
  },
  {
   "cell_type": "code",
   "execution_count": null,
   "id": "88584683-2dce-4c6a-bc72-5e7bdf526ba9",
   "metadata": {},
   "outputs": [
    {
     "data": {
      "text/plain": [
       "MARRIAGE\n",
       "2    15964\n",
       "1    13659\n",
       "3      323\n",
       "0       54\n",
       "Name: count, dtype: int64"
      ]
     },
     "execution_count": 6,
     "metadata": {},
     "output_type": "execute_result"
    }
   ],
   "source": [
    "df.MARRIAGE.value_counts()"
   ]
  },
  {
   "cell_type": "markdown",
   "id": "82e0f5d3-b124-450f-afc2-1a356c4b03bd",
   "metadata": {},
   "source": [
    "###  2--RESUME\n",
    "* Un déséquilbre la classe cible (defaulted), une technique de rechantillonage sera appliqué\n",
    "* pour la variable education (le niveau 5 et 6 ne mentionne rien donc on prefererait les regrouper dans la categorie 4 et poir marriage egalement\n",
    "* Le VIF mesure combien la variance d'un coefficient est amplifiée par la présence de colinéarité avec les autres variables. Un VIF supérieur à 5 ou 10 est généralement considéré comme un signe de colinéarité élevée.\n",
    "* Calcul : Le VIF est calculé pour chaque variable en ajustant un modèle de régression avec cette variable comme cible, puis en regardant la variance expliquée par les autres variables.\n",
    "\n",
    "* BILL_AMT1  20.822611\n",
    "12  BILL_AMT2  38.215095\n",
    "13  BILL_AMT3  31.782841\n",
    "14  BILL_AMT4  29.548014\n",
    "15  BILL_AMT5  35.988395\n",
    "16  BILL_AMT6  21.425905 . Ces variables sont vraiment colinéaires entre elles, la carte thermique le justifie avec un coefficient de colinéarité proches de 1( environ 0.80).\n",
    "* On passe à un première modelisation mais avant ca, il faut equilibrer les classes"
   ]
  },
  {
   "cell_type": "code",
   "execution_count": 7,
   "id": "4313ca02-75e5-45fc-b295-2d8fd6b0ec42",
   "metadata": {},
   "outputs": [
    {
     "data": {
      "text/plain": [
       "EDUCATION\n",
       "4      468\n",
       "3     4917\n",
       "1    10585\n",
       "2    14030\n",
       "Name: count, dtype: int64"
      ]
     },
     "execution_count": 7,
     "metadata": {},
     "output_type": "execute_result"
    }
   ],
   "source": [
    "categorie_5_6 = (df.EDUCATION ==5) | (df.EDUCATION == 6) | (df.EDUCATION == 0)\n",
    "\n",
    "enter  = df.loc[categorie_5_6, 'EDUCATION'] = 4\n",
    "df.EDUCATION.value_counts().sort_values(ascending= True)"
   ]
  },
  {
   "cell_type": "code",
   "execution_count": 8,
   "id": "5ab85f37-1346-4308-afac-7eb7b694e0d0",
   "metadata": {},
   "outputs": [
    {
     "data": {
      "text/plain": [
       "MARRIAGE\n",
       "2    15964\n",
       "1    13659\n",
       "3      377\n",
       "Name: count, dtype: int64"
      ]
     },
     "execution_count": 8,
     "metadata": {},
     "output_type": "execute_result"
    }
   ],
   "source": [
    "df.loc[df.MARRIAGE ==0, 'MARRIAGE'] = 3\n",
    "df.MARRIAGE.value_counts()"
   ]
  },
  {
   "cell_type": "code",
   "execution_count": 9,
   "id": "1e1244c1-1b99-4e43-9d69-b18572b431ca",
   "metadata": {},
   "outputs": [
    {
     "data": {
      "text/plain": [
       "ID           0\n",
       "LIMIT_BAL    0\n",
       "SEX          0\n",
       "EDUCATION    0\n",
       "MARRIAGE     0\n",
       "AGE          0\n",
       "PAY_0        0\n",
       "PAY_2        0\n",
       "PAY_3        0\n",
       "PAY_4        0\n",
       "PAY_5        0\n",
       "PAY_6        0\n",
       "BILL_AMT1    0\n",
       "BILL_AMT2    0\n",
       "BILL_AMT3    0\n",
       "BILL_AMT4    0\n",
       "BILL_AMT5    0\n",
       "BILL_AMT6    0\n",
       "PAY_AMT1     0\n",
       "PAY_AMT2     0\n",
       "PAY_AMT3     0\n",
       "PAY_AMT4     0\n",
       "PAY_AMT5     0\n",
       "PAY_AMT6     0\n",
       "defaulted    0\n",
       "dtype: int64"
      ]
     },
     "execution_count": 9,
     "metadata": {},
     "output_type": "execute_result"
    }
   ],
   "source": [
    "df.isnull().sum()"
   ]
  },
  {
   "cell_type": "code",
   "execution_count": 10,
   "id": "3fef7b10-fda0-4241-9009-6e5f6f07c583",
   "metadata": {},
   "outputs": [
    {
     "data": {
      "text/plain": [
       "np.int64(0)"
      ]
     },
     "execution_count": 10,
     "metadata": {},
     "output_type": "execute_result"
    }
   ],
   "source": [
    "df.duplicated().sum()"
   ]
  },
  {
   "cell_type": "code",
   "execution_count": 11,
   "id": "e2b404a3-349f-4225-b879-157ed478e77b",
   "metadata": {},
   "outputs": [],
   "source": [
    "df = df.drop('ID', axis = 1)"
   ]
  },
  {
   "cell_type": "code",
   "execution_count": 12,
   "id": "ac85da3c-0803-4d19-ae49-04c7066135f6",
   "metadata": {},
   "outputs": [
    {
     "data": {
      "text/html": [
       "<div>\n",
       "<style scoped>\n",
       "    .dataframe tbody tr th:only-of-type {\n",
       "        vertical-align: middle;\n",
       "    }\n",
       "\n",
       "    .dataframe tbody tr th {\n",
       "        vertical-align: top;\n",
       "    }\n",
       "\n",
       "    .dataframe thead th {\n",
       "        text-align: right;\n",
       "    }\n",
       "</style>\n",
       "<table border=\"1\" class=\"dataframe\">\n",
       "  <thead>\n",
       "    <tr style=\"text-align: right;\">\n",
       "      <th></th>\n",
       "      <th>LIMIT_BAL</th>\n",
       "      <th>SEX</th>\n",
       "      <th>EDUCATION</th>\n",
       "      <th>MARRIAGE</th>\n",
       "      <th>AGE</th>\n",
       "      <th>PAY_0</th>\n",
       "      <th>PAY_2</th>\n",
       "      <th>PAY_3</th>\n",
       "      <th>PAY_4</th>\n",
       "      <th>PAY_5</th>\n",
       "      <th>...</th>\n",
       "      <th>BILL_AMT4</th>\n",
       "      <th>BILL_AMT5</th>\n",
       "      <th>BILL_AMT6</th>\n",
       "      <th>PAY_AMT1</th>\n",
       "      <th>PAY_AMT2</th>\n",
       "      <th>PAY_AMT3</th>\n",
       "      <th>PAY_AMT4</th>\n",
       "      <th>PAY_AMT5</th>\n",
       "      <th>PAY_AMT6</th>\n",
       "      <th>defaulted</th>\n",
       "    </tr>\n",
       "  </thead>\n",
       "  <tbody>\n",
       "    <tr>\n",
       "      <th>13911</th>\n",
       "      <td>450000</td>\n",
       "      <td>1</td>\n",
       "      <td>1</td>\n",
       "      <td>1</td>\n",
       "      <td>48</td>\n",
       "      <td>-2</td>\n",
       "      <td>-2</td>\n",
       "      <td>-2</td>\n",
       "      <td>-2</td>\n",
       "      <td>-2</td>\n",
       "      <td>...</td>\n",
       "      <td>22048</td>\n",
       "      <td>20926</td>\n",
       "      <td>13187</td>\n",
       "      <td>80191</td>\n",
       "      <td>37417</td>\n",
       "      <td>22080</td>\n",
       "      <td>20926</td>\n",
       "      <td>13337</td>\n",
       "      <td>88744</td>\n",
       "      <td>0</td>\n",
       "    </tr>\n",
       "    <tr>\n",
       "      <th>13601</th>\n",
       "      <td>30000</td>\n",
       "      <td>2</td>\n",
       "      <td>3</td>\n",
       "      <td>2</td>\n",
       "      <td>27</td>\n",
       "      <td>-1</td>\n",
       "      <td>-1</td>\n",
       "      <td>0</td>\n",
       "      <td>0</td>\n",
       "      <td>0</td>\n",
       "      <td>...</td>\n",
       "      <td>12490</td>\n",
       "      <td>13990</td>\n",
       "      <td>300</td>\n",
       "      <td>3565</td>\n",
       "      <td>12591</td>\n",
       "      <td>490</td>\n",
       "      <td>1500</td>\n",
       "      <td>300</td>\n",
       "      <td>0</td>\n",
       "      <td>0</td>\n",
       "    </tr>\n",
       "  </tbody>\n",
       "</table>\n",
       "<p>2 rows × 24 columns</p>\n",
       "</div>"
      ],
      "text/plain": [
       "       LIMIT_BAL  SEX  EDUCATION  MARRIAGE  AGE  PAY_0  PAY_2  PAY_3  PAY_4  \\\n",
       "13911     450000    1          1         1   48     -2     -2     -2     -2   \n",
       "13601      30000    2          3         2   27     -1     -1      0      0   \n",
       "\n",
       "       PAY_5  ...  BILL_AMT4  BILL_AMT5  BILL_AMT6  PAY_AMT1  PAY_AMT2  \\\n",
       "13911     -2  ...      22048      20926      13187     80191     37417   \n",
       "13601      0  ...      12490      13990        300      3565     12591   \n",
       "\n",
       "       PAY_AMT3  PAY_AMT4  PAY_AMT5  PAY_AMT6  defaulted  \n",
       "13911     22080     20926     13337     88744          0  \n",
       "13601       490      1500       300         0          0  \n",
       "\n",
       "[2 rows x 24 columns]"
      ]
     },
     "execution_count": 12,
     "metadata": {},
     "output_type": "execute_result"
    }
   ],
   "source": [
    "df.sample(2)"
   ]
  },
  {
   "cell_type": "code",
   "execution_count": 13,
   "id": "7c0bbe10-9f0e-4e3d-b8b7-1f2a7d16c584",
   "metadata": {},
   "outputs": [
    {
     "data": {
      "image/png": "[encoded data removed]",
      "text/plain": [
       "<Figure size 1200x1000 with 2 Axes>"
      ]
     },
     "metadata": {},
     "output_type": "display_data"
    }
   ],
   "source": [
    "import seaborn as sns\n",
    "import matplotlib.pyplot as plt\n",
    "\n",
    "plt.figure(figsize=(12, 10))\n",
    "sns.heatmap(df.corr(), annot=True, cmap=\"coolwarm\", fmt=\".2f\")\n",
    "plt.title(\"Matrice de Corrélation\")\n",
    "plt.show()\n"
   ]
  },
  {
   "cell_type": "markdown",
   "id": "3cdc9637-f3c7-448b-a7c6-597998506d23",
   "metadata": {},
   "source": [
    "### 3- Etudie de la colinéarité "
   ]
  },
  {
   "cell_type": "code",
   "execution_count": 14,
   "id": "d2736511-c93a-4c42-bcd5-192d86aabf28",
   "metadata": {},
   "outputs": [
    {
     "ename": "ModuleNotFoundError",
     "evalue": "No module named 'statsmodels'",
     "output_type": "error",
     "traceback": [
      "\u001b[0;31m---------------------------------------------------------------------------\u001b[0m",
      "\u001b[0;31mModuleNotFoundError\u001b[0m                       Traceback (most recent call last)",
      "Cell \u001b[0;32mIn[14], line 2\u001b[0m\n\u001b[1;32m      1\u001b[0m \u001b[38;5;66;03m### etudions la colinéarité entre les variables\u001b[39;00m\n\u001b[0;32m----> 2\u001b[0m \u001b[38;5;28;01mfrom\u001b[39;00m \u001b[38;5;21;01mstatsmodels\u001b[39;00m\u001b[38;5;21;01m.\u001b[39;00m\u001b[38;5;21;01mstats\u001b[39;00m\u001b[38;5;21;01m.\u001b[39;00m\u001b[38;5;21;01moutliers_influence\u001b[39;00m \u001b[38;5;28;01mimport\u001b[39;00m variance_inflation_factor\n\u001b[1;32m      4\u001b[0m X \u001b[38;5;241m=\u001b[39m df\u001b[38;5;241m.\u001b[39mdrop(\u001b[38;5;124m'\u001b[39m\u001b[38;5;124mdefaulted\u001b[39m\u001b[38;5;124m'\u001b[39m, axis\u001b[38;5;241m=\u001b[39m\u001b[38;5;241m1\u001b[39m)\n\u001b[1;32m      6\u001b[0m vif_data \u001b[38;5;241m=\u001b[39m pd\u001b[38;5;241m.\u001b[39mDataFrame()\n",
      "\u001b[0;31mModuleNotFoundError\u001b[0m: No module named 'statsmodels'"
     ]
    }
   ],
   "source": [
    "### etudions la colinéarité entre les variables\n",
    "from statsmodels.stats.outliers_influence import variance_inflation_factor\n",
    "\n",
    "X = df.drop('defaulted', axis=1)\n",
    "\n",
    "vif_data = pd.DataFrame()\n",
    "vif_data[\"Feature\"] = X.columns\n",
    "vif_data[\"VIF\"] = [variance_inflation_factor(X.values, i) for i in range(X.shape[1])]\n",
    "print(vif_data)\n"
   ]
  },
  {
   "cell_type": "markdown",
   "id": "d0b03f91-fc95-4e60-b5eb-442f75b17aa7",
   "metadata": {},
   "source": [
    "### 4- Analyse Composantes Principale"
   ]
  },
  {
   "cell_type": "code",
   "execution_count": 15,
   "id": "bd08ca76-9a28-4cdf-a825-9f264f76332b",
   "metadata": {},
   "outputs": [
    {
     "data": {
      "text/html": [
       "<style>#sk-container-id-1 {\n",
       "  /* Definition of color scheme common for light and dark mode */\n",
       "  --sklearn-color-text: black;\n",
       "  --sklearn-color-line: gray;\n",
       "  /* Definition of color scheme for unfitted estimators */\n",
       "  --sklearn-color-unfitted-level-0: #fff5e6;\n",
       "  --sklearn-color-unfitted-level-1: #f6e4d2;\n",
       "  --sklearn-color-unfitted-level-2: #ffe0b3;\n",
       "  --sklearn-color-unfitted-level-3: chocolate;\n",
       "  /* Definition of color scheme for fitted estimators */\n",
       "  --sklearn-color-fitted-level-0: #f0f8ff;\n",
       "  --sklearn-color-fitted-level-1: #d4ebff;\n",
       "  --sklearn-color-fitted-level-2: #b3dbfd;\n",
       "  --sklearn-color-fitted-level-3: cornflowerblue;\n",
       "\n",
       "  /* Specific color for light theme */\n",
       "  --sklearn-color-text-on-default-background: var(--sg-text-color, var(--theme-code-foreground, var(--jp-content-font-color1, black)));\n",
       "  --sklearn-color-background: var(--sg-background-color, var(--theme-background, var(--jp-layout-color0, white)));\n",
       "  --sklearn-color-border-box: var(--sg-text-color, var(--theme-code-foreground, var(--jp-content-font-color1, black)));\n",
       "  --sklearn-color-icon: #696969;\n",
       "\n",
       "  @media (prefers-color-scheme: dark) {\n",
       "    /* Redefinition of color scheme for dark theme */\n",
       "    --sklearn-color-text-on-default-background: var(--sg-text-color, var(--theme-code-foreground, var(--jp-content-font-color1, white)));\n",
       "    --sklearn-color-background: var(--sg-background-color, var(--theme-background, var(--jp-layout-color0, #111)));\n",
       "    --sklearn-color-border-box: var(--sg-text-color, var(--theme-code-foreground, var(--jp-content-font-color1, white)));\n",
       "    --sklearn-color-icon: #878787;\n",
       "  }\n",
       "}\n",
       "\n",
       "#sk-container-id-1 {\n",
       "  color: var(--sklearn-color-text);\n",
       "}\n",
       "\n",
       "#sk-container-id-1 pre {\n",
       "  padding: 0;\n",
       "}\n",
       "\n",
       "#sk-container-id-1 input.sk-hidden--visually {\n",
       "  border: 0;\n",
       "  clip: rect(1px 1px 1px 1px);\n",
       "  clip: rect(1px, 1px, 1px, 1px);\n",
       "  height: 1px;\n",
       "  margin: -1px;\n",
       "  overflow: hidden;\n",
       "  padding: 0;\n",
       "  position: absolute;\n",
       "  width: 1px;\n",
       "}\n",
       "\n",
       "#sk-container-id-1 div.sk-dashed-wrapped {\n",
       "  border: 1px dashed var(--sklearn-color-line);\n",
       "  margin: 0 0.4em 0.5em 0.4em;\n",
       "  box-sizing: border-box;\n",
       "  padding-bottom: 0.4em;\n",
       "  background-color: var(--sklearn-color-background);\n",
       "}\n",
       "\n",
       "#sk-container-id-1 div.sk-container {\n",
       "  /* jupyter's `normalize.less` sets `[hidden] { display: none; }`\n",
       "     but bootstrap.min.css set `[hidden] { display: none !important; }`\n",
       "     so we also need the `!important` here to be able to override the\n",
       "     default hidden behavior on the sphinx rendered scikit-learn.org.\n",
       "     See: https://github.com/scikit-learn/scikit-learn/issues/21755 */\n",
       "  display: inline-block !important;\n",
       "  position: relative;\n",
       "}\n",
       "\n",
       "#sk-container-id-1 div.sk-text-repr-fallback {\n",
       "  display: none;\n",
       "}\n",
       "\n",
       "div.sk-parallel-item,\n",
       "div.sk-serial,\n",
       "div.sk-item {\n",
       "  /* draw centered vertical line to link estimators */\n",
       "  background-image: linear-gradient(var(--sklearn-color-text-on-default-background), var(--sklearn-color-text-on-default-background));\n",
       "  background-size: 2px 100%;\n",
       "  background-repeat: no-repeat;\n",
       "  background-position: center center;\n",
       "}\n",
       "\n",
       "/* Parallel-specific style estimator block */\n",
       "\n",
       "#sk-container-id-1 div.sk-parallel-item::after {\n",
       "  content: \"\";\n",
       "  width: 100%;\n",
       "  border-bottom: 2px solid var(--sklearn-color-text-on-default-background);\n",
       "  flex-grow: 1;\n",
       "}\n",
       "\n",
       "#sk-container-id-1 div.sk-parallel {\n",
       "  display: flex;\n",
       "  align-items: stretch;\n",
       "  justify-content: center;\n",
       "  background-color: var(--sklearn-color-background);\n",
       "  position: relative;\n",
       "}\n",
       "\n",
       "#sk-container-id-1 div.sk-parallel-item {\n",
       "  display: flex;\n",
       "  flex-direction: column;\n",
       "}\n",
       "\n",
       "#sk-container-id-1 div.sk-parallel-item:first-child::after {\n",
       "  align-self: flex-end;\n",
       "  width: 50%;\n",
       "}\n",
       "\n",
       "#sk-container-id-1 div.sk-parallel-item:last-child::after {\n",
       "  align-self: flex-start;\n",
       "  width: 50%;\n",
       "}\n",
       "\n",
       "#sk-container-id-1 div.sk-parallel-item:only-child::after {\n",
       "  width: 0;\n",
       "}\n",
       "\n",
       "/* Serial-specific style estimator block */\n",
       "\n",
       "#sk-container-id-1 div.sk-serial {\n",
       "  display: flex;\n",
       "  flex-direction: column;\n",
       "  align-items: center;\n",
       "  background-color: var(--sklearn-color-background);\n",
       "  padding-right: 1em;\n",
       "  padding-left: 1em;\n",
       "}\n",
       "\n",
       "\n",
       "/* Toggleable style: style used for estimator/Pipeline/ColumnTransformer box that is\n",
       "clickable and can be expanded/collapsed.\n",
       "- Pipeline and ColumnTransformer use this feature and define the default style\n",
       "- Estimators will overwrite some part of the style using the `sk-estimator` class\n",
       "*/\n",
       "\n",
       "/* Pipeline and ColumnTransformer style (default) */\n",
       "\n",
       "#sk-container-id-1 div.sk-toggleable {\n",
       "  /* Default theme specific background. It is overwritten whether we have a\n",
       "  specific estimator or a Pipeline/ColumnTransformer */\n",
       "  background-color: var(--sklearn-color-background);\n",
       "}\n",
       "\n",
       "/* Toggleable label */\n",
       "#sk-container-id-1 label.sk-toggleable__label {\n",
       "  cursor: pointer;\n",
       "  display: block;\n",
       "  width: 100%;\n",
       "  margin-bottom: 0;\n",
       "  padding: 0.5em;\n",
       "  box-sizing: border-box;\n",
       "  text-align: center;\n",
       "}\n",
       "\n",
       "#sk-container-id-1 label.sk-toggleable__label-arrow:before {\n",
       "  /* Arrow on the left of the label */\n",
       "  content: \"▸\";\n",
       "  float: left;\n",
       "  margin-right: 0.25em;\n",
       "  color: var(--sklearn-color-icon);\n",
       "}\n",
       "\n",
       "#sk-container-id-1 label.sk-toggleable__label-arrow:hover:before {\n",
       "  color: var(--sklearn-color-text);\n",
       "}\n",
       "\n",
       "/* Toggleable content - dropdown */\n",
       "\n",
       "#sk-container-id-1 div.sk-toggleable__content {\n",
       "  max-height: 0;\n",
       "  max-width: 0;\n",
       "  overflow: hidden;\n",
       "  text-align: left;\n",
       "  /* unfitted */\n",
       "  background-color: var(--sklearn-color-unfitted-level-0);\n",
       "}\n",
       "\n",
       "#sk-container-id-1 div.sk-toggleable__content.fitted {\n",
       "  /* fitted */\n",
       "  background-color: var(--sklearn-color-fitted-level-0);\n",
       "}\n",
       "\n",
       "#sk-container-id-1 div.sk-toggleable__content pre {\n",
       "  margin: 0.2em;\n",
       "  border-radius: 0.25em;\n",
       "  color: var(--sklearn-color-text);\n",
       "  /* unfitted */\n",
       "  background-color: var(--sklearn-color-unfitted-level-0);\n",
       "}\n",
       "\n",
       "#sk-container-id-1 div.sk-toggleable__content.fitted pre {\n",
       "  /* unfitted */\n",
       "  background-color: var(--sklearn-color-fitted-level-0);\n",
       "}\n",
       "\n",
       "#sk-container-id-1 input.sk-toggleable__control:checked~div.sk-toggleable__content {\n",
       "  /* Expand drop-down */\n",
       "  max-height: 200px;\n",
       "  max-width: 100%;\n",
       "  overflow: auto;\n",
       "}\n",
       "\n",
       "#sk-container-id-1 input.sk-toggleable__control:checked~label.sk-toggleable__label-arrow:before {\n",
       "  content: \"▾\";\n",
       "}\n",
       "\n",
       "/* Pipeline/ColumnTransformer-specific style */\n",
       "\n",
       "#sk-container-id-1 div.sk-label input.sk-toggleable__control:checked~label.sk-toggleable__label {\n",
       "  color: var(--sklearn-color-text);\n",
       "  background-color: var(--sklearn-color-unfitted-level-2);\n",
       "}\n",
       "\n",
       "#sk-container-id-1 div.sk-label.fitted input.sk-toggleable__control:checked~label.sk-toggleable__label {\n",
       "  background-color: var(--sklearn-color-fitted-level-2);\n",
       "}\n",
       "\n",
       "/* Estimator-specific style */\n",
       "\n",
       "/* Colorize estimator box */\n",
       "#sk-container-id-1 div.sk-estimator input.sk-toggleable__control:checked~label.sk-toggleable__label {\n",
       "  /* unfitted */\n",
       "  background-color: var(--sklearn-color-unfitted-level-2);\n",
       "}\n",
       "\n",
       "#sk-container-id-1 div.sk-estimator.fitted input.sk-toggleable__control:checked~label.sk-toggleable__label {\n",
       "  /* fitted */\n",
       "  background-color: var(--sklearn-color-fitted-level-2);\n",
       "}\n",
       "\n",
       "#sk-container-id-1 div.sk-label label.sk-toggleable__label,\n",
       "#sk-container-id-1 div.sk-label label {\n",
       "  /* The background is the default theme color */\n",
       "  color: var(--sklearn-color-text-on-default-background);\n",
       "}\n",
       "\n",
       "/* On hover, darken the color of the background */\n",
       "#sk-container-id-1 div.sk-label:hover label.sk-toggleable__label {\n",
       "  color: var(--sklearn-color-text);\n",
       "  background-color: var(--sklearn-color-unfitted-level-2);\n",
       "}\n",
       "\n",
       "/* Label box, darken color on hover, fitted */\n",
       "#sk-container-id-1 div.sk-label.fitted:hover label.sk-toggleable__label.fitted {\n",
       "  color: var(--sklearn-color-text);\n",
       "  background-color: var(--sklearn-color-fitted-level-2);\n",
       "}\n",
       "\n",
       "/* Estimator label */\n",
       "\n",
       "#sk-container-id-1 div.sk-label label {\n",
       "  font-family: monospace;\n",
       "  font-weight: bold;\n",
       "  display: inline-block;\n",
       "  line-height: 1.2em;\n",
       "}\n",
       "\n",
       "#sk-container-id-1 div.sk-label-container {\n",
       "  text-align: center;\n",
       "}\n",
       "\n",
       "/* Estimator-specific */\n",
       "#sk-container-id-1 div.sk-estimator {\n",
       "  font-family: monospace;\n",
       "  border: 1px dotted var(--sklearn-color-border-box);\n",
       "  border-radius: 0.25em;\n",
       "  box-sizing: border-box;\n",
       "  margin-bottom: 0.5em;\n",
       "  /* unfitted */\n",
       "  background-color: var(--sklearn-color-unfitted-level-0);\n",
       "}\n",
       "\n",
       "#sk-container-id-1 div.sk-estimator.fitted {\n",
       "  /* fitted */\n",
       "  background-color: var(--sklearn-color-fitted-level-0);\n",
       "}\n",
       "\n",
       "/* on hover */\n",
       "#sk-container-id-1 div.sk-estimator:hover {\n",
       "  /* unfitted */\n",
       "  background-color: var(--sklearn-color-unfitted-level-2);\n",
       "}\n",
       "\n",
       "#sk-container-id-1 div.sk-estimator.fitted:hover {\n",
       "  /* fitted */\n",
       "  background-color: var(--sklearn-color-fitted-level-2);\n",
       "}\n",
       "\n",
       "/* Specification for estimator info (e.g. \"i\" and \"?\") */\n",
       "\n",
       "/* Common style for \"i\" and \"?\" */\n",
       "\n",
       ".sk-estimator-doc-link,\n",
       "a:link.sk-estimator-doc-link,\n",
       "a:visited.sk-estimator-doc-link {\n",
       "  float: right;\n",
       "  font-size: smaller;\n",
       "  line-height: 1em;\n",
       "  font-family: monospace;\n",
       "  background-color: var(--sklearn-color-background);\n",
       "  border-radius: 1em;\n",
       "  height: 1em;\n",
       "  width: 1em;\n",
       "  text-decoration: none !important;\n",
       "  margin-left: 1ex;\n",
       "  /* unfitted */\n",
       "  border: var(--sklearn-color-unfitted-level-1) 1pt solid;\n",
       "  color: var(--sklearn-color-unfitted-level-1);\n",
       "}\n",
       "\n",
       ".sk-estimator-doc-link.fitted,\n",
       "a:link.sk-estimator-doc-link.fitted,\n",
       "a:visited.sk-estimator-doc-link.fitted {\n",
       "  /* fitted */\n",
       "  border: var(--sklearn-color-fitted-level-1) 1pt solid;\n",
       "  color: var(--sklearn-color-fitted-level-1);\n",
       "}\n",
       "\n",
       "/* On hover */\n",
       "div.sk-estimator:hover .sk-estimator-doc-link:hover,\n",
       ".sk-estimator-doc-link:hover,\n",
       "div.sk-label-container:hover .sk-estimator-doc-link:hover,\n",
       ".sk-estimator-doc-link:hover {\n",
       "  /* unfitted */\n",
       "  background-color: var(--sklearn-color-unfitted-level-3);\n",
       "  color: var(--sklearn-color-background);\n",
       "  text-decoration: none;\n",
       "}\n",
       "\n",
       "div.sk-estimator.fitted:hover .sk-estimator-doc-link.fitted:hover,\n",
       ".sk-estimator-doc-link.fitted:hover,\n",
       "div.sk-label-container:hover .sk-estimator-doc-link.fitted:hover,\n",
       ".sk-estimator-doc-link.fitted:hover {\n",
       "  /* fitted */\n",
       "  background-color: var(--sklearn-color-fitted-level-3);\n",
       "  color: var(--sklearn-color-background);\n",
       "  text-decoration: none;\n",
       "}\n",
       "\n",
       "/* Span, style for the box shown on hovering the info icon */\n",
       ".sk-estimator-doc-link span {\n",
       "  display: none;\n",
       "  z-index: 9999;\n",
       "  position: relative;\n",
       "  font-weight: normal;\n",
       "  right: .2ex;\n",
       "  padding: .5ex;\n",
       "  margin: .5ex;\n",
       "  width: min-content;\n",
       "  min-width: 20ex;\n",
       "  max-width: 50ex;\n",
       "  color: var(--sklearn-color-text);\n",
       "  box-shadow: 2pt 2pt 4pt #999;\n",
       "  /* unfitted */\n",
       "  background: var(--sklearn-color-unfitted-level-0);\n",
       "  border: .5pt solid var(--sklearn-color-unfitted-level-3);\n",
       "}\n",
       "\n",
       ".sk-estimator-doc-link.fitted span {\n",
       "  /* fitted */\n",
       "  background: var(--sklearn-color-fitted-level-0);\n",
       "  border: var(--sklearn-color-fitted-level-3);\n",
       "}\n",
       "\n",
       ".sk-estimator-doc-link:hover span {\n",
       "  display: block;\n",
       "}\n",
       "\n",
       "/* \"?\"-specific style due to the `<a>` HTML tag */\n",
       "\n",
       "#sk-container-id-1 a.estimator_doc_link {\n",
       "  float: right;\n",
       "  font-size: 1rem;\n",
       "  line-height: 1em;\n",
       "  font-family: monospace;\n",
       "  background-color: var(--sklearn-color-background);\n",
       "  border-radius: 1rem;\n",
       "  height: 1rem;\n",
       "  width: 1rem;\n",
       "  text-decoration: none;\n",
       "  /* unfitted */\n",
       "  color: var(--sklearn-color-unfitted-level-1);\n",
       "  border: var(--sklearn-color-unfitted-level-1) 1pt solid;\n",
       "}\n",
       "\n",
       "#sk-container-id-1 a.estimator_doc_link.fitted {\n",
       "  /* fitted */\n",
       "  border: var(--sklearn-color-fitted-level-1) 1pt solid;\n",
       "  color: var(--sklearn-color-fitted-level-1);\n",
       "}\n",
       "\n",
       "/* On hover */\n",
       "#sk-container-id-1 a.estimator_doc_link:hover {\n",
       "  /* unfitted */\n",
       "  background-color: var(--sklearn-color-unfitted-level-3);\n",
       "  color: var(--sklearn-color-background);\n",
       "  text-decoration: none;\n",
       "}\n",
       "\n",
       "#sk-container-id-1 a.estimator_doc_link.fitted:hover {\n",
       "  /* fitted */\n",
       "  background-color: var(--sklearn-color-fitted-level-3);\n",
       "}\n",
       "</style><div id=\"sk-container-id-1\" class=\"sk-top-container\"><div class=\"sk-text-repr-fallback\"><pre>PCA(n_components=3)</pre><b>In a Jupyter environment, please rerun this cell to show the HTML representation or trust the notebook. <br />On GitHub, the HTML representation is unable to render, please try loading this page with nbviewer.org.</b></div><div class=\"sk-container\" hidden><div class=\"sk-item\"><div class=\"sk-estimator fitted sk-toggleable\"><input class=\"sk-toggleable__control sk-hidden--visually\" id=\"sk-estimator-id-1\" type=\"checkbox\" checked><label for=\"sk-estimator-id-1\" class=\"sk-toggleable__label fitted sk-toggleable__label-arrow fitted\">&nbsp;&nbsp;PCA<a class=\"sk-estimator-doc-link fitted\" rel=\"noreferrer\" target=\"_blank\" href=\"https://scikit-learn.org/1.5/modules/generated/sklearn.decomposition.PCA.html\">?<span>Documentation for PCA</span></a><span class=\"sk-estimator-doc-link fitted\">i<span>Fitted</span></span></label><div class=\"sk-toggleable__content fitted\"><pre>PCA(n_components=3)</pre></div> </div></div></div></div>"
      ],
      "text/plain": [
       "PCA(n_components=3)"
      ]
     },
     "execution_count": 15,
     "metadata": {},
     "output_type": "execute_result"
    }
   ],
   "source": [
    "### etduions la pca\n",
    "from sklearn.decomposition import PCA\n",
    "from sklearn.preprocessing import StandardScaler\n",
    "X = df.drop('defaulted', axis=1)\n",
    "scaler = StandardScaler()\n",
    "X_std = scaler.fit_transform(X)\n",
    "\n",
    "#### analyse en composantes principale\n",
    "pca = PCA(n_components=3)\n",
    "pca.fit(X_std)"
   ]
  },
  {
   "cell_type": "code",
   "execution_count": 16,
   "id": "d1dd27e8-68fe-4a99-bc58-b34da8496763",
   "metadata": {},
   "outputs": [
    {
     "data": {
      "text/html": [
       "<div>\n",
       "<style scoped>\n",
       "    .dataframe tbody tr th:only-of-type {\n",
       "        vertical-align: middle;\n",
       "    }\n",
       "\n",
       "    .dataframe tbody tr th {\n",
       "        vertical-align: top;\n",
       "    }\n",
       "\n",
       "    .dataframe thead th {\n",
       "        text-align: right;\n",
       "    }\n",
       "</style>\n",
       "<table border=\"1\" class=\"dataframe\">\n",
       "  <thead>\n",
       "    <tr style=\"text-align: right;\">\n",
       "      <th></th>\n",
       "      <th>Variance expliquée</th>\n",
       "      <th>Pourcentage de variance</th>\n",
       "      <th>cumuleé_expliqué</th>\n",
       "    </tr>\n",
       "  </thead>\n",
       "  <tbody>\n",
       "  </tbody>\n",
       "</table>\n",
       "</div>"
      ],
      "text/plain": [
       "Empty DataFrame\n",
       "Columns: [Variance expliquée, Pourcentage de variance, cumuleé_expliqué]\n",
       "Index: []"
      ]
     },
     "execution_count": 16,
     "metadata": {},
     "output_type": "execute_result"
    }
   ],
   "source": [
    "ratio = pca.explained_variance_ratio_\n",
    "variance_expliquée = pca.explained_variance_\n",
    "\n",
    "cumulee_variance_expliquée = np.cumsum(ratio)\n",
    "\n",
    "pd.DataFrame(columns={\"Variance expliquée\": variance_expliquée, \n",
    "                     'Pourcentage de variance': ratio, \"cumuleé_expliqué\": cumulee_variance_expliquée})"
   ]
  },
  {
   "cell_type": "code",
   "execution_count": 17,
   "id": "c6e7dbff-25ce-402a-965c-a640340f74d0",
   "metadata": {
    "scrolled": true
   },
   "outputs": [
    {
     "ename": "IndexError",
     "evalue": "index 2 is out of bounds for axis 0 with size 2",
     "output_type": "error",
     "traceback": [
      "\u001b[0;31m---------------------------------------------------------------------------\u001b[0m",
      "\u001b[0;31mIndexError\u001b[0m                                Traceback (most recent call last)",
      "Cell \u001b[0;32mIn[17], line 9\u001b[0m\n\u001b[1;32m      7\u001b[0m \u001b[38;5;28;01mfor\u001b[39;00m i \u001b[38;5;129;01min\u001b[39;00m \u001b[38;5;28mrange\u001b[39m(\u001b[38;5;28mlen\u001b[39m(df\u001b[38;5;241m.\u001b[39mcolumns)):\n\u001b[1;32m      8\u001b[0m     \u001b[38;5;28;01mif\u001b[39;00m \u001b[38;5;28misinstance\u001b[39m(axes, np\u001b[38;5;241m.\u001b[39mndarray) \u001b[38;5;129;01mand\u001b[39;00m axes\u001b[38;5;241m.\u001b[39mndim \u001b[38;5;241m==\u001b[39m \u001b[38;5;241m2\u001b[39m:\n\u001b[0;32m----> 9\u001b[0m         axes[row, col] \u001b[38;5;241m=\u001b[39m sns\u001b[38;5;241m.\u001b[39mboxplot(x\u001b[38;5;241m=\u001b[39mdf[\u001b[38;5;124m'\u001b[39m\u001b[38;5;124mdefaulted\u001b[39m\u001b[38;5;124m'\u001b[39m], y\u001b[38;5;241m=\u001b[39mdf[df\u001b[38;5;241m.\u001b[39mcolumns[i]], ax\u001b[38;5;241m=\u001b[39m\u001b[43maxes\u001b[49m\u001b[43m[\u001b[49m\u001b[43mrow\u001b[49m\u001b[43m,\u001b[49m\u001b[43m \u001b[49m\u001b[43mcol\u001b[49m\u001b[43m]\u001b[49m)\n\u001b[1;32m     10\u001b[0m     \u001b[38;5;28;01melse\u001b[39;00m:\n\u001b[1;32m     11\u001b[0m         axes \u001b[38;5;241m=\u001b[39m sns\u001b[38;5;241m.\u001b[39mboxplot(x\u001b[38;5;241m=\u001b[39mdf[\u001b[38;5;124m'\u001b[39m\u001b[38;5;124mdefaulted\u001b[39m\u001b[38;5;124m'\u001b[39m], y\u001b[38;5;241m=\u001b[39mdf[df\u001b[38;5;241m.\u001b[39mcolumns[i]], ax\u001b[38;5;241m=\u001b[39maxes)\n",
      "\u001b[0;31mIndexError\u001b[0m: index 2 is out of bounds for axis 0 with size 2"
     ]
    },
    {
     "data": {
      "image/png": "[encoded data removed]",
      "text/plain": [
       "<Figure size 640x480 with 4 Axes>"
      ]
     },
     "metadata": {},
     "output_type": "display_data"
    }
   ],
   "source": [
    "### analyse des relations entre les variables et la variable cible\n",
    "# Crée les sous-graphiques avec le nombre de lignes et de colonnes nécessaires\n",
    "fig, axes = plt.subplots(nrows=2, ncols=2)  # Ajuste les valeurs selon tes besoins\n",
    "\n",
    "row, col = 0, 0  # Définir des indices initiaux\n",
    "\n",
    "for i in range(len(df.columns)):\n",
    "    if isinstance(axes, np.ndarray) and axes.ndim == 2:\n",
    "        axes[row, col] = sns.boxplot(x=df['defaulted'], y=df[df.columns[i]], ax=axes[row, col])\n",
    "    else:\n",
    "        axes = sns.boxplot(x=df['defaulted'], y=df[df.columns[i]], ax=axes)\n",
    "    \n",
    "    col += 1\n",
    "    if col == 2:  # Suppose qu'il y a 2 colonnes\n",
    "        row += 1\n",
    "        col = 0\n",
    "\n",
    "plt.tight_layout()\n",
    "plt.show()"
   ]
  },
  {
   "cell_type": "markdown",
   "id": "410a2c46-6bad-4d45-9d99-771dff97de68",
   "metadata": {},
   "source": [
    "### 5-Selection des variables importantes pour la modélisation"
   ]
  },
  {
   "cell_type": "code",
   "execution_count": 18,
   "id": "e8114290-036c-4269-b6a5-cf96deac11c9",
   "metadata": {},
   "outputs": [
    {
     "name": "stderr",
     "output_type": "stream",
     "text": [
      "/tmp/ipykernel_38724/3122710427.py:9: FutureWarning: Series.__getitem__ treating keys as positions is deprecated. In a future version, integer keys will always be treated as labels (consistent with DataFrame behavior). To access a value by position, use `ser.iloc[pos]`\n",
      "  plt.bar(x = X.columns[sorted_indices], height= variance[sorted_indices])\n"
     ]
    },
    {
     "data": {
      "image/png": "[encoded data removed]",
      "text/plain": [
       "<Figure size 1200x1000 with 1 Axes>"
      ]
     },
     "metadata": {},
     "output_type": "display_data"
    },
    {
     "data": {
      "text/plain": [
       "<Figure size 640x480 with 0 Axes>"
      ]
     },
     "metadata": {},
     "output_type": "display_data"
    }
   ],
   "source": [
    "from sklearn.feature_selection import VarianceThreshold, RFECV\n",
    "\n",
    "### selection des variables en se basant d'abord sur la variance\n",
    "\n",
    "variance = np.var(X, axis = 0)\n",
    "sorted_indices = np.argsort(variance)[::-1]\n",
    "\n",
    "plt.figure(figsize=(12, 10))\n",
    "plt.bar(x = X.columns[sorted_indices], height= variance[sorted_indices])\n",
    "plt.xticks(rotation = 45)\n",
    "plt.title('selection des variables par approche par filtrage , variance')\n",
    "plt.show()\n",
    "plt.savefig('filtrage.png')"
   ]
  },
  {
   "cell_type": "code",
   "execution_count": 19,
   "id": "4f018f95-fc97-4cb8-9330-5f928f67b72c",
   "metadata": {},
   "outputs": [
    {
     "name": "stdout",
     "output_type": "stream",
     "text": [
      "Les caractéristiques sélectionnés sont: Index(['LIMIT_BAL', 'SEX', 'EDUCATION', 'MARRIAGE', 'AGE', 'PAY_0', 'PAY_2',\n",
      "       'PAY_3', 'PAY_4', 'PAY_5', 'PAY_6', 'BILL_AMT1', 'BILL_AMT2',\n",
      "       'BILL_AMT3', 'BILL_AMT4', 'BILL_AMT5', 'BILL_AMT6', 'PAY_AMT1',\n",
      "       'PAY_AMT2', 'PAY_AMT3', 'PAY_AMT4', 'PAY_AMT5', 'PAY_AMT6'],\n",
      "      dtype='object')\n"
     ]
    }
   ],
   "source": [
    "### selection des variables en utilisant le modele varianceThreshold\n",
    "threshold = 0.8*(1-0.8)\n",
    "model = VarianceThreshold(threshold=threshold)\n",
    "varaince_selector = model.fit_transform(X)\n",
    "\n",
    "selected_columns = X.columns[model.get_support()]\n",
    "print(f\"Les caractéristiques sélectionnés sont: {selected_columns}\")"
   ]
  },
  {
   "cell_type": "markdown",
   "id": "1ed595bf-5029-440a-94ae-9b41f3a5f774",
   "metadata": {},
   "source": [
    "### 6- Équilibrage des classes \n",
    "* La methode simple sans réechantillonnage\n",
    "* La méthode de réchantillonage:\n",
    "* * OverSampling(Sur echantillonnage)\n",
    "  * Under Sampling (Sous echantillonnage)\n",
    "  * Smote(Algorithm d'échantillonnage)\n",
    "  "
   ]
  },
  {
   "cell_type": "code",
   "execution_count": 20,
   "id": "1c6d253a-7723-42ba-972b-a192e7aed86e",
   "metadata": {},
   "outputs": [
    {
     "data": {
      "text/plain": [
       "defaulted\n",
       "0    23364\n",
       "1     6636\n",
       "Name: count, dtype: int64"
      ]
     },
     "execution_count": 20,
     "metadata": {},
     "output_type": "execute_result"
    }
   ],
   "source": [
    "df.defaulted.value_counts()"
   ]
  },
  {
   "cell_type": "markdown",
   "id": "cb59732d-37d5-415d-bd55-171e957318c2",
   "metadata": {},
   "source": [
    "### 7- IMPORTING THE LIBRAIRIES FOR MODELING"
   ]
  },
  {
   "cell_type": "code",
   "execution_count": 27,
   "id": "bc135af6-929a-451f-a6de-739a19d84642",
   "metadata": {},
   "outputs": [],
   "source": [
    "from sklearn.model_selection import train_test_split, GridSearchCV, cross_val_score, GroupKFold, learning_curve\n",
    "from sklearn.dummy import DummyClassifier\n",
    "from sklearn.naive_bayes import BernoulliNB, GaussianNB, MultinomialNB\n",
    "from sklearn.svm import LinearSVC,NuSVC, SVC\n",
    "from sklearn.ensemble import (RandomForestClassifier, ExtraTreesClassifier, BaggingClassifier,\n",
    "VotingClassifier, HistGradientBoostingClassifier, AdaBoostClassifier, GradientBoostingClassifier, StackingClassifier)\n",
    "from sklearn.linear_model import LogisticRegression, SGDClassifier\n",
    "from sklearn.tree import DecisionTreeClassifier,ExtraTreeClassifier, plot_tree\n",
    "from sklearn.neighbors import KNeighborsClassifier\n",
    "#from imblearn.over_sampling import SMOTE, RandomOverSampler\n",
    "from sklearn.feature_selection import SelectFromModel, SelectKBest\n",
    "from sklearn.metrics import (accuracy_score, precision_score, classification_report, confusion_matrix, recall_score)\n",
    "import warnings"
   ]
  },
  {
   "cell_type": "markdown",
   "id": "f5096713-52b8-4e1a-bb0a-06b361ae0e3b",
   "metadata": {},
   "source": [
    "### 8- Baseline Model"
   ]
  },
  {
   "cell_type": "code",
   "execution_count": 24,
   "id": "89144ec8-6583-4d10-9b45-32f42b58c1d7",
   "metadata": {},
   "outputs": [
    {
     "data": {
      "text/plain": [
       "((21000, 23), (9000, 23), (21000,), (9000,))"
      ]
     },
     "execution_count": 24,
     "metadata": {},
     "output_type": "execute_result"
    }
   ],
   "source": [
    "X = df.drop('defaulted',axis = 1)\n",
    "y = df['defaulted']\n",
    "\n",
    "Xtrain, Xtest, ytrain, ytest = train_test_split(X, y, test_size=0.3, \n",
    "                                                stratify= y, random_state=42)\n",
    "Xtrain.shape, Xtest.shape, ytrain.shape, ytest.shape"
   ]
  },
  {
   "cell_type": "code",
   "execution_count": 25,
   "id": "371fa801-02fc-4c68-80ee-6d57695c7141",
   "metadata": {},
   "outputs": [
    {
     "data": {
      "text/plain": [
       "(21000, 24)"
      ]
     },
     "execution_count": 25,
     "metadata": {},
     "output_type": "execute_result"
    }
   ],
   "source": [
    "df_train = Xtrain.join(ytrain)\n",
    "df_train.shape"
   ]
  },
  {
   "cell_type": "code",
   "execution_count": 28,
   "id": "9e02ee61-3956-4389-aa04-70ae5846a2cb",
   "metadata": {},
   "outputs": [
    {
     "data": {
      "text/html": [
       "<div>\n",
       "<style scoped>\n",
       "    .dataframe tbody tr th:only-of-type {\n",
       "        vertical-align: middle;\n",
       "    }\n",
       "\n",
       "    .dataframe tbody tr th {\n",
       "        vertical-align: top;\n",
       "    }\n",
       "\n",
       "    .dataframe thead th {\n",
       "        text-align: right;\n",
       "    }\n",
       "</style>\n",
       "<table border=\"1\" class=\"dataframe\">\n",
       "  <thead>\n",
       "    <tr style=\"text-align: right;\">\n",
       "      <th></th>\n",
       "      <th>Accuracy</th>\n",
       "      <th>Precision</th>\n",
       "      <th>score_moyenne</th>\n",
       "      <th>score_ecart</th>\n",
       "    </tr>\n",
       "  </thead>\n",
       "  <tbody>\n",
       "    <tr>\n",
       "      <th>0</th>\n",
       "      <td>0.807778</td>\n",
       "      <td>0.692194</td>\n",
       "      <td>0.7788</td>\n",
       "      <td>0.0001</td>\n",
       "    </tr>\n",
       "  </tbody>\n",
       "</table>\n",
       "</div>"
      ],
      "text/plain": [
       "   Accuracy  Precision  score_moyenne  score_ecart\n",
       "0  0.807778   0.692194         0.7788       0.0001"
      ]
     },
     "execution_count": 28,
     "metadata": {},
     "output_type": "execute_result"
    }
   ],
   "source": [
    "model_base = LogisticRegression(max_iter=1000, solver='liblinear')\n",
    "\n",
    "xtrain_std =scaler.fit_transform(Xtrain)\n",
    "xtest_std  =scaler.transform(Xtest)\n",
    "model_base.fit(xtrain_std, ytrain)\n",
    "predicted = model_base.predict(xtest_std)\n",
    "\n",
    "Accuracy = accuracy_score(ytest, predicted)\n",
    "precision = precision_score(ytest, predicted)\n",
    "\n",
    "validation_cross = cross_val_score(model_base, X, y, cv = 5)\n",
    "average_scores = np.round(np.mean(validation_cross), 4)\n",
    "std_score  = np.round(np.std(validation_cross), 4)\n",
    "\n",
    "result = pd.DataFrame({\n",
    "    \"Accuracy\": [Accuracy],\n",
    "    'Precision': [precision],\n",
    "    'score_moyenne': [average_scores],\n",
    "    'score_ecart': [std_score]\n",
    "})\n",
    "result"
   ]
  },
  {
   "cell_type": "markdown",
   "id": "7067bd6d-c18a-452f-8661-c2c5346a16e2",
   "metadata": {},
   "source": [
    "### 9-Feature Engineering\n",
    " * * Reéchantillonnage des classes\n",
    "   * Transformation of one which variables an object(example: sex)"
   ]
  },
  {
   "cell_type": "markdown",
   "id": "efb0ea21-7ccc-4246-a460-4417da0fc6c0",
   "metadata": {},
   "source": [
    "* * * RÉECHANTILLONNAGE DES CLASSES"
   ]
  },
  {
   "cell_type": "code",
   "execution_count": 29,
   "id": "33f4a109-1395-4d15-ae59-fa2c2b26d4db",
   "metadata": {},
   "outputs": [
    {
     "data": {
      "text/plain": [
       "defaulted\n",
       "0    23364\n",
       "1     6636\n",
       "Name: count, dtype: int64"
      ]
     },
     "execution_count": 29,
     "metadata": {},
     "output_type": "execute_result"
    }
   ],
   "source": [
    "df.defaulted.value_counts()"
   ]
  },
  {
   "cell_type": "code",
   "execution_count": 31,
   "id": "531bd674-d3d0-4b2f-8f1a-383232b1216c",
   "metadata": {},
   "outputs": [
    {
     "data": {
      "text/plain": [
       "((21000, 24), np.int64(16355), np.int64(4645))"
      ]
     },
     "execution_count": 31,
     "metadata": {},
     "output_type": "execute_result"
    }
   ],
   "source": [
    "df_train = Xtrain.join(ytrain)\n",
    "\n",
    "df_majority = df_train[df_train.defaulted == 0]\n",
    "df_minority = df_train[df_train.defaulted == 1]\n",
    "\n",
    "df_train.shape, df_majority.defaulted.count(), df_minority.defaulted.count()"
   ]
  },
  {
   "cell_type": "code",
   "execution_count": 32,
   "id": "0d8bdb37-ce46-4607-b45c-3c2a39174361",
   "metadata": {},
   "outputs": [
    {
     "data": {
      "text/plain": [
       "defaulted\n",
       "0    16355\n",
       "1    16355\n",
       "Name: count, dtype: int64"
      ]
     },
     "execution_count": 32,
     "metadata": {},
     "output_type": "execute_result"
    }
   ],
   "source": [
    "from sklearn.utils import resample\n",
    "\n",
    "\"\"\" Sur Echantillonage (Random Oversampling)\"\"\"\n",
    "\n",
    "df_minority_sample = resample(df_minority,\n",
    "                   replace= True,\n",
    "                   n_samples=16355,\n",
    "                    random_state=80)\n",
    "df_over = pd.concat([df_majority, df_minority_sample])\n",
    "df_over.defaulted.value_counts()"
   ]
  },
  {
   "cell_type": "code",
   "execution_count": 33,
   "id": "5b89dca9-fec3-49eb-a555-ff33501ec306",
   "metadata": {},
   "outputs": [
    {
     "data": {
      "text/plain": [
       "defaulted\n",
       "1    4645\n",
       "0    4645\n",
       "Name: count, dtype: int64"
      ]
     },
     "execution_count": 33,
     "metadata": {},
     "output_type": "execute_result"
    }
   ],
   "source": [
    "\"\"\" sous echantillonage (Random Undersampling)\"\"\"\n",
    "\n",
    "df_majority_sample = resample(\n",
    "    df_majority,\n",
    "    replace=True,\n",
    "    n_samples=4645,\n",
    "    random_state=42\n",
    ")\n",
    "df_under = pd.concat([df_minority, df_majority_sample])\n",
    "df_under.defaulted.value_counts()"
   ]
  },
  {
   "cell_type": "code",
   "execution_count": 34,
   "id": "d101c35a-d919-4e74-a171-9d9fa67dafb5",
   "metadata": {},
   "outputs": [
    {
     "ename": "NameError",
     "evalue": "name 'SMOTE' is not defined",
     "output_type": "error",
     "traceback": [
      "\u001b[0;31m---------------------------------------------------------------------------\u001b[0m",
      "\u001b[0;31mNameError\u001b[0m                                 Traceback (most recent call last)",
      "Cell \u001b[0;32mIn[34], line 2\u001b[0m\n\u001b[1;32m      1\u001b[0m \u001b[38;5;124;03m\"\"\" Avec SMOTE \"\"\"\u001b[39;00m\n\u001b[0;32m----> 2\u001b[0m smote \u001b[38;5;241m=\u001b[39m \u001b[43mSMOTE\u001b[49m(random_state\u001b[38;5;241m=\u001b[39m\u001b[38;5;241m42\u001b[39m)\n\u001b[1;32m      3\u001b[0m Xsmote, ysmote \u001b[38;5;241m=\u001b[39m smote\u001b[38;5;241m.\u001b[39mfit_resample(Xtrain, ytrain)\n\u001b[1;32m      4\u001b[0m \u001b[38;5;28mprint\u001b[39m(\u001b[38;5;28mlen\u001b[39m(ysmote))\n",
      "\u001b[0;31mNameError\u001b[0m: name 'SMOTE' is not defined"
     ]
    }
   ],
   "source": [
    "\"\"\" Avec SMOTE \"\"\"\n",
    "smote = SMOTE(random_state=42)\n",
    "Xsmote, ysmote = smote.fit_resample(Xtrain, ytrain)\n",
    "print(len(ysmote))\n",
    "print(ysmote.sum())"
   ]
  },
  {
   "cell_type": "markdown",
   "id": "f90703a6-f970-4287-9d77-01a402dd58f8",
   "metadata": {},
   "source": [
    "### 10 -Function of Training the model and evaluate"
   ]
  },
  {
   "cell_type": "raw",
   "id": "183f7681-ef4d-4857-9619-30cb3fbdbefa",
   "metadata": {},
   "source": [
    "### Now , we can start to training the data on diffrents models to select the better techniques what we can use.\n",
    "\n",
    "* * * Training data"
   ]
  },
  {
   "cell_type": "code",
   "execution_count": 35,
   "id": "cdfc8030-38b5-4265-84ee-10d7a144d8f6",
   "metadata": {},
   "outputs": [],
   "source": [
    "from sklearn.metrics import accuracy_score, precision_score, recall_score, roc_auc_score\n",
    "def training_data(estimator, xtrain, ytrain, xtest, ytest):\n",
    "    ### Entraînement du modèle\n",
    "    estimator.fit(xtrain, ytrain)\n",
    "    \n",
    "    print(\"************* Résultats sur l'Entraînement *************\\n\")\n",
    "    \n",
    "    # Prédictions sur l'entraînement\n",
    "    train_predict = estimator.predict(xtrain)\n",
    "    prob_predict_train = estimator.predict_proba(xtrain)[:, 1]  # Probabilités pour la classe positive\n",
    "    \n",
    "    # Calcul des métriques d'entraînement\n",
    "    accuracy_train = accuracy_score(ytrain, train_predict)\n",
    "    precision_train = precision_score(ytrain, train_predict)\n",
    "    recall_train = recall_score(ytrain, train_predict)\n",
    "    #roc_train = roc_auc_score(ytrain, prob_predict_train)\n",
    "    \n",
    "    # Validation croisée\n",
    "    validation_cross = cross_val_score(estimator, xtrain, ytrain, cv=5)\n",
    "    average_val = np.round(np.mean(validation_cross), 4)\n",
    "    std_val = np.round(np.std(validation_cross), 4)\n",
    "    \n",
    "    result_train = pd.DataFrame({\n",
    "        \"Accuracy\": [accuracy_train],\n",
    "        \"Precision\": [precision_train],\n",
    "        \"Recall\": [recall_train],\n",
    "        \"CrossVal_Mean\": [average_val],\n",
    "        \"CrossVal_Std\": [std_val]\n",
    "    }).T\n",
    "    \n",
    "    print(result_train)\n",
    "    \n",
    "    print(\"\\n************* Résultats sur le Test *************\\n\")\n",
    "    \n",
    "    # Prédictions sur le test\n",
    "    test_predict = estimator.predict(xtest)\n",
    "    prob_predict_test = estimator.predict_proba(xtest)[:, 1]  # Probabilités pour la classe positive\n",
    "    \n",
    "    # Calcul des métriques de test\n",
    "    accuracy_test = accuracy_score(ytest, test_predict)\n",
    "    precision_test = precision_score(ytest, test_predict)\n",
    "    recall_test = recall_score(ytest, test_predict)\n",
    "    #roc_test = roc_auc_score(ytest, prob_predict_test)\n",
    "    \n",
    "    result_test = pd.DataFrame({\n",
    "        \"Accuracy\": [accuracy_test],\n",
    "        \"Precision\": [precision_test],\n",
    "        \"Recall\": [recall_test],\n",
    "        #'ROC': [roc_test]\n",
    "    }).T\n",
    "    \n",
    "    \n",
    "    return result_train, result_test\n"
   ]
  },
  {
   "cell_type": "code",
   "execution_count": 36,
   "id": "2f4deaf7-d76c-4ea5-99fc-86992b571a54",
   "metadata": {},
   "outputs": [],
   "source": [
    "\n",
    "model_voting = [\n",
    "    ('decision_tree', DecisionTreeClassifier(max_depth=3)),\n",
    "    ('logistic_regression', LogisticRegression(max_iter=1000)),\n",
    "    ('svc', SVC(probability=True))\n",
    "]\n",
    "models = [\n",
    "    ('Regression Logistique', LogisticRegression(max_iter=1000, solver='liblinear')),\n",
    "    ('Random Forest', RandomForestClassifier(n_estimators=100, random_state=42, max_features=5, max_depth=3)),\n",
    "    ('Decision Tree', DecisionTreeClassifier(max_depth=3, max_features=5, criterion='gini', min_samples_leaf=1)),\n",
    "    ('GuassianNB', GaussianNB()),\n",
    "    #('Mutilnominal', MultinomialNB()),\n",
    "    #('Adaboost ', AdaBoostClassifier(estimator= RandomForestClassifier(n_estimators=100, max_depth=3),\n",
    "                                     #learning_rate=0.1)),\n",
    "    ('History', HistGradientBoostingClassifier(max_iter=100, min_samples_leaf=1)),\n",
    "    ('GRadientBoost', GradientBoostingClassifier(learning_rate=0.1, criterion='friedman_mse', n_estimators=100)),\n",
    "   # ('Voting', VotingClassifier(estimators= model_voting,\n",
    "    #                            voting='hard',n_jobs=1, verbose=0)),\n",
    "    ('KNN', KNeighborsClassifier(n_neighbors=3, algorithm='auto'))\n",
    "]"
   ]
  },
  {
   "cell_type": "markdown",
   "id": "98a87fd8-bd14-4e08-811b-bdbfd5acb19f",
   "metadata": {},
   "source": [
    "####  10-1 -OverSampling"
   ]
  },
  {
   "cell_type": "code",
   "execution_count": null,
   "id": "c904e54b-f018-4eff-9815-fdd6cb31baab",
   "metadata": {
    "scrolled": true
   },
   "outputs": [
    {
     "name": "stdout",
     "output_type": "stream",
     "text": [
      "Model: Regression Logistique\n",
      "************* Résultats sur l'Entraînement *************\n",
      "\n",
      "                      0\n",
      "Accuracy       0.620452\n",
      "Precision      0.604374\n",
      "Recall         0.703506\n",
      "CrossVal_Mean  0.628000\n",
      "CrossVal_Std   0.009100\n",
      "\n",
      "************* Résultats sur le Test *************\n",
      "\n",
      "(                      0\n",
      "Accuracy       0.620452\n",
      "Precision      0.604374\n",
      "Recall         0.703506\n",
      "CrossVal_Mean  0.628000\n",
      "CrossVal_Std   0.009100,                   0\n",
      "Accuracy   0.624732\n",
      "Precision  0.602902\n",
      "Recall     0.706337)\n",
      "Model: Random Forest\n",
      "************* Résultats sur l'Entraînement *************\n",
      "\n",
      "                      0\n",
      "Accuracy       0.710180\n",
      "Precision      0.780389\n",
      "Recall         0.587195\n",
      "CrossVal_Mean  0.709500\n",
      "CrossVal_Std   0.003700\n",
      "\n",
      "************* Résultats sur le Test *************\n",
      "\n",
      "(                      0\n",
      "Accuracy       0.710180\n",
      "Precision      0.780389\n",
      "Recall         0.587195\n",
      "CrossVal_Mean  0.709500\n",
      "CrossVal_Std   0.003700,                   0\n",
      "Accuracy   0.703913\n",
      "Precision  0.773609\n",
      "Recall     0.567233)\n",
      "Model: Decision Tree\n",
      "************* Résultats sur l'Entraînement *************\n",
      "\n",
      "                      0\n",
      "Accuracy       0.634668\n",
      "Precision      0.772672\n",
      "Recall         0.384451\n",
      "CrossVal_Mean  0.665400\n",
      "CrossVal_Std   0.019800\n",
      "\n",
      "************* Résultats sur le Test *************\n",
      "\n",
      "(                      0\n",
      "Accuracy       0.634668\n",
      "Precision      0.772672\n",
      "Recall         0.384451\n",
      "CrossVal_Mean  0.665400\n",
      "CrossVal_Std   0.019800,                   0\n",
      "Accuracy   0.638184\n",
      "Precision  0.781453\n",
      "Recall     0.372488)\n",
      "Model: GuassianNB\n",
      "************* Résultats sur l'Entraînement *************\n",
      "\n",
      "                      0\n",
      "Accuracy       0.549564\n",
      "Precision      0.530078\n",
      "Recall         0.895274\n",
      "CrossVal_Mean  0.547200\n",
      "CrossVal_Std   0.007400\n",
      "\n",
      "************* Résultats sur le Test *************\n",
      "\n",
      "(                      0\n",
      "Accuracy       0.549564\n",
      "Precision      0.530078\n",
      "Recall         0.895274\n",
      "CrossVal_Mean  0.547200\n",
      "CrossVal_Std   0.007400,                   0\n",
      "Accuracy   0.551360\n",
      "Precision  0.527174\n",
      "Recall     0.899536)\n",
      "Model: History\n",
      "************* Résultats sur l'Entraînement *************\n",
      "\n"
     ]
    }
   ],
   "source": [
    "X_over = df_over.drop('defaulted', axis = 1)\n",
    "y_over = df_over['defaulted']\n",
    "xtrain, xtest, ytrain,ytest = train_test_split(X_over, y_over, test_size=0.2, random_state=42)\n",
    "\n",
    "for model_name, model in models:\n",
    "    print(f\"Model: {model_name}\")\n",
    "    resultat = training_data(model, xtrain,ytrain, xtest, ytest)\n",
    "    print(resultat)"
   ]
  },
  {
   "cell_type": "markdown",
   "id": "c75d9326-035b-4c4f-899b-613d0921cf1f",
   "metadata": {},
   "source": [
    "#### 10-2- UnderSampling"
   ]
  },
  {
   "cell_type": "code",
   "execution_count": 36,
   "id": "981ba838-d1be-4177-87c9-80b2a4a680f0",
   "metadata": {
    "scrolled": true
   },
   "outputs": [
    {
     "name": "stdout",
     "output_type": "stream",
     "text": [
      "Model: Regression Logistique\n",
      "************* Résultats sur l'Entraînement *************\n",
      "\n",
      "                      0\n",
      "Accuracy       0.658369\n",
      "Precision      0.664498\n",
      "Recall         0.634522\n",
      "CrossVal_Mean  0.642200\n",
      "CrossVal_Std   0.015300\n",
      "\n",
      "************* Résultats sur le Test *************\n",
      "\n",
      "(                      0\n",
      "Accuracy       0.658369\n",
      "Precision      0.664498\n",
      "Recall         0.634522\n",
      "CrossVal_Mean  0.642200\n",
      "CrossVal_Std   0.015300,                   0\n",
      "Accuracy   0.639397\n",
      "Precision  0.652514\n",
      "Recall     0.619300)\n",
      "Model: Random Forest\n",
      "************* Résultats sur l'Entraînement *************\n",
      "\n",
      "                      0\n",
      "Accuracy       0.714209\n",
      "Precision      0.782796\n",
      "Recall         0.589951\n",
      "CrossVal_Mean  0.706000\n",
      "CrossVal_Std   0.013100\n",
      "\n",
      "************* Résultats sur le Test *************\n",
      "\n",
      "(                      0\n",
      "Accuracy       0.714209\n",
      "Precision      0.782796\n",
      "Recall         0.589951\n",
      "CrossVal_Mean  0.706000\n",
      "CrossVal_Std   0.013100,                   0\n",
      "Accuracy   0.698062\n",
      "Precision  0.787651\n",
      "Recall     0.554613)\n",
      "Model: Decision Tree\n",
      "************* Résultats sur l'Entraînement *************\n",
      "\n",
      "                      0\n",
      "Accuracy       0.661195\n",
      "Precision      0.780569\n",
      "Recall         0.444895\n",
      "CrossVal_Mean  0.681800\n",
      "CrossVal_Std   0.022400\n",
      "\n",
      "************* Résultats sur le Test *************\n",
      "\n",
      "(                      0\n",
      "Accuracy       0.661195\n",
      "Precision      0.780569\n",
      "Recall         0.444895\n",
      "CrossVal_Mean  0.681800\n",
      "CrossVal_Std   0.022400,                   0\n",
      "Accuracy   0.634553\n",
      "Precision  0.771605\n",
      "Recall     0.397667)\n",
      "Model: GuassianNB\n",
      "************* Résultats sur l'Entraînement *************\n",
      "\n",
      "                      0\n",
      "Accuracy       0.553821\n",
      "Precision      0.530194\n",
      "Recall         0.915451\n",
      "CrossVal_Mean  0.549500\n",
      "CrossVal_Std   0.004000\n",
      "\n",
      "************* Résultats sur le Test *************\n",
      "\n",
      "(                      0\n",
      "Accuracy       0.553821\n",
      "Precision      0.530194\n",
      "Recall         0.915451\n",
      "CrossVal_Mean  0.549500\n",
      "CrossVal_Std   0.004000,                   0\n",
      "Accuracy   0.543595\n",
      "Precision  0.529231\n",
      "Recall     0.911983)\n",
      "Model: History\n",
      "************* Résultats sur l'Entraînement *************\n",
      "\n",
      "                      0\n",
      "Accuracy       0.859123\n",
      "Precision      0.893333\n",
      "Recall         0.814425\n",
      "CrossVal_Mean  0.718200\n",
      "CrossVal_Std   0.010200\n",
      "\n",
      "************* Résultats sur le Test *************\n",
      "\n",
      "(                      0\n",
      "Accuracy       0.859123\n",
      "Precision      0.893333\n",
      "Recall         0.814425\n",
      "CrossVal_Mean  0.718200\n",
      "CrossVal_Std   0.010200,                   0\n",
      "Accuracy   0.703445\n",
      "Precision  0.743176\n",
      "Recall     0.635207)\n",
      "Model: GRadientBoost\n",
      "************* Résultats sur l'Entraînement *************\n",
      "\n",
      "                      0\n",
      "Accuracy       0.750000\n",
      "Precision      0.801110\n",
      "Recall         0.662615\n",
      "CrossVal_Mean  0.720100\n",
      "CrossVal_Std   0.013200\n",
      "\n",
      "************* Résultats sur le Test *************\n",
      "\n",
      "(                      0\n",
      "Accuracy       0.750000\n",
      "Precision      0.801110\n",
      "Recall         0.662615\n",
      "CrossVal_Mean  0.720100\n",
      "CrossVal_Std   0.013200,                   0\n",
      "Accuracy   0.700753\n",
      "Precision  0.754941\n",
      "Recall     0.607635)\n",
      "Model: KNN\n",
      "************* Résultats sur l'Entraînement *************\n",
      "\n",
      "                      0\n",
      "Accuracy       0.794268\n",
      "Precision      0.806834\n",
      "Recall         0.771745\n",
      "CrossVal_Mean  0.596700\n",
      "CrossVal_Std   0.009600\n",
      "\n",
      "************* Résultats sur le Test *************\n",
      "\n",
      "(                      0\n",
      "Accuracy       0.794268\n",
      "Precision      0.806834\n",
      "Recall         0.771745\n",
      "CrossVal_Mean  0.596700\n",
      "CrossVal_Std   0.009600,                   0\n",
      "Accuracy   0.610334\n",
      "Precision  0.619672\n",
      "Recall     0.601273)\n"
     ]
    }
   ],
   "source": [
    "X_under = df_under.drop('defaulted', axis = 1)\n",
    "y_under = df_under['defaulted']\n",
    "xtrain, xtest, ytrain,ytest = train_test_split(X_under, y_under, test_size=0.2, random_state=42)\n",
    "\n",
    "for model_name, model in models:\n",
    "    print(f\"Model: {model_name}\")\n",
    "    resultat = training_data(model, xtrain,ytrain, xtest, ytest)\n",
    "    print(resultat)"
   ]
  },
  {
   "cell_type": "markdown",
   "id": "47df5ab0-a079-4150-95e0-403c46f473b3",
   "metadata": {},
   "source": [
    "#### 10-3-SMOTE Reasampling"
   ]
  },
  {
   "cell_type": "code",
   "execution_count": 37,
   "id": "b94a7ef1-8651-4f6d-9874-87a5d216492d",
   "metadata": {
    "scrolled": true
   },
   "outputs": [
    {
     "name": "stdout",
     "output_type": "stream",
     "text": [
      "Model: Regression Logistique\n",
      "************* Résultats sur l'Entraînement *************\n",
      "\n",
      "                      0\n",
      "Accuracy       0.636159\n",
      "Precision      0.615880\n",
      "Recall         0.723806\n",
      "CrossVal_Mean  0.670300\n",
      "CrossVal_Std   0.019000\n",
      "\n",
      "************* Résultats sur le Test *************\n",
      "\n",
      "(                      0\n",
      "Accuracy       0.636159\n",
      "Precision      0.615880\n",
      "Recall         0.723806\n",
      "CrossVal_Mean  0.670300\n",
      "CrossVal_Std   0.019000,                   0\n",
      "Accuracy   0.629318\n",
      "Precision  0.606504\n",
      "Recall     0.735780)\n",
      "Model: Random Forest\n",
      "************* Résultats sur l'Entraînement *************\n",
      "\n",
      "                      0\n",
      "Accuracy       0.721759\n",
      "Precision      0.811240\n",
      "Recall         0.578066\n",
      "CrossVal_Mean  0.722000\n",
      "CrossVal_Std   0.007700\n",
      "\n",
      "************* Résultats sur le Test *************\n",
      "\n",
      "(                      0\n",
      "Accuracy       0.721759\n",
      "Precision      0.811240\n",
      "Recall         0.578066\n",
      "CrossVal_Mean  0.722000\n",
      "CrossVal_Std   0.007700,                   0\n",
      "Accuracy   0.714460\n",
      "Precision  0.804518\n",
      "Recall     0.566361)\n",
      "Model: Decision Tree\n",
      "************* Résultats sur l'Entraînement *************\n",
      "\n",
      "                      0\n",
      "Accuracy       0.669176\n",
      "Precision      0.779475\n",
      "Recall         0.471914\n",
      "CrossVal_Mean  0.664700\n",
      "CrossVal_Std   0.022800\n",
      "\n",
      "************* Résultats sur le Test *************\n",
      "\n",
      "(                      0\n",
      "Accuracy       0.669176\n",
      "Precision      0.779475\n",
      "Recall         0.471914\n",
      "CrossVal_Mean  0.664700\n",
      "CrossVal_Std   0.022800,                   0\n",
      "Accuracy   0.664781\n",
      "Precision  0.772935\n",
      "Recall     0.466361)\n",
      "Model: GuassianNB\n",
      "************* Résultats sur l'Entraînement *************\n",
      "\n",
      "                      0\n",
      "Accuracy       0.548762\n",
      "Precision      0.527596\n",
      "Recall         0.932900\n",
      "CrossVal_Mean  0.549800\n",
      "CrossVal_Std   0.001700\n",
      "\n",
      "************* Résultats sur le Test *************\n",
      "\n",
      "(                      0\n",
      "Accuracy       0.548762\n",
      "Precision      0.527596\n",
      "Recall         0.932900\n",
      "CrossVal_Mean  0.549800\n",
      "CrossVal_Std   0.001700,                   0\n",
      "Accuracy   0.549373\n",
      "Precision  0.527606\n",
      "Recall     0.940979)\n",
      "Model: History\n",
      "************* Résultats sur l'Entraînement *************\n",
      "\n",
      "                      0\n",
      "Accuracy       0.839651\n",
      "Precision      0.865171\n",
      "Recall         0.804738\n",
      "CrossVal_Mean  0.804800\n",
      "CrossVal_Std   0.005000\n",
      "\n",
      "************* Résultats sur le Test *************\n",
      "\n",
      "(                      0\n",
      "Accuracy       0.839651\n",
      "Precision      0.865171\n",
      "Recall         0.804738\n",
      "CrossVal_Mean  0.804800\n",
      "CrossVal_Std   0.005000,                   0\n",
      "Accuracy   0.809844\n",
      "Precision  0.830830\n",
      "Recall     0.777982)\n",
      "Model: GRadientBoost\n",
      "************* Résultats sur l'Entraînement *************\n",
      "\n",
      "                      0\n",
      "Accuracy       0.790890\n",
      "Precision      0.811983\n",
      "Recall         0.757126\n",
      "CrossVal_Mean  0.783100\n",
      "CrossVal_Std   0.006600\n",
      "\n",
      "************* Résultats sur le Test *************\n",
      "\n",
      "(                      0\n",
      "Accuracy       0.790890\n",
      "Precision      0.811983\n",
      "Recall         0.757126\n",
      "CrossVal_Mean  0.783100\n",
      "CrossVal_Std   0.006600,                   0\n",
      "Accuracy   0.787985\n",
      "Precision  0.808992\n",
      "Recall     0.753823)\n",
      "Model: KNN\n",
      "************* Résultats sur l'Entraînement *************\n",
      "\n",
      "                      0\n",
      "Accuracy       0.883178\n",
      "Precision      0.827798\n",
      "Recall         0.967673\n",
      "CrossVal_Mean  0.746800\n",
      "CrossVal_Std   0.003500\n",
      "\n",
      "************* Résultats sur le Test *************\n",
      "\n",
      "(                      0\n",
      "Accuracy       0.883178\n",
      "Precision      0.827798\n",
      "Recall         0.967673\n",
      "CrossVal_Mean  0.746800\n",
      "CrossVal_Std   0.003500,                   0\n",
      "Accuracy   0.769031\n",
      "Precision  0.713626\n",
      "Recall     0.898471)\n"
     ]
    }
   ],
   "source": [
    "xtrain, xtest, ytrain,ytest = train_test_split(Xsmote, ysmote, test_size=0.2, random_state=42)\n",
    "\n",
    "for model_name, model in models:\n",
    "    print(f\"Model: {model_name}\")\n",
    "    resultat = training_data(model, xtrain,ytrain, xtest, ytest)\n",
    "    print(resultat)"
   ]
  },
  {
   "cell_type": "markdown",
   "id": "f80bf482-63e6-405c-be5d-1d8dec925ad6",
   "metadata": {},
   "source": [
    "### 11-Selection des modèles et leurs hyperparamètre avec Optuna"
   ]
  },
  {
   "cell_type": "code",
   "execution_count": 38,
   "id": "929e2cda-a8d0-4671-8440-de44071c81fb",
   "metadata": {
    "scrolled": true
   },
   "outputs": [
    {
     "name": "stderr",
     "output_type": "stream",
     "text": [
      "[I 2024-10-29 15:01:28,204] A new study created in memory with name: no-name-225476aa-32af-4628-9460-be356dda41a0\n"
     ]
    },
    {
     "name": "stdout",
     "output_type": "stream",
     "text": [
      "************* Résultats sur l'Entraînement *************\n",
      "\n",
      "\n",
      "************* Résultats sur le Test *************\n",
      "\n"
     ]
    },
    {
     "name": "stderr",
     "output_type": "stream",
     "text": [
      "[I 2024-10-29 15:02:04,291] Trial 0 finished with value: 0.7039827771797632 and parameters: {'model': 'RandomForestClassifier', 'n_estimators_rand': 184, 'max_depth_rand': 6}. Best is trial 0 with value: 0.7039827771797632.\n"
     ]
    },
    {
     "name": "stdout",
     "output_type": "stream",
     "text": [
      "************* Résultats sur l'Entraînement *************\n",
      "\n",
      "\n",
      "************* Résultats sur le Test *************\n",
      "\n"
     ]
    },
    {
     "name": "stderr",
     "output_type": "stream",
     "text": [
      "[I 2024-10-29 15:02:14,590] Trial 1 finished with value: 0.7066738428417654 and parameters: {'model': 'HistGradientBoostingClassifier', 'learning_rate_hist': 0.07391722698189926, 'max_depth_hist': 3, 'max_iter_hist': 126}. Best is trial 1 with value: 0.7066738428417654.\n"
     ]
    },
    {
     "name": "stdout",
     "output_type": "stream",
     "text": [
      "************* Résultats sur l'Entraînement *************\n",
      "\n",
      "\n",
      "************* Résultats sur le Test *************\n",
      "\n"
     ]
    },
    {
     "name": "stderr",
     "output_type": "stream",
     "text": [
      "[I 2024-10-29 15:02:31,355] Trial 2 finished with value: 0.6146393972012917 and parameters: {'model': 'KNeighborsClassifier', 'n_neighbors': 7, 'algorithm': 'kd_tree'}. Best is trial 1 with value: 0.7066738428417654.\n"
     ]
    },
    {
     "name": "stdout",
     "output_type": "stream",
     "text": [
      "************* Résultats sur l'Entraînement *************\n",
      "\n",
      "\n",
      "************* Résultats sur le Test *************\n",
      "\n"
     ]
    },
    {
     "name": "stderr",
     "output_type": "stream",
     "text": [
      "[I 2024-10-29 15:02:51,447] Trial 3 finished with value: 0.7077502691065662 and parameters: {'model': 'HistGradientBoostingClassifier', 'learning_rate_hist': 0.050634163119037, 'max_depth_hist': 9, 'max_iter_hist': 184}. Best is trial 3 with value: 0.7077502691065662.\n"
     ]
    },
    {
     "name": "stdout",
     "output_type": "stream",
     "text": [
      "************* Résultats sur l'Entraînement *************\n",
      "\n",
      "\n",
      "************* Résultats sur le Test *************\n",
      "\n"
     ]
    },
    {
     "name": "stderr",
     "output_type": "stream",
     "text": [
      "[I 2024-10-29 15:03:01,396] Trial 4 finished with value: 0.6883745963401507 and parameters: {'model': 'XGBClassifier', 'n_estimators_xgb': 78, 'learning_rate_xgb': 0.010139215023794031, 'max_depth_xgb': 3}. Best is trial 3 with value: 0.7077502691065662.\n"
     ]
    },
    {
     "name": "stdout",
     "output_type": "stream",
     "text": [
      "************* Résultats sur l'Entraînement *************\n",
      "\n",
      "\n",
      "************* Résultats sur le Test *************\n",
      "\n"
     ]
    },
    {
     "name": "stderr",
     "output_type": "stream",
     "text": [
      "[I 2024-10-29 15:03:19,381] Trial 5 finished with value: 0.5952637244348762 and parameters: {'model': 'KNeighborsClassifier', 'n_neighbors': 4, 'algorithm': 'ball_tree'}. Best is trial 3 with value: 0.7077502691065662.\n"
     ]
    },
    {
     "name": "stdout",
     "output_type": "stream",
     "text": [
      "************* Résultats sur l'Entraînement *************\n",
      "\n",
      "\n",
      "************* Résultats sur le Test *************\n",
      "\n"
     ]
    },
    {
     "name": "stderr",
     "output_type": "stream",
     "text": [
      "[I 2024-10-29 15:03:37,456] Trial 6 finished with value: 0.6151776103336921 and parameters: {'model': 'KNeighborsClassifier', 'n_neighbors': 8, 'algorithm': 'ball_tree'}. Best is trial 3 with value: 0.7077502691065662.\n"
     ]
    },
    {
     "name": "stdout",
     "output_type": "stream",
     "text": [
      "************* Résultats sur l'Entraînement *************\n",
      "\n",
      "\n",
      "************* Résultats sur le Test *************\n",
      "\n"
     ]
    },
    {
     "name": "stderr",
     "output_type": "stream",
     "text": [
      "[I 2024-10-29 15:03:47,432] Trial 7 finished with value: 0.6393972012917115 and parameters: {'model': 'LogisticRegression', 'solver': 'liblinear', 'max_iter_log': 1174}. Best is trial 3 with value: 0.7077502691065662.\n"
     ]
    },
    {
     "name": "stdout",
     "output_type": "stream",
     "text": [
      "************* Résultats sur l'Entraînement *************\n",
      "\n",
      "\n",
      "************* Résultats sur le Test *************\n",
      "\n"
     ]
    },
    {
     "name": "stderr",
     "output_type": "stream",
     "text": [
      "[I 2024-10-29 15:04:06,658] Trial 8 finished with value: 0.6103336921420882 and parameters: {'model': 'KNeighborsClassifier', 'n_neighbors': 3, 'algorithm': 'auto'}. Best is trial 3 with value: 0.7077502691065662.\n",
      "/home/einstein/.local/lib/python3.10/site-packages/sklearn/linear_model/_sag.py:349: ConvergenceWarning: The max_iter was reached which means the coef_ did not converge\n",
      "  warnings.warn(\n"
     ]
    },
    {
     "name": "stdout",
     "output_type": "stream",
     "text": [
      "************* Résultats sur l'Entraînement *************\n",
      "\n"
     ]
    },
    {
     "name": "stderr",
     "output_type": "stream",
     "text": [
      "/home/einstein/.local/lib/python3.10/site-packages/sklearn/linear_model/_sag.py:349: ConvergenceWarning: The max_iter was reached which means the coef_ did not converge\n",
      "  warnings.warn(\n",
      "/home/einstein/.local/lib/python3.10/site-packages/sklearn/linear_model/_sag.py:349: ConvergenceWarning: The max_iter was reached which means the coef_ did not converge\n",
      "  warnings.warn(\n",
      "/home/einstein/.local/lib/python3.10/site-packages/sklearn/linear_model/_sag.py:349: ConvergenceWarning: The max_iter was reached which means the coef_ did not converge\n",
      "  warnings.warn(\n",
      "/home/einstein/.local/lib/python3.10/site-packages/sklearn/linear_model/_sag.py:349: ConvergenceWarning: The max_iter was reached which means the coef_ did not converge\n",
      "  warnings.warn(\n",
      "/home/einstein/.local/lib/python3.10/site-packages/sklearn/linear_model/_sag.py:349: ConvergenceWarning: The max_iter was reached which means the coef_ did not converge\n",
      "  warnings.warn(\n"
     ]
    },
    {
     "name": "stdout",
     "output_type": "stream",
     "text": [
      "\n",
      "************* Résultats sur le Test *************\n",
      "\n"
     ]
    },
    {
     "name": "stderr",
     "output_type": "stream",
     "text": [
      "[I 2024-10-29 15:05:22,708] Trial 9 finished with value: 0.5613562970936491 and parameters: {'model': 'LogisticRegression', 'solver': 'saga', 'max_iter_log': 1949}. Best is trial 3 with value: 0.7077502691065662.\n"
     ]
    },
    {
     "name": "stdout",
     "output_type": "stream",
     "text": [
      "************* Résultats sur l'Entraînement *************\n",
      "\n",
      "\n",
      "************* Résultats sur le Test *************\n",
      "\n"
     ]
    },
    {
     "name": "stderr",
     "output_type": "stream",
     "text": [
      "[I 2024-10-29 15:05:46,920] Trial 10 finished with value: 0.7039827771797632 and parameters: {'model': 'HistGradientBoostingClassifier', 'learning_rate_hist': 0.02196943559921132, 'max_depth_hist': 10, 'max_iter_hist': 248}. Best is trial 3 with value: 0.7077502691065662.\n"
     ]
    },
    {
     "name": "stdout",
     "output_type": "stream",
     "text": [
      "************* Résultats sur l'Entraînement *************\n",
      "\n",
      "\n",
      "************* Résultats sur le Test *************\n",
      "\n"
     ]
    },
    {
     "name": "stderr",
     "output_type": "stream",
     "text": [
      "[I 2024-10-29 15:05:56,087] Trial 11 finished with value: 0.7039827771797632 and parameters: {'model': 'HistGradientBoostingClassifier', 'learning_rate_hist': 0.0913789585862267, 'max_depth_hist': 3, 'max_iter_hist': 113}. Best is trial 3 with value: 0.7077502691065662.\n"
     ]
    },
    {
     "name": "stdout",
     "output_type": "stream",
     "text": [
      "************* Résultats sur l'Entraînement *************\n",
      "\n",
      "\n",
      "************* Résultats sur le Test *************\n",
      "\n"
     ]
    },
    {
     "name": "stderr",
     "output_type": "stream",
     "text": [
      "[I 2024-10-29 15:06:12,351] Trial 12 finished with value: 0.6986006458557589 and parameters: {'model': 'HistGradientBoostingClassifier', 'learning_rate_hist': 0.06656465837294648, 'max_depth_hist': 8, 'max_iter_hist': 142}. Best is trial 3 with value: 0.7077502691065662.\n"
     ]
    },
    {
     "name": "stdout",
     "output_type": "stream",
     "text": [
      "************* Résultats sur l'Entraînement *************\n",
      "\n",
      "\n",
      "************* Résultats sur le Test *************\n",
      "\n"
     ]
    },
    {
     "name": "stderr",
     "output_type": "stream",
     "text": [
      "[I 2024-10-29 15:06:21,443] Trial 13 finished with value: 0.7082884822389667 and parameters: {'model': 'HistGradientBoostingClassifier', 'learning_rate_hist': 0.047234217476259444, 'max_depth_hist': 3, 'max_iter_hist': 179}. Best is trial 13 with value: 0.7082884822389667.\n"
     ]
    },
    {
     "name": "stdout",
     "output_type": "stream",
     "text": [
      "************* Résultats sur l'Entraînement *************\n",
      "\n",
      "\n",
      "************* Résultats sur le Test *************\n",
      "\n"
     ]
    },
    {
     "name": "stderr",
     "output_type": "stream",
     "text": [
      "[I 2024-10-29 15:06:39,711] Trial 14 finished with value: 0.7061356297093649 and parameters: {'model': 'HistGradientBoostingClassifier', 'learning_rate_hist': 0.03726713244521958, 'max_depth_hist': 6, 'max_iter_hist': 200}. Best is trial 13 with value: 0.7082884822389667.\n"
     ]
    },
    {
     "name": "stdout",
     "output_type": "stream",
     "text": [
      "************* Résultats sur l'Entraînement *************\n",
      "\n",
      "\n",
      "************* Résultats sur le Test *************\n",
      "\n"
     ]
    },
    {
     "name": "stderr",
     "output_type": "stream",
     "text": [
      "[I 2024-10-29 15:07:06,312] Trial 15 finished with value: 0.7088266953713671 and parameters: {'model': 'XGBClassifier', 'n_estimators_xgb': 192, 'learning_rate_xgb': 0.17646001880043038, 'max_depth_xgb': 10}. Best is trial 15 with value: 0.7088266953713671.\n"
     ]
    },
    {
     "name": "stdout",
     "output_type": "stream",
     "text": [
      "************* Résultats sur l'Entraînement *************\n",
      "\n",
      "\n",
      "************* Résultats sur le Test *************\n",
      "\n"
     ]
    },
    {
     "name": "stderr",
     "output_type": "stream",
     "text": [
      "[I 2024-10-29 15:07:30,535] Trial 16 finished with value: 0.7185145317545748 and parameters: {'model': 'XGBClassifier', 'n_estimators_xgb': 189, 'learning_rate_xgb': 0.2755196214227407, 'max_depth_xgb': 10}. Best is trial 16 with value: 0.7185145317545748.\n"
     ]
    },
    {
     "name": "stdout",
     "output_type": "stream",
     "text": [
      "************* Résultats sur l'Entraînement *************\n",
      "\n",
      "\n",
      "************* Résultats sur le Test *************\n",
      "\n"
     ]
    },
    {
     "name": "stderr",
     "output_type": "stream",
     "text": [
      "[I 2024-10-29 15:07:55,384] Trial 17 finished with value: 0.7179763186221744 and parameters: {'model': 'XGBClassifier', 'n_estimators_xgb': 199, 'learning_rate_xgb': 0.27283325256921453, 'max_depth_xgb': 10}. Best is trial 16 with value: 0.7185145317545748.\n"
     ]
    },
    {
     "name": "stdout",
     "output_type": "stream",
     "text": [
      "************* Résultats sur l'Entraînement *************\n",
      "\n",
      "\n",
      "************* Résultats sur le Test *************\n",
      "\n"
     ]
    },
    {
     "name": "stderr",
     "output_type": "stream",
     "text": [
      "[I 2024-10-29 15:08:19,608] Trial 18 finished with value: 0.7088266953713671 and parameters: {'model': 'XGBClassifier', 'n_estimators_xgb': 199, 'learning_rate_xgb': 0.2955934528012167, 'max_depth_xgb': 10}. Best is trial 16 with value: 0.7185145317545748.\n"
     ]
    },
    {
     "name": "stdout",
     "output_type": "stream",
     "text": [
      "************* Résultats sur l'Entraînement *************\n",
      "\n",
      "\n",
      "************* Résultats sur le Test *************\n",
      "\n"
     ]
    },
    {
     "name": "stderr",
     "output_type": "stream",
     "text": [
      "[I 2024-10-29 15:08:40,528] Trial 19 finished with value: 0.7115177610333692 and parameters: {'model': 'XGBClassifier', 'n_estimators_xgb': 157, 'learning_rate_xgb': 0.10573743033961122, 'max_depth_xgb': 8}. Best is trial 16 with value: 0.7185145317545748.\n"
     ]
    },
    {
     "name": "stdout",
     "output_type": "stream",
     "text": [
      "Meilleurs paramètres : {'model': 'XGBClassifier', 'n_estimators_xgb': 189, 'learning_rate_xgb': 0.2755196214227407, 'max_depth_xgb': 10}\n",
      "Précision maximale : 0.7185145317545748\n"
     ]
    }
   ],
   "source": [
    "from xgboost import XGBClassifier\n",
    "import optuna\n",
    "\n",
    "#### udersampling\n",
    "X_under = df_under.drop('defaulted', axis = 1)\n",
    "y_under = df_under['defaulted']\n",
    "xtrain, xtest, ytrain,ytest = train_test_split(X_under, y_under, test_size=0.2, random_state=42)\n",
    "\n",
    "\n",
    "# Fonction pour l'évaluation du modèle\n",
    "def training_data(estimator, xtrain, ytrain, xtest, ytest):\n",
    "    # Entraînement du modèle\n",
    "    estimator.fit(xtrain, ytrain)\n",
    "    print(\"************* Résultats sur l'Entraînement *************\\n\")\n",
    "    \n",
    "    # Prédictions et calcul des métriques sur l'entraînement\n",
    "    train_predict = estimator.predict(xtrain)\n",
    "    prob_predict_train = estimator.predict_proba(xtrain)[:, 1]  # Probabilités pour la classe positive\n",
    "    \n",
    "    accuracy_train = accuracy_score(ytrain, train_predict)\n",
    "    precision_train = precision_score(ytrain, train_predict)\n",
    "    recall_train = recall_score(ytrain, train_predict)\n",
    "    validation_cross = cross_val_score(estimator, xtrain, ytrain, cv=5)\n",
    "    average_val = np.round(np.mean(validation_cross), 4)\n",
    "    std_val = np.round(np.std(validation_cross), 4)\n",
    "    \n",
    "    result_train = pd.DataFrame({\n",
    "        \"Accuracy\": [accuracy_train],\n",
    "        \"Precision\": [precision_train],\n",
    "        \"Recall\": [recall_train],\n",
    "        \"CrossVal_Mean\": [average_val],\n",
    "        \"CrossVal_Std\": [std_val]\n",
    "    }).T\n",
    "\n",
    "    \n",
    "    print(\"\\n************* Résultats sur le Test *************\\n\")\n",
    "    \n",
    "    # Prédictions et calcul des métriques sur le test\n",
    "    test_predict = estimator.predict(xtest)\n",
    "    prob_predict_test = estimator.predict_proba(xtest)[:, 1]  # Probabilités pour la classe positive\n",
    "    \n",
    "    accuracy_test = accuracy_score(ytest, test_predict)\n",
    "    precision_test = precision_score(ytest, test_predict)\n",
    "    recall_test = recall_score(ytest, test_predict)\n",
    "\n",
    "     # Entraîner et évaluer le modèle avec validation croisée\n",
    "    validation_cross = cross_val_score(model, xtrain, ytrain, cv=5)\n",
    "    average_val = np.round(np.mean(validation_cross), 4)\n",
    "    result_test = pd.DataFrame({\n",
    "        \"Accuracy\": [accuracy_test],\n",
    "        \"Precision\": [precision_test],\n",
    "        \"Recall\": [recall_test]\n",
    "    }).T\n",
    "    return result_train, result_test\n",
    "# Fonction d'optimisation avec Optuna\n",
    "def objective(trial):\n",
    "    model_type = trial.suggest_categorical(\"model\", [\"HistGradientBoostingClassifier\", \"KNeighborsClassifier\", \n",
    "                                                     \"LogisticRegression\", \"RandomForestClassifier\", \"XGBClassifier\"])\n",
    "    \n",
    "    if model_type == \"RandomForestClassifier\":\n",
    "        n_estimators_rand = trial.suggest_int(\"n_estimators_rand\", 100, 200)\n",
    "        max_depth_rand = trial.suggest_int(\"max_depth_rand\", 3, 10)\n",
    "        model = RandomForestClassifier(n_estimators=n_estimators_rand, max_depth=max_depth_rand)\n",
    "    \n",
    "    elif model_type == \"KNeighborsClassifier\":\n",
    "        n_neighbors = trial.suggest_int(\"n_neighbors\", 3, 10)\n",
    "        algorithm = trial.suggest_categorical('algorithm', [\"auto\", \"ball_tree\", \"kd_tree\", \"brute\"])\n",
    "        model = KNeighborsClassifier(n_neighbors=n_neighbors, algorithm=algorithm)\n",
    "    \n",
    "    elif model_type == \"LogisticRegression\":\n",
    "        solver = trial.suggest_categorical(\"solver\", [\"liblinear\", \"saga\"])\n",
    "        max_iter_log = trial.suggest_int('max_iter_log', 1000, 2000)\n",
    "        model = LogisticRegression(solver=solver, max_iter=max_iter_log)\n",
    "    \n",
    "    elif model_type == \"HistGradientBoostingClassifier\":\n",
    "        learning_rate_hist = trial.suggest_float(\"learning_rate_hist\", 0.01, 0.1, log = True)\n",
    "        max_depth_hist = trial.suggest_int(\"max_depth_hist\", 3, 10)\n",
    "        max_iter_hist= trial.suggest_int(\"max_iter_hist\", 100, 300)\n",
    "        model = HistGradientBoostingClassifier(learning_rate=learning_rate_hist,\n",
    "                                               max_depth=max_depth_hist, max_iter=max_iter_hist)\n",
    "    \n",
    "    elif model_type == 'XGBClassifier':\n",
    "        n_estimators_xgb = trial.suggest_int('n_estimators_xgb', 50, 200)\n",
    "        learning_rate_xgb = trial.suggest_float('learning_rate_xgb', 0.01, 0.3, log = True)\n",
    "        max_depth_xbg = trial.suggest_int('max_depth_xgb', 3, 10)\n",
    "        model = XGBClassifier(n_estimators=n_estimators_xgb, learning_rate=learning_rate_xgb,\n",
    "                              max_depth=max_depth_xbg)\n",
    "\n",
    "    result_train, result_test = training_data(model, xtrain, ytrain, xtest, ytest)\n",
    "    return result_test.loc[\"Accuracy\"].values[0]  # Retourner l'Accuracy du test pour Optuna\n",
    "\n",
    "# Lancer l'optimisation\n",
    "study = optuna.create_study(direction=\"maximize\")\n",
    "study.optimize(objective, n_trials=20)\n",
    "\n",
    "print(\"Meilleurs paramètres :\", study.best_params)\n",
    "print(\"Précision maximale :\", study.best_value)"
   ]
  },
  {
   "cell_type": "markdown",
   "id": "1bf69146-1612-4d94-8d69-ef71f338a4a6",
   "metadata": {},
   "source": [
    "#### 11-1 SMOTE sampling avec Optuna"
   ]
  },
  {
   "cell_type": "code",
   "execution_count": 39,
   "id": "2d2fa1e0-12da-4e7a-a1af-cbba3d8d0b4c",
   "metadata": {
    "scrolled": true
   },
   "outputs": [
    {
     "name": "stderr",
     "output_type": "stream",
     "text": [
      "[I 2024-10-29 15:08:43,545] A new study created in memory with name: no-name-709a805e-11cf-499a-9c80-9c2f8095a7f7\n"
     ]
    },
    {
     "name": "stdout",
     "output_type": "stream",
     "text": [
      "************* Résultats sur l'Entraînement *************\n",
      "\n",
      "\n",
      "************* Résultats sur le Test *************\n",
      "\n"
     ]
    },
    {
     "name": "stderr",
     "output_type": "stream",
     "text": [
      "[I 2024-10-29 15:11:02,733] Trial 0 finished with value: 0.7690308774075206 and parameters: {'model': 'KNeighborsClassifier', 'n_neighbors': 3, 'algorithm': 'auto'}. Best is trial 0 with value: 0.7690308774075206.\n"
     ]
    },
    {
     "name": "stdout",
     "output_type": "stream",
     "text": [
      "************* Résultats sur l'Entraînement *************\n",
      "\n",
      "\n",
      "************* Résultats sur le Test *************\n",
      "\n"
     ]
    },
    {
     "name": "stderr",
     "output_type": "stream",
     "text": [
      "[I 2024-10-29 15:13:16,854] Trial 1 finished with value: 0.7690308774075206 and parameters: {'model': 'KNeighborsClassifier', 'n_neighbors': 3, 'algorithm': 'auto'}. Best is trial 0 with value: 0.7690308774075206.\n"
     ]
    },
    {
     "name": "stdout",
     "output_type": "stream",
     "text": [
      "************* Résultats sur l'Entraînement *************\n",
      "\n",
      "\n",
      "************* Résultats sur le Test *************\n",
      "\n"
     ]
    },
    {
     "name": "stderr",
     "output_type": "stream",
     "text": [
      "[I 2024-10-29 15:14:20,674] Trial 2 finished with value: 0.7248547844695812 and parameters: {'model': 'RandomForestClassifier', 'n_estimators_rand': 160, 'max_depth_rand': 3}. Best is trial 0 with value: 0.7690308774075206.\n"
     ]
    },
    {
     "name": "stdout",
     "output_type": "stream",
     "text": [
      "************* Résultats sur l'Entraînement *************\n",
      "\n",
      "\n",
      "************* Résultats sur le Test *************\n",
      "\n"
     ]
    },
    {
     "name": "stderr",
     "output_type": "stream",
     "text": [
      "[I 2024-10-29 15:15:32,808] Trial 3 finished with value: 0.7337205747477835 and parameters: {'model': 'KNeighborsClassifier', 'n_neighbors': 6, 'algorithm': 'kd_tree'}. Best is trial 0 with value: 0.7690308774075206.\n"
     ]
    },
    {
     "name": "stdout",
     "output_type": "stream",
     "text": [
      "************* Résultats sur l'Entraînement *************\n",
      "\n",
      "\n",
      "************* Résultats sur le Test *************\n",
      "\n"
     ]
    },
    {
     "name": "stderr",
     "output_type": "stream",
     "text": [
      "[I 2024-10-29 15:16:31,893] Trial 4 finished with value: 0.7817181290125343 and parameters: {'model': 'HistGradientBoostingClassifier', 'learning_rate_hist': 0.010642312572365299, 'max_depth_hist': 9, 'max_iter_hist': 185}. Best is trial 4 with value: 0.7817181290125343.\n"
     ]
    },
    {
     "name": "stdout",
     "output_type": "stream",
     "text": [
      "************* Résultats sur l'Entraînement *************\n",
      "\n",
      "\n",
      "************* Résultats sur le Test *************\n",
      "\n"
     ]
    },
    {
     "name": "stderr",
     "output_type": "stream",
     "text": [
      "[I 2024-10-29 15:18:57,528] Trial 5 finished with value: 0.7632222561907673 and parameters: {'model': 'KNeighborsClassifier', 'n_neighbors': 4, 'algorithm': 'brute'}. Best is trial 4 with value: 0.7817181290125343.\n"
     ]
    },
    {
     "name": "stdout",
     "output_type": "stream",
     "text": [
      "************* Résultats sur l'Entraînement *************\n",
      "\n",
      "\n",
      "************* Résultats sur le Test *************\n",
      "\n"
     ]
    },
    {
     "name": "stderr",
     "output_type": "stream",
     "text": [
      "[I 2024-10-29 15:20:35,793] Trial 6 finished with value: 0.7124732497707124 and parameters: {'model': 'KNeighborsClassifier', 'n_neighbors': 10, 'algorithm': 'kd_tree'}. Best is trial 4 with value: 0.7817181290125343.\n"
     ]
    },
    {
     "name": "stdout",
     "output_type": "stream",
     "text": [
      "************* Résultats sur l'Entraînement *************\n",
      "\n",
      "\n",
      "************* Résultats sur le Test *************\n",
      "\n"
     ]
    },
    {
     "name": "stderr",
     "output_type": "stream",
     "text": [
      "[I 2024-10-29 15:22:41,907] Trial 7 finished with value: 0.7873738917762152 and parameters: {'model': 'RandomForestClassifier', 'n_estimators_rand': 162, 'max_depth_rand': 9}. Best is trial 7 with value: 0.7873738917762152.\n",
      "/home/einstein/.local/lib/python3.10/site-packages/sklearn/linear_model/_sag.py:349: ConvergenceWarning: The max_iter was reached which means the coef_ did not converge\n",
      "  warnings.warn(\n"
     ]
    },
    {
     "name": "stdout",
     "output_type": "stream",
     "text": [
      "************* Résultats sur l'Entraînement *************\n",
      "\n"
     ]
    },
    {
     "name": "stderr",
     "output_type": "stream",
     "text": [
      "/home/einstein/.local/lib/python3.10/site-packages/sklearn/linear_model/_sag.py:349: ConvergenceWarning: The max_iter was reached which means the coef_ did not converge\n",
      "  warnings.warn(\n",
      "/home/einstein/.local/lib/python3.10/site-packages/sklearn/linear_model/_sag.py:349: ConvergenceWarning: The max_iter was reached which means the coef_ did not converge\n",
      "  warnings.warn(\n",
      "/home/einstein/.local/lib/python3.10/site-packages/sklearn/linear_model/_sag.py:349: ConvergenceWarning: The max_iter was reached which means the coef_ did not converge\n",
      "  warnings.warn(\n",
      "/home/einstein/.local/lib/python3.10/site-packages/sklearn/linear_model/_sag.py:349: ConvergenceWarning: The max_iter was reached which means the coef_ did not converge\n",
      "  warnings.warn(\n",
      "/home/einstein/.local/lib/python3.10/site-packages/sklearn/linear_model/_sag.py:349: ConvergenceWarning: The max_iter was reached which means the coef_ did not converge\n",
      "  warnings.warn(\n"
     ]
    },
    {
     "name": "stdout",
     "output_type": "stream",
     "text": [
      "\n",
      "************* Résultats sur le Test *************\n",
      "\n"
     ]
    },
    {
     "name": "stderr",
     "output_type": "stream",
     "text": [
      "[I 2024-10-29 15:27:26,675] Trial 8 finished with value: 0.5767349434423724 and parameters: {'model': 'LogisticRegression', 'solver': 'saga', 'max_iter_log': 1558}. Best is trial 7 with value: 0.7873738917762152.\n"
     ]
    },
    {
     "name": "stdout",
     "output_type": "stream",
     "text": [
      "************* Résultats sur l'Entraînement *************\n",
      "\n",
      "\n",
      "************* Résultats sur le Test *************\n",
      "\n"
     ]
    },
    {
     "name": "stderr",
     "output_type": "stream",
     "text": [
      "[I 2024-10-29 15:29:39,790] Trial 9 finished with value: 0.7847752980739835 and parameters: {'model': 'RandomForestClassifier', 'n_estimators_rand': 184, 'max_depth_rand': 9}. Best is trial 7 with value: 0.7873738917762152.\n"
     ]
    },
    {
     "name": "stdout",
     "output_type": "stream",
     "text": [
      "************* Résultats sur l'Entraînement *************\n",
      "\n",
      "\n",
      "************* Résultats sur le Test *************\n",
      "\n"
     ]
    },
    {
     "name": "stderr",
     "output_type": "stream",
     "text": [
      "[I 2024-10-29 15:30:34,382] Trial 10 finished with value: 0.8060226230510548 and parameters: {'model': 'XGBClassifier', 'n_estimators_xgb': 95, 'learning_rate_xgb': 0.04581422592892532, 'max_depth_xgb': 7}. Best is trial 10 with value: 0.8060226230510548.\n"
     ]
    },
    {
     "name": "stdout",
     "output_type": "stream",
     "text": [
      "************* Résultats sur l'Entraînement *************\n",
      "\n",
      "\n",
      "************* Résultats sur le Test *************\n",
      "\n"
     ]
    },
    {
     "name": "stderr",
     "output_type": "stream",
     "text": [
      "[I 2024-10-29 15:31:39,577] Trial 11 finished with value: 0.8075512075817792 and parameters: {'model': 'XGBClassifier', 'n_estimators_xgb': 92, 'learning_rate_xgb': 0.04163259340418975, 'max_depth_xgb': 8}. Best is trial 11 with value: 0.8075512075817792.\n"
     ]
    },
    {
     "name": "stdout",
     "output_type": "stream",
     "text": [
      "************* Résultats sur l'Entraînement *************\n",
      "\n",
      "\n",
      "************* Résultats sur le Test *************\n",
      "\n"
     ]
    },
    {
     "name": "stderr",
     "output_type": "stream",
     "text": [
      "[I 2024-10-29 15:32:42,930] Trial 12 finished with value: 0.8086212167532865 and parameters: {'model': 'XGBClassifier', 'n_estimators_xgb': 91, 'learning_rate_xgb': 0.03954580330653909, 'max_depth_xgb': 8}. Best is trial 12 with value: 0.8086212167532865.\n"
     ]
    },
    {
     "name": "stdout",
     "output_type": "stream",
     "text": [
      "************* Résultats sur l'Entraînement *************\n",
      "\n",
      "\n",
      "************* Résultats sur le Test *************\n",
      "\n"
     ]
    },
    {
     "name": "stderr",
     "output_type": "stream",
     "text": [
      "[I 2024-10-29 15:33:51,903] Trial 13 finished with value: 0.8144298379700398 and parameters: {'model': 'XGBClassifier', 'n_estimators_xgb': 86, 'learning_rate_xgb': 0.043571259603385454, 'max_depth_xgb': 9}. Best is trial 13 with value: 0.8144298379700398.\n"
     ]
    },
    {
     "name": "stdout",
     "output_type": "stream",
     "text": [
      "************* Résultats sur l'Entraînement *************\n",
      "\n",
      "\n",
      "************* Résultats sur le Test *************\n",
      "\n"
     ]
    },
    {
     "name": "stderr",
     "output_type": "stream",
     "text": [
      "[I 2024-10-29 15:34:58,045] Trial 14 finished with value: 0.7867624579639254 and parameters: {'model': 'XGBClassifier', 'n_estimators_xgb': 51, 'learning_rate_xgb': 0.014376505191315937, 'max_depth_xgb': 10}. Best is trial 13 with value: 0.8144298379700398.\n"
     ]
    },
    {
     "name": "stdout",
     "output_type": "stream",
     "text": [
      "************* Résultats sur l'Entraînement *************\n",
      "\n",
      "\n",
      "************* Résultats sur le Test *************\n",
      "\n"
     ]
    },
    {
     "name": "stderr",
     "output_type": "stream",
     "text": [
      "[I 2024-10-29 15:35:49,350] Trial 15 finished with value: 0.8147355548761847 and parameters: {'model': 'XGBClassifier', 'n_estimators_xgb': 175, 'learning_rate_xgb': 0.29277048881233925, 'max_depth_xgb': 3}. Best is trial 15 with value: 0.8147355548761847.\n"
     ]
    },
    {
     "name": "stdout",
     "output_type": "stream",
     "text": [
      "************* Résultats sur l'Entraînement *************\n",
      "\n",
      "\n",
      "************* Résultats sur le Test *************\n",
      "\n"
     ]
    },
    {
     "name": "stderr",
     "output_type": "stream",
     "text": [
      "[I 2024-10-29 15:36:40,805] Trial 16 finished with value: 0.8165698563130541 and parameters: {'model': 'XGBClassifier', 'n_estimators_xgb': 195, 'learning_rate_xgb': 0.289697616838945, 'max_depth_xgb': 3}. Best is trial 16 with value: 0.8165698563130541.\n"
     ]
    },
    {
     "name": "stdout",
     "output_type": "stream",
     "text": [
      "************* Résultats sur l'Entraînement *************\n",
      "\n",
      "\n",
      "************* Résultats sur le Test *************\n",
      "\n"
     ]
    },
    {
     "name": "stderr",
     "output_type": "stream",
     "text": [
      "[I 2024-10-29 15:37:46,765] Trial 17 finished with value: 0.8052583307856924 and parameters: {'model': 'HistGradientBoostingClassifier', 'learning_rate_hist': 0.09881237631981411, 'max_depth_hist': 3, 'max_iter_hist': 298}. Best is trial 16 with value: 0.8165698563130541.\n"
     ]
    },
    {
     "name": "stdout",
     "output_type": "stream",
     "text": [
      "************* Résultats sur l'Entraînement *************\n",
      "\n",
      "\n",
      "************* Résultats sur le Test *************\n",
      "\n"
     ]
    },
    {
     "name": "stderr",
     "output_type": "stream",
     "text": [
      "[I 2024-10-29 15:38:40,090] Trial 18 finished with value: 0.6293182512992969 and parameters: {'model': 'LogisticRegression', 'solver': 'liblinear', 'max_iter_log': 1025}. Best is trial 16 with value: 0.8165698563130541.\n"
     ]
    },
    {
     "name": "stdout",
     "output_type": "stream",
     "text": [
      "************* Résultats sur l'Entraînement *************\n",
      "\n",
      "\n",
      "************* Résultats sur le Test *************\n",
      "\n"
     ]
    },
    {
     "name": "stderr",
     "output_type": "stream",
     "text": [
      "[I 2024-10-29 15:39:34,589] Trial 19 finished with value: 0.8193213084683583 and parameters: {'model': 'XGBClassifier', 'n_estimators_xgb': 199, 'learning_rate_xgb': 0.28663456406869287, 'max_depth_xgb': 3}. Best is trial 19 with value: 0.8193213084683583.\n"
     ]
    },
    {
     "name": "stdout",
     "output_type": "stream",
     "text": [
      "Meilleurs paramètres : {'model': 'XGBClassifier', 'n_estimators_xgb': 199, 'learning_rate_xgb': 0.28663456406869287, 'max_depth_xgb': 3}\n",
      "Précision maximale : 0.8193213084683583\n"
     ]
    }
   ],
   "source": [
    "#### smote sampling\n",
    "xtrain, xtest, ytrain,ytest = train_test_split(Xsmote, ysmote, test_size=0.2, random_state=42)\n",
    "# Fonction pour l'évaluation du modèle\n",
    "def training_data(estimator, xtrain, ytrain, xtest, ytest):\n",
    "    # Entraînement du modèle\n",
    "    estimator.fit(xtrain, ytrain)\n",
    "    print(\"************* Résultats sur l'Entraînement *************\\n\")\n",
    "    \n",
    "    # Prédictions et calcul des métriques sur l'entraînement\n",
    "    train_predict = estimator.predict(xtrain)\n",
    "    prob_predict_train = estimator.predict_proba(xtrain)[:, 1]  # Probabilités pour la classe positive\n",
    "    \n",
    "    accuracy_train = accuracy_score(ytrain, train_predict)\n",
    "    precision_train = precision_score(ytrain, train_predict)\n",
    "    recall_train = recall_score(ytrain, train_predict)\n",
    "    validation_cross = cross_val_score(estimator, xtrain, ytrain, cv=5)\n",
    "    average_val = np.round(np.mean(validation_cross), 4)\n",
    "    std_val = np.round(np.std(validation_cross), 4)\n",
    "    \n",
    "    result_train = pd.DataFrame({\n",
    "        \"Accuracy\": [accuracy_train],\n",
    "        \"Precision\": [precision_train],\n",
    "        \"Recall\": [recall_train],\n",
    "        \"CrossVal_Mean\": [average_val],\n",
    "        \"CrossVal_Std\": [std_val]\n",
    "    }).T\n",
    "\n",
    "    \n",
    "    print(\"\\n************* Résultats sur le Test *************\\n\")\n",
    "    \n",
    "    # Prédictions et calcul des métriques sur le test\n",
    "    test_predict = estimator.predict(xtest)\n",
    "    prob_predict_test = estimator.predict_proba(xtest)[:, 1]  # Probabilités pour la classe positive\n",
    "    \n",
    "    accuracy_test = accuracy_score(ytest, test_predict)\n",
    "    precision_test = precision_score(ytest, test_predict)\n",
    "    recall_test = recall_score(ytest, test_predict)\n",
    "\n",
    "     # Entraîner et évaluer le modèle avec validation croisée\n",
    "    validation_cross = cross_val_score(model, xtrain, ytrain, cv=5)\n",
    "    average_val = np.round(np.mean(validation_cross), 4)\n",
    "    result_test = pd.DataFrame({\n",
    "        \"Accuracy\": [accuracy_test],\n",
    "        \"Precision\": [precision_test],\n",
    "        \"Recall\": [recall_test],\n",
    "    }).T\n",
    "    return result_train, result_test\n",
    "# Fonction d'optimisation avec Optuna\n",
    "def objective(trial):\n",
    "    model_type = trial.suggest_categorical(\"model\", [\"HistGradientBoostingClassifier\", \"KNeighborsClassifier\", \n",
    "                                                     \"LogisticRegression\", \"RandomForestClassifier\", \"XGBClassifier\"])\n",
    "    \n",
    "    if model_type == \"RandomForestClassifier\":\n",
    "        n_estimators_rand = trial.suggest_int(\"n_estimators_rand\", 100, 200)\n",
    "        max_depth_rand = trial.suggest_int(\"max_depth_rand\", 3, 10)\n",
    "        model = RandomForestClassifier(n_estimators=n_estimators_rand, max_depth=max_depth_rand)\n",
    "    \n",
    "    elif model_type == \"KNeighborsClassifier\":\n",
    "        n_neighbors = trial.suggest_int(\"n_neighbors\", 3, 10)\n",
    "        algorithm = trial.suggest_categorical('algorithm', [\"auto\", \"ball_tree\", \"kd_tree\", \"brute\"])\n",
    "        model = KNeighborsClassifier(n_neighbors=n_neighbors, algorithm=algorithm)\n",
    "    \n",
    "    elif model_type == \"LogisticRegression\":\n",
    "        solver = trial.suggest_categorical(\"solver\", [\"liblinear\", \"saga\"])\n",
    "        max_iter_log = trial.suggest_int('max_iter_log', 1000, 2000)\n",
    "        model = LogisticRegression(solver=solver, max_iter=max_iter_log)\n",
    "    \n",
    "    elif model_type == \"HistGradientBoostingClassifier\":\n",
    "        learning_rate_hist = trial.suggest_float(\"learning_rate_hist\", 0.01, 0.1, log = True)\n",
    "        max_depth_hist = trial.suggest_int(\"max_depth_hist\", 3, 10)\n",
    "        max_iter_hist= trial.suggest_int(\"max_iter_hist\", 100, 300)\n",
    "        model = HistGradientBoostingClassifier(learning_rate=learning_rate_hist,\n",
    "                                               max_depth=max_depth_hist, max_iter=max_iter_hist)\n",
    "    \n",
    "    elif model_type == 'XGBClassifier':\n",
    "        n_estimators_xgb = trial.suggest_int('n_estimators_xgb', 50, 200)\n",
    "        learning_rate_xgb = trial.suggest_float('learning_rate_xgb', 0.01, 0.3, log = True)\n",
    "        max_depth_xbg = trial.suggest_int('max_depth_xgb', 3, 10)\n",
    "        model = XGBClassifier(n_estimators=n_estimators_xgb, learning_rate=learning_rate_xgb,\n",
    "                              max_depth=max_depth_xbg)\n",
    "\n",
    "    result_train, result_test = training_data(model, xtrain, ytrain, xtest, ytest)\n",
    "    return result_test.loc[\"Accuracy\"].values[0]  # Retourner l'Accuracy du test pour Optuna\n",
    "\n",
    "# Lancer l'optimisation\n",
    "study = optuna.create_study(direction=\"maximize\")\n",
    "study.optimize(objective, n_trials=20)\n",
    "\n",
    "print(\"Meilleurs paramètres :\", study.best_params)\n",
    "print(\"Précision maximale :\", study.best_value)"
   ]
  },
  {
   "cell_type": "markdown",
   "id": "059bddb9-6471-4869-b9f8-eb6bcc221b04",
   "metadata": {},
   "source": [
    "### 12- RESULTATS OF MODELS"
   ]
  },
  {
   "cell_type": "code",
   "execution_count": 20,
   "id": "710ac956-1b88-41e2-9999-3c134678e39e",
   "metadata": {},
   "outputs": [
    {
     "data": {
      "text/html": [
       "<div>\n",
       "<style scoped>\n",
       "    .dataframe tbody tr th:only-of-type {\n",
       "        vertical-align: middle;\n",
       "    }\n",
       "\n",
       "    .dataframe tbody tr th {\n",
       "        vertical-align: top;\n",
       "    }\n",
       "\n",
       "    .dataframe thead th {\n",
       "        text-align: right;\n",
       "    }\n",
       "</style>\n",
       "<table border=\"1\" class=\"dataframe\">\n",
       "  <thead>\n",
       "    <tr style=\"text-align: right;\">\n",
       "      <th></th>\n",
       "      <th>Models</th>\n",
       "      <th>Data</th>\n",
       "      <th>Accuracy</th>\n",
       "      <th>Best parameters</th>\n",
       "    </tr>\n",
       "  </thead>\n",
       "  <tbody>\n",
       "    <tr>\n",
       "      <th>0</th>\n",
       "      <td>XGBClassifier</td>\n",
       "      <td>Under Sampling</td>\n",
       "      <td>0.715200</td>\n",
       "      <td>XGBClassifier</td>\n",
       "    </tr>\n",
       "    <tr>\n",
       "      <th>1</th>\n",
       "      <td>RandomForestClassifier</td>\n",
       "      <td>Under Sampling</td>\n",
       "      <td>0.715280</td>\n",
       "      <td>estimators = 58</td>\n",
       "    </tr>\n",
       "    <tr>\n",
       "      <th>2</th>\n",
       "      <td>LogisticRegression</td>\n",
       "      <td>Under Sampling</td>\n",
       "      <td>0.639390</td>\n",
       "      <td>lr = 0.2769834</td>\n",
       "    </tr>\n",
       "    <tr>\n",
       "      <th>3</th>\n",
       "      <td>HistGradientBoostingClassifier</td>\n",
       "      <td>Under Sampling</td>\n",
       "      <td>0.705059</td>\n",
       "      <td>max_depth = 10</td>\n",
       "    </tr>\n",
       "    <tr>\n",
       "      <th>4</th>\n",
       "      <td>KNeighborsClassifier</td>\n",
       "      <td>Under Sampling</td>\n",
       "      <td>0.644639</td>\n",
       "      <td>n_neighbors = 4</td>\n",
       "    </tr>\n",
       "  </tbody>\n",
       "</table>\n",
       "</div>"
      ],
      "text/plain": [
       "                           Models           Data   Accuracy  Best parameters\n",
       "0                   XGBClassifier  Under Sampling  0.715200    XGBClassifier\n",
       "1          RandomForestClassifier  Under Sampling  0.715280  estimators = 58\n",
       "2              LogisticRegression  Under Sampling  0.639390   lr = 0.2769834\n",
       "3  HistGradientBoostingClassifier  Under Sampling  0.705059   max_depth = 10\n",
       "4            KNeighborsClassifier  Under Sampling  0.644639  n_neighbors = 4"
      ]
     },
     "execution_count": 20,
     "metadata": {},
     "output_type": "execute_result"
    }
   ],
   "source": [
    "resultat_modelisation_1 = pd.DataFrame(\n",
    "    {\n",
    "        \"Models\": [\"XGBClassifier\", \"RandomForestClassifier\", 'LogisticRegression', 'HistGradientBoostingClassifier', \"KNeighborsClassifier\"],\n",
    "        \"Data \":[\"Under Sampling\", \"Under Sampling\", \"Under Sampling\", \"Under Sampling\", \"Under Sampling\"],\n",
    "        \"Accuracy\": [0.7152, 0.71528, 0.63939, 0.705059, 0.644639],\n",
    "        \"Best parameters\": [\"XGBClassifier\", \"estimators = 58\", \"lr = 0.2769834\", \"max_depth = 10\", 'n_neighbors = 4']\n",
    "    }\n",
    ")\n",
    "resultat_modelisation_1"
   ]
  },
  {
   "cell_type": "code",
   "execution_count": 21,
   "id": "b894a6aa-ae30-4c5a-809f-68d957c2fec1",
   "metadata": {},
   "outputs": [
    {
     "data": {
      "text/html": [
       "<div>\n",
       "<style scoped>\n",
       "    .dataframe tbody tr th:only-of-type {\n",
       "        vertical-align: middle;\n",
       "    }\n",
       "\n",
       "    .dataframe tbody tr th {\n",
       "        vertical-align: top;\n",
       "    }\n",
       "\n",
       "    .dataframe thead th {\n",
       "        text-align: right;\n",
       "    }\n",
       "</style>\n",
       "<table border=\"1\" class=\"dataframe\">\n",
       "  <thead>\n",
       "    <tr style=\"text-align: right;\">\n",
       "      <th></th>\n",
       "      <th>Models</th>\n",
       "      <th>Data</th>\n",
       "      <th>Accuracy</th>\n",
       "      <th>Best parameters</th>\n",
       "    </tr>\n",
       "  </thead>\n",
       "  <tbody>\n",
       "    <tr>\n",
       "      <th>0</th>\n",
       "      <td>XGBClassifier</td>\n",
       "      <td>SMOTE</td>\n",
       "      <td>0.847440</td>\n",
       "      <td>XGBClassifier</td>\n",
       "    </tr>\n",
       "    <tr>\n",
       "      <th>1</th>\n",
       "      <td>RandomForestClassifier</td>\n",
       "      <td>SMOTE</td>\n",
       "      <td>0.786151</td>\n",
       "      <td>estimators = 107</td>\n",
       "    </tr>\n",
       "    <tr>\n",
       "      <th>2</th>\n",
       "      <td>LogisticRegression</td>\n",
       "      <td>SMOTE</td>\n",
       "      <td>0.629318</td>\n",
       "      <td>lr = 0.298664</td>\n",
       "    </tr>\n",
       "    <tr>\n",
       "      <th>3</th>\n",
       "      <td>HistGradientBoostingClassifier</td>\n",
       "      <td>SMOTE</td>\n",
       "      <td>0.801895</td>\n",
       "      <td>max_depth = 8</td>\n",
       "    </tr>\n",
       "    <tr>\n",
       "      <th>4</th>\n",
       "      <td>KNeighborsClassifier</td>\n",
       "      <td>SMOTE</td>\n",
       "      <td>0.763680</td>\n",
       "      <td>n_neighbors = 4</td>\n",
       "    </tr>\n",
       "  </tbody>\n",
       "</table>\n",
       "</div>"
      ],
      "text/plain": [
       "                           Models  Data   Accuracy   Best parameters\n",
       "0                   XGBClassifier  SMOTE  0.847440     XGBClassifier\n",
       "1          RandomForestClassifier  SMOTE  0.786151  estimators = 107\n",
       "2              LogisticRegression  SMOTE  0.629318     lr = 0.298664\n",
       "3  HistGradientBoostingClassifier  SMOTE  0.801895     max_depth = 8\n",
       "4            KNeighborsClassifier  SMOTE  0.763680   n_neighbors = 4"
      ]
     },
     "execution_count": 21,
     "metadata": {},
     "output_type": "execute_result"
    }
   ],
   "source": [
    "resultat_modelisation_2 = pd.DataFrame(\n",
    "    {\n",
    "        \"Models\": [\"XGBClassifier\", \"RandomForestClassifier\", 'LogisticRegression', 'HistGradientBoostingClassifier', \"KNeighborsClassifier\"],\n",
    "        \"Data \":[\"SMOTE\", \"SMOTE\", \"SMOTE\", \"SMOTE\", \"SMOTE\"],\n",
    "        \"Accuracy\": [0.84744, 0.7861510, 0.629318, 0.801895, 0.763680],\n",
    "        \"Best parameters\": [\"XGBClassifier\", \"estimators = 107\", \"lr = 0.298664\", \"max_depth = 8\",'n_neighbors = 4']\n",
    "    }\n",
    ")\n",
    "resultat_modelisation_2"
   ]
  },
  {
   "cell_type": "code",
   "execution_count": 22,
   "id": "9bcafc05-d3f1-48dd-b427-5c1311e2147b",
   "metadata": {},
   "outputs": [
    {
     "data": {
      "text/html": [
       "<div>\n",
       "<style scoped>\n",
       "    .dataframe tbody tr th:only-of-type {\n",
       "        vertical-align: middle;\n",
       "    }\n",
       "\n",
       "    .dataframe tbody tr th {\n",
       "        vertical-align: top;\n",
       "    }\n",
       "\n",
       "    .dataframe thead th {\n",
       "        text-align: right;\n",
       "    }\n",
       "</style>\n",
       "<table border=\"1\" class=\"dataframe\">\n",
       "  <thead>\n",
       "    <tr style=\"text-align: right;\">\n",
       "      <th></th>\n",
       "      <th>Models</th>\n",
       "      <th>Data</th>\n",
       "      <th>Accuracy</th>\n",
       "      <th>Best parameters</th>\n",
       "    </tr>\n",
       "  </thead>\n",
       "  <tbody>\n",
       "    <tr>\n",
       "      <th>0</th>\n",
       "      <td>XGBClassifier</td>\n",
       "      <td>Under Sampling</td>\n",
       "      <td>0.715200</td>\n",
       "      <td>XGBClassifier</td>\n",
       "    </tr>\n",
       "    <tr>\n",
       "      <th>1</th>\n",
       "      <td>RandomForestClassifier</td>\n",
       "      <td>Under Sampling</td>\n",
       "      <td>0.715280</td>\n",
       "      <td>estimators = 58</td>\n",
       "    </tr>\n",
       "    <tr>\n",
       "      <th>2</th>\n",
       "      <td>LogisticRegression</td>\n",
       "      <td>Under Sampling</td>\n",
       "      <td>0.639390</td>\n",
       "      <td>lr = 0.2769834</td>\n",
       "    </tr>\n",
       "    <tr>\n",
       "      <th>3</th>\n",
       "      <td>HistGradientBoostingClassifier</td>\n",
       "      <td>Under Sampling</td>\n",
       "      <td>0.705059</td>\n",
       "      <td>max_depth = 10</td>\n",
       "    </tr>\n",
       "    <tr>\n",
       "      <th>4</th>\n",
       "      <td>KNeighborsClassifier</td>\n",
       "      <td>Under Sampling</td>\n",
       "      <td>0.644639</td>\n",
       "      <td>n_neighbors = 4</td>\n",
       "    </tr>\n",
       "    <tr>\n",
       "      <th>0</th>\n",
       "      <td>XGBClassifier</td>\n",
       "      <td>SMOTE</td>\n",
       "      <td>0.847440</td>\n",
       "      <td>XGBClassifier</td>\n",
       "    </tr>\n",
       "    <tr>\n",
       "      <th>1</th>\n",
       "      <td>RandomForestClassifier</td>\n",
       "      <td>SMOTE</td>\n",
       "      <td>0.786151</td>\n",
       "      <td>estimators = 107</td>\n",
       "    </tr>\n",
       "    <tr>\n",
       "      <th>2</th>\n",
       "      <td>LogisticRegression</td>\n",
       "      <td>SMOTE</td>\n",
       "      <td>0.629318</td>\n",
       "      <td>lr = 0.298664</td>\n",
       "    </tr>\n",
       "    <tr>\n",
       "      <th>3</th>\n",
       "      <td>HistGradientBoostingClassifier</td>\n",
       "      <td>SMOTE</td>\n",
       "      <td>0.801895</td>\n",
       "      <td>max_depth = 8</td>\n",
       "    </tr>\n",
       "    <tr>\n",
       "      <th>4</th>\n",
       "      <td>KNeighborsClassifier</td>\n",
       "      <td>SMOTE</td>\n",
       "      <td>0.763680</td>\n",
       "      <td>n_neighbors = 4</td>\n",
       "    </tr>\n",
       "  </tbody>\n",
       "</table>\n",
       "</div>"
      ],
      "text/plain": [
       "                           Models           Data   Accuracy   Best parameters\n",
       "0                   XGBClassifier  Under Sampling  0.715200     XGBClassifier\n",
       "1          RandomForestClassifier  Under Sampling  0.715280   estimators = 58\n",
       "2              LogisticRegression  Under Sampling  0.639390    lr = 0.2769834\n",
       "3  HistGradientBoostingClassifier  Under Sampling  0.705059    max_depth = 10\n",
       "4            KNeighborsClassifier  Under Sampling  0.644639   n_neighbors = 4\n",
       "0                   XGBClassifier           SMOTE  0.847440     XGBClassifier\n",
       "1          RandomForestClassifier           SMOTE  0.786151  estimators = 107\n",
       "2              LogisticRegression           SMOTE  0.629318     lr = 0.298664\n",
       "3  HistGradientBoostingClassifier           SMOTE  0.801895     max_depth = 8\n",
       "4            KNeighborsClassifier           SMOTE  0.763680   n_neighbors = 4"
      ]
     },
     "execution_count": 22,
     "metadata": {},
     "output_type": "execute_result"
    }
   ],
   "source": [
    "resultat = pd.concat([resultat_modelisation_1, resultat_modelisation_2])\n",
    "resultat"
   ]
  },
  {
   "cell_type": "code",
   "execution_count": 23,
   "id": "a0b600f5-bb63-4ac7-91ac-4c8837b58e48",
   "metadata": {
    "scrolled": true
   },
   "outputs": [
    {
     "data": {
      "text/plain": [
       "<matplotlib.legend.Legend at 0x728f9ff043d0>"
      ]
     },
     "execution_count": 23,
     "metadata": {},
     "output_type": "execute_result"
    },
    {
     "data": {
      "image/png": "[encoded data removed]",
      "text/plain": [
       "<Figure size 640x480 with 1 Axes>"
      ]
     },
     "metadata": {},
     "output_type": "display_data"
    }
   ],
   "source": [
    "sns.barplot(data = resultat, x = 'Models', y = 'Accuracy', label = 'Data')\n",
    "plt.legend()"
   ]
  },
  {
   "cell_type": "markdown",
   "id": "36afc021-1a7b-4417-ab9b-8eb23d6967e4",
   "metadata": {},
   "source": [
    "### 13- BEST MODELS"
   ]
  },
  {
   "cell_type": "code",
   "execution_count": 40,
   "id": "a7f979bb-313c-4105-a7bd-cf4cbf3bf6e2",
   "metadata": {},
   "outputs": [],
   "source": [
    "def training_data(estimator, xtrain, ytrain, xtest, ytest):\n",
    "    ### Entraînement du modèle\n",
    "    estimator.fit(xtrain, ytrain)\n",
    "    \n",
    "    print(\"************* Résultats sur l'Entraînement *************\\n\")\n",
    "    \n",
    "    # Prédictions sur l'entraînement\n",
    "    train_predict = estimator.predict(xtrain)\n",
    "    prob_predict_train = estimator.predict_proba(xtrain)[:, 1]  # Probabilités pour la classe positive\n",
    "    \n",
    "    # Calcul des métriques d'entraînement\n",
    "    accuracy_train = accuracy_score(ytrain, train_predict)\n",
    "    precision_train = precision_score(ytrain, train_predict)\n",
    "    recall_train = recall_score(ytrain, train_predict)\n",
    "    #roc_train = roc_auc_score(ytrain, prob_predict_train)\n",
    "    \n",
    "    # Validation croisée\n",
    "    validation_cross = cross_val_score(estimator, xtrain, ytrain, cv=5)\n",
    "    average_val = np.round(np.mean(validation_cross), 4)\n",
    "    std_val = np.round(np.std(validation_cross), 4)\n",
    "    \n",
    "    result_train = pd.DataFrame({\n",
    "        \"Accuracy\": [accuracy_train],\n",
    "        \"Precision\": [precision_train],\n",
    "        \"Recall\": [recall_train],\n",
    "        \"CrossVal_Mean\": [average_val],\n",
    "        \"CrossVal_Std\": [std_val]\n",
    "    }).T\n",
    "    \n",
    "    print(result_train)\n",
    "    \n",
    "    print(\"\\n************* Résultats sur le Test *************\\n\")\n",
    "    \n",
    "    # Prédictions sur le test\n",
    "    test_predict = estimator.predict(xtest)\n",
    "    prob_predict_test = estimator.predict_proba(xtest)[:, 1]  # Probabilités pour la classe positive\n",
    "    \n",
    "    # Calcul des métriques de test\n",
    "    accuracy_test = accuracy_score(ytest, test_predict)\n",
    "    precision_test = precision_score(ytest, test_predict)\n",
    "    recall_test = recall_score(ytest, test_predict)\n",
    "    #roc_test = roc_auc_score(ytest, prob_predict_test)\n",
    "    \n",
    "    result_test = pd.DataFrame({\n",
    "        \"Accuracy\": [accuracy_test],\n",
    "        \"Precision\": [precision_test],\n",
    "        \"Recall\": [recall_test],\n",
    "        #'ROC': [roc_test]\n",
    "    }).T\n",
    "    \n",
    "    \n",
    "    return result_train, result_test\n"
   ]
  },
  {
   "cell_type": "markdown",
   "id": "e03338e6-a3ec-4d9d-991b-c4d5665165f2",
   "metadata": {},
   "source": [
    "#### 13-1best model with data_smote"
   ]
  },
  {
   "cell_type": "code",
   "execution_count": 41,
   "id": "9eb7e7e6-9b02-448e-a201-eb5d386aeabc",
   "metadata": {},
   "outputs": [
    {
     "name": "stdout",
     "output_type": "stream",
     "text": [
      "************* Résultats sur l'Entraînement *************\n",
      "\n",
      "                      0\n",
      "Accuracy       0.977644\n",
      "Precision      0.981065\n",
      "Recall         0.974092\n",
      "CrossVal_Mean  0.834200\n",
      "CrossVal_Std   0.004400\n",
      "\n",
      "************* Résultats sur le Test *************\n",
      "\n"
     ]
    },
    {
     "data": {
      "text/plain": [
       "(                      0\n",
       " Accuracy       0.977644\n",
       " Precision      0.981065\n",
       " Recall         0.974092\n",
       " CrossVal_Mean  0.834200\n",
       " CrossVal_Std   0.004400,\n",
       "                   0\n",
       " Accuracy   0.844084\n",
       " Precision  0.850249\n",
       " Recall     0.835168)"
      ]
     },
     "execution_count": 41,
     "metadata": {},
     "output_type": "execute_result"
    }
   ],
   "source": [
    "BEST_MODEL = XGBClassifier(n_estimators = 107, learning_rate = 0.2986, max_depth = 8)\n",
    "#### with smote\n",
    "xtrain, xtest, ytrain,ytest = train_test_split(Xsmote, ysmote, test_size=0.2, random_state=42)\n",
    "training_data(BEST_MODEL, xtrain, ytrain,xtest,ytest)"
   ]
  },
  {
   "cell_type": "markdown",
   "id": "815c3ed8-23ec-4bbd-a3bd-b6d5316c8358",
   "metadata": {},
   "source": [
    "#### 13-2 with data_under_sampling"
   ]
  },
  {
   "cell_type": "code",
   "execution_count": 42,
   "id": "1e59f0fa-218d-4210-8cc0-06896affa2a6",
   "metadata": {},
   "outputs": [
    {
     "name": "stdout",
     "output_type": "stream",
     "text": [
      "************* Résultats sur l'Entraînement *************\n",
      "\n",
      "                      0\n",
      "Accuracy       0.996502\n",
      "Precision      0.995685\n",
      "Recall         0.997299\n",
      "CrossVal_Mean  0.712600\n",
      "CrossVal_Std   0.008300\n",
      "\n",
      "************* Résultats sur le Test *************\n",
      "\n"
     ]
    },
    {
     "data": {
      "text/plain": [
       "(                      0\n",
       " Accuracy       0.996502\n",
       " Precision      0.995685\n",
       " Recall         0.997299\n",
       " CrossVal_Mean  0.712600\n",
       " CrossVal_Std   0.008300,\n",
       "                   0\n",
       " Accuracy   0.712056\n",
       " Precision  0.740566\n",
       " Recall     0.665960)"
      ]
     },
     "execution_count": 42,
     "metadata": {},
     "output_type": "execute_result"
    }
   ],
   "source": [
    "#### undersampling\n",
    "xtrain, xtest, ytrain,ytest = train_test_split(X_under, y_under, test_size=0.2, random_state=42)\n",
    "training_data(BEST_MODEL, xtrain, ytrain,xtest,ytest)"
   ]
  },
  {
   "cell_type": "markdown",
   "id": "da6b2564-3a02-412f-9a3c-46d800bd1a68",
   "metadata": {},
   "source": [
    "#### 13-3 with data_over sampling"
   ]
  },
  {
   "cell_type": "code",
   "execution_count": 43,
   "id": "d40d89c3-d52a-407b-bd47-82d97d89fc3f",
   "metadata": {},
   "outputs": [
    {
     "name": "stdout",
     "output_type": "stream",
     "text": [
      "************* Résultats sur l'Entraînement *************\n",
      "\n",
      "                      0\n",
      "Accuracy       0.980014\n",
      "Precision      0.978210\n",
      "Recall         0.982012\n",
      "CrossVal_Mean  0.881100\n",
      "CrossVal_Std   0.005400\n",
      "\n",
      "************* Résultats sur le Test *************\n",
      "\n"
     ]
    },
    {
     "data": {
      "text/plain": [
       "(                      0\n",
       " Accuracy       0.980014\n",
       " Precision      0.978210\n",
       " Recall         0.982012\n",
       " CrossVal_Mean  0.881100\n",
       " CrossVal_Std   0.005400,\n",
       "                   0\n",
       " Accuracy   0.895903\n",
       " Precision  0.865066\n",
       " Recall     0.935394)"
      ]
     },
     "execution_count": 43,
     "metadata": {},
     "output_type": "execute_result"
    }
   ],
   "source": [
    "### oversampling\n",
    "xtrain, xtest, ytrain,ytest = train_test_split(X_over, y_over, test_size=0.2, random_state=42)\n",
    "training_data(BEST_MODEL, xtrain, ytrain,xtest,ytest)"
   ]
  },
  {
   "cell_type": "markdown",
   "id": "15b52b9c-296d-43da-968d-bf698c1e40d5",
   "metadata": {},
   "source": [
    "### 14- Save theirs data"
   ]
  },
  {
   "cell_type": "code",
   "execution_count": 45,
   "id": "0fdc8a4e-edf6-40f4-a60e-70db126c9e70",
   "metadata": {},
   "outputs": [],
   "source": [
    "#### save theirs data\n",
    "xtrain, xtest, ytrain,ytest = train_test_split(X_over, y_over, test_size=0.2, random_state=42)\n",
    "df_train_over = X_over.join(y_over)\n",
    "df_train_over.to_csv('data_over.csv', index = False)"
   ]
  },
  {
   "cell_type": "code",
   "execution_count": 46,
   "id": "f884e0fd-600f-4c22-b765-310aec417d7b",
   "metadata": {},
   "outputs": [],
   "source": [
    "df_train_under = X_under.join(y_under)\n",
    "df_train_under.to_csv('data_under.csv', index = False)"
   ]
  },
  {
   "cell_type": "code",
   "execution_count": 47,
   "id": "2a186bb0-0d55-444e-be5b-b04682f8db79",
   "metadata": {},
   "outputs": [],
   "source": [
    "### smote\n",
    "df_smote = Xsmote.join(ysmote)\n",
    "df_smote.to_csv('data_smote.csv', index = False)"
   ]
  },
  {
   "cell_type": "markdown",
   "id": "a44dfcbd-28c2-4a00-a3a6-eccf751a3b89",
   "metadata": {},
   "source": [
    "### 15- Features importances"
   ]
  },
  {
   "cell_type": "markdown",
   "id": "74f155e3-210c-4ee7-b4f2-a90802717d67",
   "metadata": {},
   "source": [
    "### 15-1. Recursive Feature Elimination\n",
    " * La méthode Recursive Feature Elimination (RFE) est une technique de sélection de caractéristiques basée sur la récursivité, qui vise à sélectionner les caractéristiques les plus pertinentes pour un modèle d'apprentissage automatique. L'idée principale de RFE est de construire répétitivement un modèle et d'éliminer les caractéristiques les moins importantes, jusqu'à ce qu'un nombre souhaité de caractéristiques soit atteint.\n",
    "\n",
    "* Voici comment fonctionne l'algorithme RFE :\n",
    "\n",
    "* * 1 * Entraînez un modèle sur l'ensemble des caractéristiques et calculez l'importance de chaque caractéristique (par exemple, les coefficients d'un modèle linéaire ou les importances des caractéristiques d'un arbre de décision).\n",
    "* * 2 * Supprimez la caractéristique la moins importante du jeu de données.\n",
    "* * 3 * Répétez les étapes 1 et 2 jusqu'à ce que toutes les caractéristiques aient été éliminées.\n",
    "* * 4 * Évaluez les performances du modèle pour chaque sous-ensemble de caractéristiques éliminées et choisissez le sous-ensemble qui maximise les performances (par exemple, en utilisant la validation croisée).\n",
    "* RFE peut être utilisé avec différents modèles d'apprentissage automatique et est implémenté dans la bibliothèque scikit-learn avec la classe RFECV. Cette classe effectue également une validation croisée pour déterminer le nombre optimal de caractéristiques à conserver."
   ]
  },
  {
   "cell_type": "code",
   "execution_count": 55,
   "id": "5bca1b91-3698-41a1-ae41-757a76f01a78",
   "metadata": {},
   "outputs": [
    {
     "name": "stdout",
     "output_type": "stream",
     "text": [
      "\n",
      "Recursive Feature Elimination: \n",
      "Meilleures caractéristiques: Index(['LIMIT_BAL', 'SEX', 'EDUCATION', 'MARRIAGE', 'AGE', 'PAY_0', 'PAY_2',\n",
      "       'PAY_3', 'PAY_4', 'PAY_5', 'PAY_6', 'BILL_AMT1', 'BILL_AMT2',\n",
      "       'BILL_AMT3', 'BILL_AMT4', 'BILL_AMT5', 'BILL_AMT6', 'PAY_AMT1',\n",
      "       'PAY_AMT2', 'PAY_AMT3', 'PAY_AMT4', 'PAY_AMT6'],\n",
      "      dtype='object') \n",
      "Meilleur score: <bound method RFE.score of RFECV(cv=5,\n",
      "      estimator=XGBClassifier(base_score=None, booster=None, callbacks=None,\n",
      "                              colsample_bylevel=None, colsample_bynode=None,\n",
      "                              colsample_bytree=None, device=None,\n",
      "                              early_stopping_rounds=None,\n",
      "                              enable_categorical=False, eval_metric=None,\n",
      "                              feature_types=None, gamma=None, grow_policy=None,\n",
      "                              importance_type=None,\n",
      "                              interaction_constraints=None,\n",
      "                              learning_rate=0.2986, max_bin=None,\n",
      "                              max_cat_threshold=None, max_cat_to_onehot=None,\n",
      "                              max_delta_step=None, max_depth=8, max_leaves=None,\n",
      "                              min_child_weight=None, missing=nan,\n",
      "                              monotone_constraints=None, multi_strategy=None,\n",
      "                              n_estimators=107, n_jobs=None,\n",
      "                              num_parallel_tree=None, random_state=None, ...),\n",
      "      scoring='accuracy')>\n"
     ]
    }
   ],
   "source": [
    "from sklearn.feature_selection import RFECV, RFE, SelectFromModel, SequentialFeatureSelector\n",
    "\n",
    "select_features_model = RFECV(BEST_MODEL, step=1, cv=5, scoring='accuracy')\n",
    "select_fit = select_features_model.fit(X_over, y_over)\n",
    "print(\"\\nRecursive Feature Elimination: \\nMeilleures caractéristiques:\", df.columns[np.where(select_fit.support_)[0]], \"\\nMeilleur score:\",select_fit.score)"
   ]
  },
  {
   "cell_type": "code",
   "execution_count": 56,
   "id": "583c175d-114b-4b77-86d4-91e264c4961f",
   "metadata": {},
   "outputs": [
    {
     "data": {
      "text/plain": [
       "<bound method RFE.score of RFECV(cv=5,\n",
       "      estimator=XGBClassifier(base_score=None, booster=None, callbacks=None,\n",
       "                              colsample_bylevel=None, colsample_bynode=None,\n",
       "                              colsample_bytree=None, device=None,\n",
       "                              early_stopping_rounds=None,\n",
       "                              enable_categorical=False, eval_metric=None,\n",
       "                              feature_types=None, gamma=None, grow_policy=None,\n",
       "                              importance_type=None,\n",
       "                              interaction_constraints=None,\n",
       "                              learning_rate=0.2986, max_bin=None,\n",
       "                              max_cat_threshold=None, max_cat_to_onehot=None,\n",
       "                              max_delta_step=None, max_depth=8, max_leaves=None,\n",
       "                              min_child_weight=None, missing=nan,\n",
       "                              monotone_constraints=None, multi_strategy=None,\n",
       "                              n_estimators=107, n_jobs=None,\n",
       "                              num_parallel_tree=None, random_state=None, ...),\n",
       "      scoring='accuracy')>"
      ]
     },
     "execution_count": 56,
     "metadata": {},
     "output_type": "execute_result"
    }
   ],
   "source": [
    "select_features_model.score"
   ]
  },
  {
   "cell_type": "markdown",
   "id": "e4deea87-f835-4a14-890d-755c83386ac0",
   "metadata": {},
   "source": [
    "### 16- Save the model best"
   ]
  },
  {
   "cell_type": "code",
   "execution_count": 61,
   "id": "dc3c1844-7119-4f42-b219-62f9b92258d4",
   "metadata": {},
   "outputs": [
    {
     "data": {
      "text/plain": [
       "['best_model.pkl']"
      ]
     },
     "execution_count": 61,
     "metadata": {},
     "output_type": "execute_result"
    }
   ],
   "source": [
    "import pickle, joblib\n",
    "\n",
    "joblib.dump(BEST_MODEL, '../modesl_credit/best_model.pkl')"
   ]
  },
  {
   "cell_type": "code",
   "execution_count": 63,
   "id": "d493f773-b786-44fe-87e4-cf15a1ba6c18",
   "metadata": {},
   "outputs": [],
   "source": [
    "model = joblib.load('best_model.pkl')"
   ]
  },
  {
   "cell_type": "code",
   "execution_count": 64,
   "id": "24666421-27d0-4a34-b78d-ad4903df1cc1",
   "metadata": {},
   "outputs": [
    {
     "data": {
      "text/plain": [
       "array([0, 1, 0, ..., 0, 1, 0])"
      ]
     },
     "execution_count": 64,
     "metadata": {},
     "output_type": "execute_result"
    }
   ],
   "source": [
    "model.predict(Xtest)"
   ]
  }
 ],
 "metadata": {
  "ipyflow": {
   "cell_children": {
    "0d8bdb37-ce46-4607-b45c-3c2a39174361": [
     "5b89dca9-fec3-49eb-a555-ff33501ec306",
     "c904e54b-f018-4eff-9815-fdd6cb31baab"
    ],
    "0f0fc052-7ff3-428c-8be0-f45dff29e603": [],
    "0fdc8a4e-edf6-40f4-a60e-70db126c9e70": [],
    "113e1733-3596-4b08-b981-c742110249fa": [],
    "1b869c92-c3f4-4563-8f07-2794cac01406": [],
    "1c6d253a-7723-42ba-972b-a192e7aed86e": [],
    "1e1244c1-1b99-4e43-9d69-b18572b431ca": [],
    "1e59f0fa-218d-4210-8cc0-06896affa2a6": [
     "d40d89c3-d52a-407b-bd47-82d97d89fc3f"
    ],
    "24666421-27d0-4a34-b78d-ad4903df1cc1": [],
    "2a186bb0-0d55-444e-be5b-b04682f8db79": [],
    "2d29bb3f-a718-4929-be8e-3fc4dfecaa3f": [],
    "2d2fa1e0-12da-4e7a-a1af-cbba3d8d0b4c": [],
    "2f4deaf7-d76c-4ea5-99fc-86992b571a54": [
     "b94a7ef1-8651-4f6d-9874-87a5d216492d",
     "981ba838-d1be-4177-87c9-80b2a4a680f0",
     "c904e54b-f018-4eff-9815-fdd6cb31baab"
    ],
    "33f4a109-1395-4d15-ae59-fa2c2b26d4db": [],
    "371fa801-02fc-4c68-80ee-6d57695c7141": [],
    "3db7a537-9c67-47d7-8311-b48ccf8a60f7": [],
    "3fef7b10-fda0-4241-9009-6e5f6f07c583": [],
    "40f8dd97-2704-4577-8808-5b947076c3d0": [],
    "4313ca02-75e5-45fc-b295-2d8fd6b0ec42": [],
    "49da5003-d54d-492f-839c-30239e82e303": [],
    "4f018f95-fc97-4cb8-9330-5f928f67b72c": [],
    "4fc87433-4b23-49fa-898f-2bb1abf02502": [],
    "531bd674-d3d0-4b2f-8f1a-383232b1216c": [
     "0d8bdb37-ce46-4607-b45c-3c2a39174361",
     "5b89dca9-fec3-49eb-a555-ff33501ec306"
    ],
    "583c175d-114b-4b77-86d4-91e264c4961f": [],
    "5a1dab9a-8d3b-4f96-9a96-a2ad5cf3dde6": [],
    "5ab85f37-1346-4308-afac-7eb7b694e0d0": [],
    "5b898c2b-867a-45dc-8007-32cbb0a93836": [],
    "5b89dca9-fec3-49eb-a555-ff33501ec306": [
     "929e2cda-a8d0-4671-8440-de44071c81fb",
     "981ba838-d1be-4177-87c9-80b2a4a680f0"
    ],
    "5bca1b91-3698-41a1-ae41-757a76f01a78": [
     "583c175d-114b-4b77-86d4-91e264c4961f"
    ],
    "61914d90-129e-4719-873b-d6c6beb807d6": [],
    "696c5e29-bf39-41d8-8b0f-9944182fa4de": [],
    "6b7d2222-6db3-43ff-87b6-086b82b91da7": [],
    "710ac956-1b88-41e2-9999-3c134678e39e": [
     "9bcafc05-d3f1-48dd-b427-5c1311e2147b"
    ],
    "7c0bbe10-9f0e-4e3d-b8b7-1f2a7d16c584": [
     "c6e7dbff-25ce-402a-965c-a640340f74d0",
     "a0b600f5-bb63-4ac7-91ac-4c8837b58e48",
     "e8114290-036c-4269-b6a5-cf96deac11c9"
    ],
    "85596f52-2e4b-4999-b63d-75c37b02d4d0": [],
    "87d4ba60-d4a3-4187-ba47-c56f5e2e9e7b": [],
    "88584683-2dce-4c6a-bc72-5e7bdf526ba9": [],
    "89144ec8-6583-4d10-9b45-32f42b58c1d7": [
     "24666421-27d0-4a34-b78d-ad4903df1cc1",
     "d101c35a-d919-4e74-a171-9d9fa67dafb5",
     "9e02ee61-3956-4389-aa04-70ae5846a2cb",
     "531bd674-d3d0-4b2f-8f1a-383232b1216c",
     "371fa801-02fc-4c68-80ee-6d57695c7141"
    ],
    "8c08031f-58de-4f72-8613-9b5383c45f6b": [],
    "8c2f4391-cccb-4571-919d-46bba0ade78c": [],
    "8ed04ce4-449b-403a-97f6-2b0481f68a79": [],
    "929e2cda-a8d0-4671-8440-de44071c81fb": [
     "f884e0fd-600f-4c22-b765-310aec417d7b",
     "2d2fa1e0-12da-4e7a-a1af-cbba3d8d0b4c",
     "9eb7e7e6-9b02-448e-a201-eb5d386aeabc",
     "1e59f0fa-218d-4210-8cc0-06896affa2a6"
    ],
    "959049a9-e728-44ba-81ab-90dd5c785145": [],
    "981ba838-d1be-4177-87c9-80b2a4a680f0": [
     "b94a7ef1-8651-4f6d-9874-87a5d216492d",
     "929e2cda-a8d0-4671-8440-de44071c81fb"
    ],
    "9bcafc05-d3f1-48dd-b427-5c1311e2147b": [
     "a0b600f5-bb63-4ac7-91ac-4c8837b58e48"
    ],
    "9e02ee61-3956-4389-aa04-70ae5846a2cb": [],
    "9eb7e7e6-9b02-448e-a201-eb5d386aeabc": [
     "1e59f0fa-218d-4210-8cc0-06896affa2a6"
    ],
    "a0b600f5-bb63-4ac7-91ac-4c8837b58e48": [],
    "a5186e0a-619f-476d-95b2-803615ec564a": [
     "1e1244c1-1b99-4e43-9d69-b18572b431ca",
     "7c0bbe10-9f0e-4e3d-b8b7-1f2a7d16c584",
     "89144ec8-6583-4d10-9b45-32f42b58c1d7",
     "959049a9-e728-44ba-81ab-90dd5c785145",
     "3fef7b10-fda0-4241-9009-6e5f6f07c583",
     "d2736511-c93a-4c42-bcd5-192d86aabf28",
     "4313ca02-75e5-45fc-b295-2d8fd6b0ec42",
     "c6e7dbff-25ce-402a-965c-a640340f74d0",
     "ac85da3c-0803-4d19-ae49-04c7066135f6",
     "bd08ca76-9a28-4cdf-a825-9f264f76332b",
     "e2b404a3-349f-4225-b879-157ed478e77b",
     "8ed04ce4-449b-403a-97f6-2b0481f68a79",
     "c19ac1d5-83e4-49e1-9dbf-5b8610da8443",
     "88584683-2dce-4c6a-bc72-5e7bdf526ba9",
     "5ab85f37-1346-4308-afac-7eb7b694e0d0"
    ],
    "a7f979bb-313c-4105-a7bd-cf4cbf3bf6e2": [
     "d40d89c3-d52a-407b-bd47-82d97d89fc3f",
     "9eb7e7e6-9b02-448e-a201-eb5d386aeabc",
     "1e59f0fa-218d-4210-8cc0-06896affa2a6"
    ],
    "ac85da3c-0803-4d19-ae49-04c7066135f6": [],
    "b563e597-9957-416e-bd7d-6dd257f53fcb": [],
    "b894a6aa-ae30-4c5a-809f-68d957c2fec1": [
     "9bcafc05-d3f1-48dd-b427-5c1311e2147b"
    ],
    "b94a7ef1-8651-4f6d-9874-87a5d216492d": [],
    "ba0d1e0f-9a37-4f68-849e-43e345dc382d": [],
    "ba7bf6e9-7d3f-4a2b-ae48-559ad5b896cf": [],
    "bc135af6-929a-451f-a6de-739a19d84642": [
     "b94a7ef1-8651-4f6d-9874-87a5d216492d",
     "d101c35a-d919-4e74-a171-9d9fa67dafb5",
     "9e02ee61-3956-4389-aa04-70ae5846a2cb",
     "89144ec8-6583-4d10-9b45-32f42b58c1d7",
     "c904e54b-f018-4eff-9815-fdd6cb31baab",
     "9eb7e7e6-9b02-448e-a201-eb5d386aeabc",
     "0fdc8a4e-edf6-40f4-a60e-70db126c9e70",
     "d40d89c3-d52a-407b-bd47-82d97d89fc3f",
     "2d2fa1e0-12da-4e7a-a1af-cbba3d8d0b4c",
     "981ba838-d1be-4177-87c9-80b2a4a680f0",
     "929e2cda-a8d0-4671-8440-de44071c81fb",
     "2f4deaf7-d76c-4ea5-99fc-86992b571a54",
     "1e59f0fa-218d-4210-8cc0-06896affa2a6"
    ],
    "bd08ca76-9a28-4cdf-a825-9f264f76332b": [
     "d1dd27e8-68fe-4a99-bc58-b34da8496763",
     "4f018f95-fc97-4cb8-9330-5f928f67b72c",
     "9e02ee61-3956-4389-aa04-70ae5846a2cb",
     "e8114290-036c-4269-b6a5-cf96deac11c9"
    ],
    "c19ac1d5-83e4-49e1-9dbf-5b8610da8443": [],
    "c677ae29-e24f-499e-be37-2163e7c7d164": [],
    "c6e7dbff-25ce-402a-965c-a640340f74d0": [],
    "c71e8a0f-143c-41e0-a6ef-901f1dd63df4": [],
    "c904e54b-f018-4eff-9815-fdd6cb31baab": [
     "5bca1b91-3698-41a1-ae41-757a76f01a78",
     "0fdc8a4e-edf6-40f4-a60e-70db126c9e70",
     "981ba838-d1be-4177-87c9-80b2a4a680f0",
     "d40d89c3-d52a-407b-bd47-82d97d89fc3f"
    ],
    "c96682d8-342a-4109-b69d-c9f095ea6fb0": [
     "d40d89c3-d52a-407b-bd47-82d97d89fc3f",
     "9e02ee61-3956-4389-aa04-70ae5846a2cb",
     "710ac956-1b88-41e2-9999-3c134678e39e",
     "0d8bdb37-ce46-4607-b45c-3c2a39174361",
     "1e59f0fa-218d-4210-8cc0-06896affa2a6",
     "b894a6aa-ae30-4c5a-809f-68d957c2fec1",
     "b94a7ef1-8651-4f6d-9874-87a5d216492d",
     "9eb7e7e6-9b02-448e-a201-eb5d386aeabc",
     "c904e54b-f018-4eff-9815-fdd6cb31baab",
     "d2736511-c93a-4c42-bcd5-192d86aabf28",
     "e8114290-036c-4269-b6a5-cf96deac11c9",
     "a5186e0a-619f-476d-95b2-803615ec564a",
     "9bcafc05-d3f1-48dd-b427-5c1311e2147b",
     "8ed04ce4-449b-403a-97f6-2b0481f68a79",
     "d1dd27e8-68fe-4a99-bc58-b34da8496763",
     "5bca1b91-3698-41a1-ae41-757a76f01a78",
     "981ba838-d1be-4177-87c9-80b2a4a680f0",
     "c6e7dbff-25ce-402a-965c-a640340f74d0",
     "5b89dca9-fec3-49eb-a555-ff33501ec306"
    ],
    "cdfc8030-38b5-4265-84ee-10d7a144d8f6": [
     "b94a7ef1-8651-4f6d-9874-87a5d216492d",
     "9eb7e7e6-9b02-448e-a201-eb5d386aeabc",
     "c904e54b-f018-4eff-9815-fdd6cb31baab",
     "d40d89c3-d52a-407b-bd47-82d97d89fc3f",
     "981ba838-d1be-4177-87c9-80b2a4a680f0",
     "1e59f0fa-218d-4210-8cc0-06896affa2a6"
    ],
    "d101c35a-d919-4e74-a171-9d9fa67dafb5": [
     "2a186bb0-0d55-444e-be5b-b04682f8db79",
     "b94a7ef1-8651-4f6d-9874-87a5d216492d",
     "2d2fa1e0-12da-4e7a-a1af-cbba3d8d0b4c",
     "9eb7e7e6-9b02-448e-a201-eb5d386aeabc"
    ],
    "d1544363-415b-4078-8834-e6d025e9b5ee": [],
    "d1dd27e8-68fe-4a99-bc58-b34da8496763": [],
    "d2736511-c93a-4c42-bcd5-192d86aabf28": [],
    "d40d89c3-d52a-407b-bd47-82d97d89fc3f": [
     "5bca1b91-3698-41a1-ae41-757a76f01a78",
     "dc3c1844-7119-4f42-b219-62f9b92258d4"
    ],
    "d493f773-b786-44fe-87e4-cf15a1ba6c18": [
     "24666421-27d0-4a34-b78d-ad4903df1cc1"
    ],
    "d4ac695d-98be-4a96-ab4e-d2f7f225799d": [],
    "d577c605-0551-4712-8079-18d91d836ef7": [],
    "dc3c1844-7119-4f42-b219-62f9b92258d4": [
     "d493f773-b786-44fe-87e4-cf15a1ba6c18"
    ],
    "e2b404a3-349f-4225-b879-157ed478e77b": [],
    "e8114290-036c-4269-b6a5-cf96deac11c9": [
     "a0b600f5-bb63-4ac7-91ac-4c8837b58e48",
     "4f018f95-fc97-4cb8-9330-5f928f67b72c"
    ],
    "ecbaffd6-d03c-447c-934e-a638b122a4f0": [],
    "ed9ab9bb-4a25-420d-979d-b00d2ba255db": [],
    "f7a64779-ed5b-40fe-8000-3a58aa41232d": [],
    "f884e0fd-600f-4c22-b765-310aec417d7b": []
   },
   "cell_parents": {
    "0d8bdb37-ce46-4607-b45c-3c2a39174361": [
     "531bd674-d3d0-4b2f-8f1a-383232b1216c",
     "c96682d8-342a-4109-b69d-c9f095ea6fb0"
    ],
    "0f0fc052-7ff3-428c-8be0-f45dff29e603": [
     "c904e54b-f018-4eff-9815-fdd6cb31baab"
    ],
    "0fdc8a4e-edf6-40f4-a60e-70db126c9e70": [
     "bc135af6-929a-451f-a6de-739a19d84642",
     "c904e54b-f018-4eff-9815-fdd6cb31baab"
    ],
    "113e1733-3596-4b08-b981-c742110249fa": [],
    "1b869c92-c3f4-4563-8f07-2794cac01406": [],
    "1c6d253a-7723-42ba-972b-a192e7aed86e": [],
    "1e1244c1-1b99-4e43-9d69-b18572b431ca": [
     "a5186e0a-619f-476d-95b2-803615ec564a"
    ],
    "1e59f0fa-218d-4210-8cc0-06896affa2a6": [
     "c96682d8-342a-4109-b69d-c9f095ea6fb0",
     "9eb7e7e6-9b02-448e-a201-eb5d386aeabc",
     "cdfc8030-38b5-4265-84ee-10d7a144d8f6",
     "929e2cda-a8d0-4671-8440-de44071c81fb",
     "a7f979bb-313c-4105-a7bd-cf4cbf3bf6e2",
     "bc135af6-929a-451f-a6de-739a19d84642"
    ],
    "24666421-27d0-4a34-b78d-ad4903df1cc1": [
     "d493f773-b786-44fe-87e4-cf15a1ba6c18",
     "89144ec8-6583-4d10-9b45-32f42b58c1d7"
    ],
    "2a186bb0-0d55-444e-be5b-b04682f8db79": [
     "d101c35a-d919-4e74-a171-9d9fa67dafb5"
    ],
    "2d29bb3f-a718-4929-be8e-3fc4dfecaa3f": [],
    "2d2fa1e0-12da-4e7a-a1af-cbba3d8d0b4c": [
     "929e2cda-a8d0-4671-8440-de44071c81fb",
     "bc135af6-929a-451f-a6de-739a19d84642",
     "d101c35a-d919-4e74-a171-9d9fa67dafb5"
    ],
    "2f4deaf7-d76c-4ea5-99fc-86992b571a54": [
     "bc135af6-929a-451f-a6de-739a19d84642"
    ],
    "33f4a109-1395-4d15-ae59-fa2c2b26d4db": [],
    "371fa801-02fc-4c68-80ee-6d57695c7141": [
     "89144ec8-6583-4d10-9b45-32f42b58c1d7"
    ],
    "3db7a537-9c67-47d7-8311-b48ccf8a60f7": [],
    "3fef7b10-fda0-4241-9009-6e5f6f07c583": [
     "a5186e0a-619f-476d-95b2-803615ec564a"
    ],
    "40f8dd97-2704-4577-8808-5b947076c3d0": [],
    "4313ca02-75e5-45fc-b295-2d8fd6b0ec42": [
     "a5186e0a-619f-476d-95b2-803615ec564a"
    ],
    "49da5003-d54d-492f-839c-30239e82e303": [],
    "4f018f95-fc97-4cb8-9330-5f928f67b72c": [
     "bd08ca76-9a28-4cdf-a825-9f264f76332b",
     "e8114290-036c-4269-b6a5-cf96deac11c9"
    ],
    "4fc87433-4b23-49fa-898f-2bb1abf02502": [],
    "531bd674-d3d0-4b2f-8f1a-383232b1216c": [
     "89144ec8-6583-4d10-9b45-32f42b58c1d7"
    ],
    "583c175d-114b-4b77-86d4-91e264c4961f": [
     "5bca1b91-3698-41a1-ae41-757a76f01a78"
    ],
    "5a1dab9a-8d3b-4f96-9a96-a2ad5cf3dde6": [],
    "5ab85f37-1346-4308-afac-7eb7b694e0d0": [
     "a5186e0a-619f-476d-95b2-803615ec564a"
    ],
    "5b898c2b-867a-45dc-8007-32cbb0a93836": [],
    "5b89dca9-fec3-49eb-a555-ff33501ec306": [
     "531bd674-d3d0-4b2f-8f1a-383232b1216c",
     "0d8bdb37-ce46-4607-b45c-3c2a39174361",
     "c96682d8-342a-4109-b69d-c9f095ea6fb0"
    ],
    "5bca1b91-3698-41a1-ae41-757a76f01a78": [
     "c96682d8-342a-4109-b69d-c9f095ea6fb0",
     "d40d89c3-d52a-407b-bd47-82d97d89fc3f",
     "c904e54b-f018-4eff-9815-fdd6cb31baab"
    ],
    "61914d90-129e-4719-873b-d6c6beb807d6": [],
    "696c5e29-bf39-41d8-8b0f-9944182fa4de": [],
    "6b7d2222-6db3-43ff-87b6-086b82b91da7": [],
    "710ac956-1b88-41e2-9999-3c134678e39e": [
     "c96682d8-342a-4109-b69d-c9f095ea6fb0"
    ],
    "7c0bbe10-9f0e-4e3d-b8b7-1f2a7d16c584": [
     "a5186e0a-619f-476d-95b2-803615ec564a"
    ],
    "85596f52-2e4b-4999-b63d-75c37b02d4d0": [],
    "87d4ba60-d4a3-4187-ba47-c56f5e2e9e7b": [],
    "88584683-2dce-4c6a-bc72-5e7bdf526ba9": [
     "a5186e0a-619f-476d-95b2-803615ec564a"
    ],
    "89144ec8-6583-4d10-9b45-32f42b58c1d7": [
     "a5186e0a-619f-476d-95b2-803615ec564a",
     "bc135af6-929a-451f-a6de-739a19d84642"
    ],
    "8c08031f-58de-4f72-8613-9b5383c45f6b": [],
    "8c2f4391-cccb-4571-919d-46bba0ade78c": [],
    "8ed04ce4-449b-403a-97f6-2b0481f68a79": [
     "a5186e0a-619f-476d-95b2-803615ec564a",
     "c96682d8-342a-4109-b69d-c9f095ea6fb0"
    ],
    "929e2cda-a8d0-4671-8440-de44071c81fb": [
     "5b89dca9-fec3-49eb-a555-ff33501ec306",
     "bc135af6-929a-451f-a6de-739a19d84642",
     "981ba838-d1be-4177-87c9-80b2a4a680f0"
    ],
    "959049a9-e728-44ba-81ab-90dd5c785145": [
     "a5186e0a-619f-476d-95b2-803615ec564a"
    ],
    "981ba838-d1be-4177-87c9-80b2a4a680f0": [
     "c904e54b-f018-4eff-9815-fdd6cb31baab",
     "cdfc8030-38b5-4265-84ee-10d7a144d8f6",
     "bc135af6-929a-451f-a6de-739a19d84642",
     "2f4deaf7-d76c-4ea5-99fc-86992b571a54",
     "c96682d8-342a-4109-b69d-c9f095ea6fb0",
     "5b89dca9-fec3-49eb-a555-ff33501ec306"
    ],
    "9bcafc05-d3f1-48dd-b427-5c1311e2147b": [
     "710ac956-1b88-41e2-9999-3c134678e39e",
     "c96682d8-342a-4109-b69d-c9f095ea6fb0",
     "b894a6aa-ae30-4c5a-809f-68d957c2fec1"
    ],
    "9e02ee61-3956-4389-aa04-70ae5846a2cb": [
     "bd08ca76-9a28-4cdf-a825-9f264f76332b",
     "c96682d8-342a-4109-b69d-c9f095ea6fb0",
     "bc135af6-929a-451f-a6de-739a19d84642",
     "89144ec8-6583-4d10-9b45-32f42b58c1d7"
    ],
    "9eb7e7e6-9b02-448e-a201-eb5d386aeabc": [
     "c96682d8-342a-4109-b69d-c9f095ea6fb0",
     "d101c35a-d919-4e74-a171-9d9fa67dafb5",
     "cdfc8030-38b5-4265-84ee-10d7a144d8f6",
     "929e2cda-a8d0-4671-8440-de44071c81fb",
     "a7f979bb-313c-4105-a7bd-cf4cbf3bf6e2",
     "bc135af6-929a-451f-a6de-739a19d84642"
    ],
    "a0b600f5-bb63-4ac7-91ac-4c8837b58e48": [
     "9bcafc05-d3f1-48dd-b427-5c1311e2147b",
     "7c0bbe10-9f0e-4e3d-b8b7-1f2a7d16c584",
     "e8114290-036c-4269-b6a5-cf96deac11c9"
    ],
    "a5186e0a-619f-476d-95b2-803615ec564a": [
     "c96682d8-342a-4109-b69d-c9f095ea6fb0"
    ],
    "a7f979bb-313c-4105-a7bd-cf4cbf3bf6e2": [],
    "ac85da3c-0803-4d19-ae49-04c7066135f6": [
     "a5186e0a-619f-476d-95b2-803615ec564a"
    ],
    "b563e597-9957-416e-bd7d-6dd257f53fcb": [],
    "b894a6aa-ae30-4c5a-809f-68d957c2fec1": [
     "c96682d8-342a-4109-b69d-c9f095ea6fb0"
    ],
    "b94a7ef1-8651-4f6d-9874-87a5d216492d": [
     "d101c35a-d919-4e74-a171-9d9fa67dafb5",
     "cdfc8030-38b5-4265-84ee-10d7a144d8f6",
     "981ba838-d1be-4177-87c9-80b2a4a680f0",
     "bc135af6-929a-451f-a6de-739a19d84642",
     "2f4deaf7-d76c-4ea5-99fc-86992b571a54",
     "c96682d8-342a-4109-b69d-c9f095ea6fb0"
    ],
    "ba0d1e0f-9a37-4f68-849e-43e345dc382d": [],
    "ba7bf6e9-7d3f-4a2b-ae48-559ad5b896cf": [],
    "bc135af6-929a-451f-a6de-739a19d84642": [],
    "bd08ca76-9a28-4cdf-a825-9f264f76332b": [
     "a5186e0a-619f-476d-95b2-803615ec564a"
    ],
    "c19ac1d5-83e4-49e1-9dbf-5b8610da8443": [
     "a5186e0a-619f-476d-95b2-803615ec564a"
    ],
    "c677ae29-e24f-499e-be37-2163e7c7d164": [
     "a5186e0a-619f-476d-95b2-803615ec564a",
     "7c0bbe10-9f0e-4e3d-b8b7-1f2a7d16c584"
    ],
    "c6e7dbff-25ce-402a-965c-a640340f74d0": [
     "a5186e0a-619f-476d-95b2-803615ec564a",
     "7c0bbe10-9f0e-4e3d-b8b7-1f2a7d16c584",
     "c96682d8-342a-4109-b69d-c9f095ea6fb0"
    ],
    "c71e8a0f-143c-41e0-a6ef-901f1dd63df4": [],
    "c904e54b-f018-4eff-9815-fdd6cb31baab": [
     "cdfc8030-38b5-4265-84ee-10d7a144d8f6",
     "bc135af6-929a-451f-a6de-739a19d84642",
     "0d8bdb37-ce46-4607-b45c-3c2a39174361",
     "2f4deaf7-d76c-4ea5-99fc-86992b571a54",
     "c96682d8-342a-4109-b69d-c9f095ea6fb0"
    ],
    "c96682d8-342a-4109-b69d-c9f095ea6fb0": [],
    "cdfc8030-38b5-4265-84ee-10d7a144d8f6": [],
    "d101c35a-d919-4e74-a171-9d9fa67dafb5": [
     "bc135af6-929a-451f-a6de-739a19d84642",
     "89144ec8-6583-4d10-9b45-32f42b58c1d7"
    ],
    "d1544363-415b-4078-8834-e6d025e9b5ee": [],
    "d1dd27e8-68fe-4a99-bc58-b34da8496763": [
     "bd08ca76-9a28-4cdf-a825-9f264f76332b",
     "c96682d8-342a-4109-b69d-c9f095ea6fb0"
    ],
    "d2736511-c93a-4c42-bcd5-192d86aabf28": [
     "a5186e0a-619f-476d-95b2-803615ec564a",
     "c96682d8-342a-4109-b69d-c9f095ea6fb0"
    ],
    "d40d89c3-d52a-407b-bd47-82d97d89fc3f": [
     "c904e54b-f018-4eff-9815-fdd6cb31baab",
     "cdfc8030-38b5-4265-84ee-10d7a144d8f6",
     "bc135af6-929a-451f-a6de-739a19d84642",
     "1e59f0fa-218d-4210-8cc0-06896affa2a6",
     "a7f979bb-313c-4105-a7bd-cf4cbf3bf6e2",
     "c96682d8-342a-4109-b69d-c9f095ea6fb0"
    ],
    "d493f773-b786-44fe-87e4-cf15a1ba6c18": [
     "dc3c1844-7119-4f42-b219-62f9b92258d4"
    ],
    "d4ac695d-98be-4a96-ab4e-d2f7f225799d": [],
    "d577c605-0551-4712-8079-18d91d836ef7": [],
    "dc3c1844-7119-4f42-b219-62f9b92258d4": [
     "d40d89c3-d52a-407b-bd47-82d97d89fc3f"
    ],
    "e2b404a3-349f-4225-b879-157ed478e77b": [
     "a5186e0a-619f-476d-95b2-803615ec564a"
    ],
    "e8114290-036c-4269-b6a5-cf96deac11c9": [
     "bd08ca76-9a28-4cdf-a825-9f264f76332b",
     "7c0bbe10-9f0e-4e3d-b8b7-1f2a7d16c584",
     "c96682d8-342a-4109-b69d-c9f095ea6fb0"
    ],
    "ecbaffd6-d03c-447c-934e-a638b122a4f0": [],
    "ed9ab9bb-4a25-420d-979d-b00d2ba255db": [],
    "f7a64779-ed5b-40fe-8000-3a58aa41232d": [],
    "f884e0fd-600f-4c22-b765-310aec417d7b": [
     "929e2cda-a8d0-4671-8440-de44071c81fb"
    ]
   }
  },
  "kernelspec": {
   "display_name": "Riskenv",
   "language": "python",
   "name": "python3"
  },
  "language_info": {
   "codemirror_mode": {
    "name": "ipython",
    "version": 3
   },
   "file_extension": ".py",
   "mimetype": "text/x-python",
   "name": "python",
   "nbconvert_exporter": "python",
   "pygments_lexer": "ipython3",
   "version": "3.12.3"
  }
 },
 "nbformat": 4,
 "nbformat_minor": 5
}
